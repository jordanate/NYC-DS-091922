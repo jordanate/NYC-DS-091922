{
 "cells": [
  {
   "cell_type": "markdown",
   "metadata": {
    "slideshow": {
     "slide_type": "slide"
    }
   },
   "source": [
    "<div style=\"color:white;\n",
    "           display:fill;\n",
    "           border-radius:5px;\n",
    "           background-color:#5642C5;\n",
    "           font-size:200%;\n",
    "           font-family:Arial;letter-spacing:0.5px\">\n",
    "\n",
    "<p width = 20%, style=\"padding: 10px;\n",
    "              color:white;\">\n",
    "Agglomerative Hierarchical Clustering\n",
    "              \n",
    "</p>\n",
    "</div>\n",
    "\n",
    "Data Science Cohort Live NYC Nov 2022\n",
    "<p>Phase 4: Topic 33</p>\n",
    "<br>\n",
    "<br>\n",
    "\n",
    "<div align = \"right\">\n",
    "<img src=\"Images/flatiron-school-logo.png\" align = \"right\" width=\"200\"/>\n",
    "</div>\n",
    "    \n",
    "    "
   ]
  },
  {
   "cell_type": "code",
   "execution_count": 2,
   "metadata": {
    "slideshow": {
     "slide_type": "skip"
    }
   },
   "outputs": [],
   "source": [
    "# Imports\n",
    "\n",
    "import sys, os\n",
    "import seaborn as sns\n",
    "ex_path = os.path.abspath(os.pardir)\n",
    "if ex_path not in sys.path:\n",
    "    sys.path.append(ex_path)\n",
    "\n",
    "from src.hier_example import *\n",
    "from sklearn.datasets import make_blobs\n",
    "from src.av_link_agglom_clust import centrAggClust as ac\n",
    "import numpy as np \n",
    "import pandas as pd\n",
    "import matplotlib.pyplot as plt\n",
    "from scipy.cluster.hierarchy import dendrogram, linkage, cophenet\n",
    "from scipy.spatial.distance import pdist\n",
    "from sklearn.datasets import make_blobs, make_moons, load_iris\n",
    "from sklearn.cluster import AgglomerativeClustering\n",
    "from sklearn.neighbors import KernelDensity\n",
    "from sklearn.metrics import silhouette_score\n",
    "from sklearn.preprocessing import StandardScaler\n",
    "\n",
    "from copy import deepcopy\n",
    "\n",
    "%matplotlib inline"
   ]
  },
  {
   "cell_type": "markdown",
   "metadata": {
    "cell_style": "center",
    "slideshow": {
     "slide_type": "slide"
    }
   },
   "source": [
    "Often grouping within data is **hierarchical**:\n",
    "- organisms: family/genus/species/subspecies/variants\n",
    "\n",
    "- cosmic structure: superclusters, local superclusters, clusters/groups, galaxies"
   ]
  },
  {
   "cell_type": "markdown",
   "metadata": {
    "cell_style": "center",
    "slideshow": {
     "slide_type": "slide"
    }
   },
   "source": [
    "<center><img src = \"Images/superclster.png\" width = 800/></center>\n",
    "<center> Laniakea galactic supercluster </center>"
   ]
  },
  {
   "cell_type": "markdown",
   "metadata": {
    "slideshow": {
     "slide_type": "slide"
    }
   },
   "source": [
    "In many cases: \n",
    "- only have data\n",
    "- want to discover multilevel cluster hierarchy"
   ]
  },
  {
   "cell_type": "markdown",
   "metadata": {
    "cell_style": "center",
    "slideshow": {
     "slide_type": "fragment"
    }
   },
   "source": [
    "KMeans was not designed for this task:\n",
    "- \"Flat\" clustering vs discovering group hierarchies."
   ]
  },
  {
   "cell_type": "markdown",
   "metadata": {
    "slideshow": {
     "slide_type": "slide"
    }
   },
   "source": [
    "#### Agglomerative Hierarchical Clustering"
   ]
  },
  {
   "cell_type": "markdown",
   "metadata": {
    "cell_style": "split",
    "slideshow": {
     "slide_type": "fragment"
    }
   },
   "source": [
    "Idea is:\n",
    "- Group nearest neighbor members\n",
    "- Based on some similarity/distance scheme.\n",
    "- Then repeat.\n",
    "- Finds higher order grouping at each stage."
   ]
  },
  {
   "cell_type": "markdown",
   "metadata": {
    "cell_style": "split",
    "slideshow": {
     "slide_type": "fragment"
    }
   },
   "source": [
    "<center><img src = \"Images/hierarch.gif\" /></center>\n",
    "<center> Agglomerates at each stage. </center>"
   ]
  },
  {
   "cell_type": "markdown",
   "metadata": {
    "slideshow": {
     "slide_type": "slide"
    }
   },
   "source": [
    "Clearly a bottom-up approach:\n",
    "- Use data, metric/agglomeration scheme to discover hierarchies."
   ]
  },
  {
   "cell_type": "markdown",
   "metadata": {
    "slideshow": {
     "slide_type": "slide"
    }
   },
   "source": [
    "#### Decision making on cluster merging"
   ]
  },
  {
   "cell_type": "markdown",
   "metadata": {
    "cell_style": "center",
    "slideshow": {
     "slide_type": "fragment"
    }
   },
   "source": [
    "Distance notions:\n",
    "- Euclidean or Manhattan distance\n",
    "- Hamming distance\n",
    "- Damerau-Levenshtein distance\n"
   ]
  },
  {
   "cell_type": "markdown",
   "metadata": {
    "cell_style": "center",
    "slideshow": {
     "slide_type": "slide"
    }
   },
   "source": [
    "String comparison: Damerau-Levenshtein distance\n",
    "- Number of operations: insertions, deletions, substitutions \n",
    "- Transposition of two adjacent characters.\n",
    "\n",
    "<img src = \"Images/damerau.gif\" />\n"
   ]
  },
  {
   "cell_type": "markdown",
   "metadata": {
    "cell_style": "split",
    "slideshow": {
     "slide_type": "slide"
    }
   },
   "source": [
    "#### Merge criterion: cluster distance evaluation\n",
    "\n",
    "Given a distance measure: still there are different ways to evaluate **cluster** distance.\n",
    "\n",
    "- Known as **linkage** (i.e. how do we link clusters?)\n"
   ]
  },
  {
   "cell_type": "markdown",
   "metadata": {
    "cell_style": "split",
    "slideshow": {
     "slide_type": "fragment"
    }
   },
   "source": [
    "Merge clusters with minimum linkage value"
   ]
  },
  {
   "cell_type": "markdown",
   "metadata": {
    "cell_style": "split",
    "slideshow": {
     "slide_type": "fragment"
    }
   },
   "source": [
    "<img src = \"Images/linkage_type.png\" />"
   ]
  },
  {
   "cell_type": "markdown",
   "metadata": {
    "slideshow": {
     "slide_type": "slide"
    }
   },
   "source": [
    "### Types of hierarchical agglomerative clustering \n",
    "\n",
    "The way that distance is measured between clusters is called the model's **linkage**.\n",
    "\n",
    "- Single Linkage \n",
    "    -  Minimum pair-wise distance: for any two clusters, take one observation from each and determine their distance. Do this over and over, until you have identified the overall minimum pair-wise distance. \n",
    "- Complete Linkage\n",
    "    -  Complete linkage may be defined as the furthest (or maximum) distance between two clusters. That is, all possible pairwise distances between elements (one from cluster A and one from B) are evaluated and the largest value is used as the distance between clusters A & B. This is sometimes called complete linkage and is also called furthest neighbor.\n",
    "- Average Linkage\n",
    "    - The distance between clusters is defined as the average distance between the data points in the clusters. \n",
    "- Ward Linkage\n",
    "    -  Ward method finds the pair of clusters that leads to minimum increase in total within-cluster variance after merging at each step.\n",
    "\n",
    "Each linkage method has it's uses:\n",
    "\n",
    "[This article](https://towardsdatascience.com/understanding-the-concept-of-hierarchical-clustering-technique-c6e8243758ec) describes the pros and cons of each approach."
   ]
  },
  {
   "cell_type": "markdown",
   "metadata": {
    "slideshow": {
     "slide_type": "slide"
    }
   },
   "source": [
    "#### Agglomerative Hierarchical Clustering in Python\n",
    "- See it in action"
   ]
  },
  {
   "cell_type": "markdown",
   "metadata": {
    "cell_style": "center",
    "slideshow": {
     "slide_type": "slide"
    }
   },
   "source": [
    "- Scipy has nice functionality for this."
   ]
  },
  {
   "cell_type": "code",
   "execution_count": 3,
   "metadata": {
    "slideshow": {
     "slide_type": "fragment"
    }
   },
   "outputs": [],
   "source": [
    "# defines metric and calculates pair-wise distance between points \n",
    "from scipy.spatial.distance import pdist \n",
    "\n",
    "#for reshaping distance matrix \n",
    "from scipy.spatial.distance import squareform\n"
   ]
  },
  {
   "cell_type": "markdown",
   "metadata": {
    "slideshow": {
     "slide_type": "slide"
    }
   },
   "source": [
    "Load in some data"
   ]
  },
  {
   "cell_type": "code",
   "execution_count": 4,
   "metadata": {
    "cell_style": "split",
    "slideshow": {
     "slide_type": "fragment"
    }
   },
   "outputs": [
    {
     "data": {
      "text/html": [
       "<div>\n",
       "<style scoped>\n",
       "    .dataframe tbody tr th:only-of-type {\n",
       "        vertical-align: middle;\n",
       "    }\n",
       "\n",
       "    .dataframe tbody tr th {\n",
       "        vertical-align: top;\n",
       "    }\n",
       "\n",
       "    .dataframe thead th {\n",
       "        text-align: right;\n",
       "    }\n",
       "</style>\n",
       "<table border=\"1\" class=\"dataframe\">\n",
       "  <thead>\n",
       "    <tr style=\"text-align: right;\">\n",
       "      <th></th>\n",
       "      <th>X</th>\n",
       "      <th>Y</th>\n",
       "    </tr>\n",
       "  </thead>\n",
       "  <tbody>\n",
       "    <tr>\n",
       "      <th>0</th>\n",
       "      <td>15.55</td>\n",
       "      <td>28.65</td>\n",
       "    </tr>\n",
       "    <tr>\n",
       "      <th>1</th>\n",
       "      <td>14.90</td>\n",
       "      <td>27.55</td>\n",
       "    </tr>\n",
       "    <tr>\n",
       "      <th>2</th>\n",
       "      <td>14.45</td>\n",
       "      <td>28.35</td>\n",
       "    </tr>\n",
       "    <tr>\n",
       "      <th>3</th>\n",
       "      <td>14.15</td>\n",
       "      <td>28.80</td>\n",
       "    </tr>\n",
       "    <tr>\n",
       "      <th>4</th>\n",
       "      <td>13.75</td>\n",
       "      <td>28.05</td>\n",
       "    </tr>\n",
       "  </tbody>\n",
       "</table>\n",
       "</div>"
      ],
      "text/plain": [
       "       X      Y\n",
       "0  15.55  28.65\n",
       "1  14.90  27.55\n",
       "2  14.45  28.35\n",
       "3  14.15  28.80\n",
       "4  13.75  28.05"
      ]
     },
     "execution_count": 4,
     "metadata": {},
     "output_type": "execute_result"
    }
   ],
   "source": [
    "import pandas as pd\n",
    "agg_data = pd.read_csv('Data/Aggregation.txt', header = None, usecols = [0,1], delimiter = '\\t')\n",
    "agg_data.columns = ['X', 'Y']\n",
    "agg_data.head()"
   ]
  },
  {
   "cell_type": "code",
   "execution_count": 5,
   "metadata": {
    "cell_style": "split",
    "slideshow": {
     "slide_type": "fragment"
    }
   },
   "outputs": [
    {
     "name": "stdout",
     "output_type": "stream",
     "text": [
      "<class 'pandas.core.frame.DataFrame'>\n",
      "RangeIndex: 788 entries, 0 to 787\n",
      "Data columns (total 2 columns):\n",
      " #   Column  Non-Null Count  Dtype  \n",
      "---  ------  --------------  -----  \n",
      " 0   X       788 non-null    float64\n",
      " 1   Y       788 non-null    float64\n",
      "dtypes: float64(2)\n",
      "memory usage: 12.4 KB\n"
     ]
    }
   ],
   "source": [
    "agg_data.info()"
   ]
  },
  {
   "cell_type": "code",
   "execution_count": 6,
   "metadata": {
    "cell_style": "split",
    "slideshow": {
     "slide_type": "slide"
    }
   },
   "outputs": [
    {
     "data": {
      "image/png": "[encoded data removed]",
      "text/plain": [
       "<Figure size 432x288 with 1 Axes>"
      ]
     },
     "metadata": {
      "needs_background": "light"
     },
     "output_type": "display_data"
    }
   ],
   "source": [
    "agg_data.plot(x = 'X', y = 'Y', kind = 'scatter');"
   ]
  },
  {
   "cell_type": "markdown",
   "metadata": {
    "cell_style": "split",
    "slideshow": {
     "slide_type": "fragment"
    }
   },
   "source": [
    "Some hierarchical grouping here."
   ]
  },
  {
   "cell_type": "markdown",
   "metadata": {
    "cell_style": "center",
    "slideshow": {
     "slide_type": "slide"
    }
   },
   "source": [
    "At each step:\n",
    "\n",
    "- algorithm calculates matrix of linkage distances between clusters"
   ]
  },
  {
   "cell_type": "code",
   "execution_count": 7,
   "metadata": {
    "cell_style": "center",
    "slideshow": {
     "slide_type": "fragment"
    }
   },
   "outputs": [
    {
     "data": {
      "text/plain": [
       "array([1.27769323, 1.14017543, 1.40801278, ..., 0.5       , 0.82764727,\n",
       "       0.45276926])"
      ]
     },
     "execution_count": 7,
     "metadata": {},
     "output_type": "execute_result"
    }
   ],
   "source": [
    "#computes the pairwise distance and returns a condensed array\n",
    "#removes diagonal terms and flattens array\n",
    "condensed_dist = pdist(agg_data, metric = 'euclidean' ) \n",
    "condensed_dist"
   ]
  },
  {
   "cell_type": "markdown",
   "metadata": {
    "slideshow": {
     "slide_type": "slide"
    }
   },
   "source": [
    "Inspect in familiar matrix form\n",
    "- Each column(row) indexes cluster\n",
    "- Starting: each data points is their own cluster."
   ]
  },
  {
   "cell_type": "code",
   "execution_count": 8,
   "metadata": {
    "cell_style": "center",
    "slideshow": {
     "slide_type": "fragment"
    }
   },
   "outputs": [
    {
     "data": {
      "text/html": [
       "<div>\n",
       "<style scoped>\n",
       "    .dataframe tbody tr th:only-of-type {\n",
       "        vertical-align: middle;\n",
       "    }\n",
       "\n",
       "    .dataframe tbody tr th {\n",
       "        vertical-align: top;\n",
       "    }\n",
       "\n",
       "    .dataframe thead th {\n",
       "        text-align: right;\n",
       "    }\n",
       "</style>\n",
       "<table border=\"1\" class=\"dataframe\">\n",
       "  <thead>\n",
       "    <tr style=\"text-align: right;\">\n",
       "      <th></th>\n",
       "      <th>0</th>\n",
       "      <th>1</th>\n",
       "      <th>2</th>\n",
       "      <th>3</th>\n",
       "      <th>4</th>\n",
       "      <th>5</th>\n",
       "      <th>6</th>\n",
       "      <th>7</th>\n",
       "      <th>8</th>\n",
       "      <th>9</th>\n",
       "      <th>...</th>\n",
       "      <th>778</th>\n",
       "      <th>779</th>\n",
       "      <th>780</th>\n",
       "      <th>781</th>\n",
       "      <th>782</th>\n",
       "      <th>783</th>\n",
       "      <th>784</th>\n",
       "      <th>785</th>\n",
       "      <th>786</th>\n",
       "      <th>787</th>\n",
       "    </tr>\n",
       "  </thead>\n",
       "  <tbody>\n",
       "    <tr>\n",
       "      <th>0</th>\n",
       "      <td>0.000000</td>\n",
       "      <td>1.277693</td>\n",
       "      <td>1.140175</td>\n",
       "      <td>1.408013</td>\n",
       "      <td>1.897367</td>\n",
       "      <td>2.209072</td>\n",
       "      <td>2.598557</td>\n",
       "      <td>2.394264</td>\n",
       "      <td>2.902585</td>\n",
       "      <td>3.041792</td>\n",
       "      <td>...</td>\n",
       "      <td>26.130107</td>\n",
       "      <td>25.774503</td>\n",
       "      <td>25.347830</td>\n",
       "      <td>25.757572</td>\n",
       "      <td>26.436717</td>\n",
       "      <td>26.460395</td>\n",
       "      <td>26.964050</td>\n",
       "      <td>26.360245</td>\n",
       "      <td>26.182294</td>\n",
       "      <td>25.736793</td>\n",
       "    </tr>\n",
       "    <tr>\n",
       "      <th>1</th>\n",
       "      <td>1.277693</td>\n",
       "      <td>0.000000</td>\n",
       "      <td>0.917878</td>\n",
       "      <td>1.457738</td>\n",
       "      <td>1.253994</td>\n",
       "      <td>1.792345</td>\n",
       "      <td>2.483948</td>\n",
       "      <td>1.450862</td>\n",
       "      <td>1.671077</td>\n",
       "      <td>2.109502</td>\n",
       "      <td>...</td>\n",
       "      <td>24.871269</td>\n",
       "      <td>24.523509</td>\n",
       "      <td>24.104045</td>\n",
       "      <td>24.512242</td>\n",
       "      <td>25.189730</td>\n",
       "      <td>25.220032</td>\n",
       "      <td>25.728632</td>\n",
       "      <td>25.128669</td>\n",
       "      <td>24.944739</td>\n",
       "      <td>24.498265</td>\n",
       "    </tr>\n",
       "    <tr>\n",
       "      <th>2</th>\n",
       "      <td>1.140175</td>\n",
       "      <td>0.917878</td>\n",
       "      <td>0.000000</td>\n",
       "      <td>0.540833</td>\n",
       "      <td>0.761577</td>\n",
       "      <td>1.104536</td>\n",
       "      <td>1.656050</td>\n",
       "      <td>1.312440</td>\n",
       "      <td>2.035927</td>\n",
       "      <td>1.929378</td>\n",
       "      <td>...</td>\n",
       "      <td>25.472976</td>\n",
       "      <td>25.148062</td>\n",
       "      <td>24.746363</td>\n",
       "      <td>25.150795</td>\n",
       "      <td>25.824020</td>\n",
       "      <td>25.869335</td>\n",
       "      <td>26.387876</td>\n",
       "      <td>25.795591</td>\n",
       "      <td>25.600049</td>\n",
       "      <td>25.151789</td>\n",
       "    </tr>\n",
       "    <tr>\n",
       "      <th>3</th>\n",
       "      <td>1.408013</td>\n",
       "      <td>1.457738</td>\n",
       "      <td>0.540833</td>\n",
       "      <td>0.000000</td>\n",
       "      <td>0.850000</td>\n",
       "      <td>0.873212</td>\n",
       "      <td>1.202082</td>\n",
       "      <td>1.476482</td>\n",
       "      <td>2.364847</td>\n",
       "      <td>1.981161</td>\n",
       "      <td>...</td>\n",
       "      <td>25.805135</td>\n",
       "      <td>25.494166</td>\n",
       "      <td>25.103386</td>\n",
       "      <td>25.505392</td>\n",
       "      <td>26.175800</td>\n",
       "      <td>26.230231</td>\n",
       "      <td>26.754672</td>\n",
       "      <td>26.167251</td>\n",
       "      <td>25.964688</td>\n",
       "      <td>25.515485</td>\n",
       "    </tr>\n",
       "    <tr>\n",
       "      <th>4</th>\n",
       "      <td>1.897367</td>\n",
       "      <td>1.253994</td>\n",
       "      <td>0.761577</td>\n",
       "      <td>0.850000</td>\n",
       "      <td>0.000000</td>\n",
       "      <td>0.565685</td>\n",
       "      <td>1.331353</td>\n",
       "      <td>0.626498</td>\n",
       "      <td>1.557241</td>\n",
       "      <td>1.180042</td>\n",
       "      <td>...</td>\n",
       "      <td>24.968831</td>\n",
       "      <td>24.663434</td>\n",
       "      <td>24.277819</td>\n",
       "      <td>24.678584</td>\n",
       "      <td>25.347584</td>\n",
       "      <td>25.406544</td>\n",
       "      <td>25.934147</td>\n",
       "      <td>25.349606</td>\n",
       "      <td>25.143041</td>\n",
       "      <td>24.693370</td>\n",
       "    </tr>\n",
       "    <tr>\n",
       "      <th>...</th>\n",
       "      <td>...</td>\n",
       "      <td>...</td>\n",
       "      <td>...</td>\n",
       "      <td>...</td>\n",
       "      <td>...</td>\n",
       "      <td>...</td>\n",
       "      <td>...</td>\n",
       "      <td>...</td>\n",
       "      <td>...</td>\n",
       "      <td>...</td>\n",
       "      <td>...</td>\n",
       "      <td>...</td>\n",
       "      <td>...</td>\n",
       "      <td>...</td>\n",
       "      <td>...</td>\n",
       "      <td>...</td>\n",
       "      <td>...</td>\n",
       "      <td>...</td>\n",
       "      <td>...</td>\n",
       "      <td>...</td>\n",
       "      <td>...</td>\n",
       "    </tr>\n",
       "    <tr>\n",
       "      <th>783</th>\n",
       "      <td>26.460395</td>\n",
       "      <td>25.220032</td>\n",
       "      <td>25.869335</td>\n",
       "      <td>26.230231</td>\n",
       "      <td>25.406544</td>\n",
       "      <td>25.706274</td>\n",
       "      <td>26.318815</td>\n",
       "      <td>24.802117</td>\n",
       "      <td>23.865509</td>\n",
       "      <td>24.515301</td>\n",
       "      <td>...</td>\n",
       "      <td>1.835756</td>\n",
       "      <td>1.180042</td>\n",
       "      <td>1.151086</td>\n",
       "      <td>0.824621</td>\n",
       "      <td>0.585235</td>\n",
       "      <td>0.000000</td>\n",
       "      <td>0.650000</td>\n",
       "      <td>0.707107</td>\n",
       "      <td>0.360555</td>\n",
       "      <td>0.738241</td>\n",
       "    </tr>\n",
       "    <tr>\n",
       "      <th>784</th>\n",
       "      <td>26.964050</td>\n",
       "      <td>25.728632</td>\n",
       "      <td>26.387876</td>\n",
       "      <td>26.754672</td>\n",
       "      <td>25.934147</td>\n",
       "      <td>26.240808</td>\n",
       "      <td>26.860054</td>\n",
       "      <td>25.332242</td>\n",
       "      <td>24.389854</td>\n",
       "      <td>25.054391</td>\n",
       "      <td>...</td>\n",
       "      <td>2.381701</td>\n",
       "      <td>1.817966</td>\n",
       "      <td>1.761391</td>\n",
       "      <td>1.470544</td>\n",
       "      <td>1.131371</td>\n",
       "      <td>0.650000</td>\n",
       "      <td>0.000000</td>\n",
       "      <td>0.672681</td>\n",
       "      <td>0.801561</td>\n",
       "      <td>1.253994</td>\n",
       "    </tr>\n",
       "    <tr>\n",
       "      <th>785</th>\n",
       "      <td>26.360245</td>\n",
       "      <td>25.128669</td>\n",
       "      <td>25.795591</td>\n",
       "      <td>26.167251</td>\n",
       "      <td>25.349606</td>\n",
       "      <td>25.662473</td>\n",
       "      <td>26.288020</td>\n",
       "      <td>24.750051</td>\n",
       "      <td>23.802783</td>\n",
       "      <td>24.480605</td>\n",
       "      <td>...</td>\n",
       "      <td>2.507987</td>\n",
       "      <td>1.750000</td>\n",
       "      <td>1.408900</td>\n",
       "      <td>1.272792</td>\n",
       "      <td>1.285496</td>\n",
       "      <td>0.707107</td>\n",
       "      <td>0.672681</td>\n",
       "      <td>0.000000</td>\n",
       "      <td>0.500000</td>\n",
       "      <td>0.827647</td>\n",
       "    </tr>\n",
       "    <tr>\n",
       "      <th>786</th>\n",
       "      <td>26.182294</td>\n",
       "      <td>24.944739</td>\n",
       "      <td>25.600049</td>\n",
       "      <td>25.964688</td>\n",
       "      <td>25.143041</td>\n",
       "      <td>25.447446</td>\n",
       "      <td>26.064727</td>\n",
       "      <td>24.540273</td>\n",
       "      <td>23.599841</td>\n",
       "      <td>24.259637</td>\n",
       "      <td>...</td>\n",
       "      <td>2.024846</td>\n",
       "      <td>1.250000</td>\n",
       "      <td>0.982344</td>\n",
       "      <td>0.781025</td>\n",
       "      <td>0.850000</td>\n",
       "      <td>0.360555</td>\n",
       "      <td>0.801561</td>\n",
       "      <td>0.500000</td>\n",
       "      <td>0.000000</td>\n",
       "      <td>0.452769</td>\n",
       "    </tr>\n",
       "    <tr>\n",
       "      <th>787</th>\n",
       "      <td>25.736793</td>\n",
       "      <td>24.498265</td>\n",
       "      <td>25.151789</td>\n",
       "      <td>25.515485</td>\n",
       "      <td>24.693370</td>\n",
       "      <td>24.996850</td>\n",
       "      <td>25.613375</td>\n",
       "      <td>24.090247</td>\n",
       "      <td>23.150648</td>\n",
       "      <td>23.808507</td>\n",
       "      <td>...</td>\n",
       "      <td>1.965960</td>\n",
       "      <td>1.092016</td>\n",
       "      <td>0.583095</td>\n",
       "      <td>0.570088</td>\n",
       "      <td>1.006231</td>\n",
       "      <td>0.738241</td>\n",
       "      <td>1.253994</td>\n",
       "      <td>0.827647</td>\n",
       "      <td>0.452769</td>\n",
       "      <td>0.000000</td>\n",
       "    </tr>\n",
       "  </tbody>\n",
       "</table>\n",
       "<p>788 rows × 788 columns</p>\n",
       "</div>"
      ],
      "text/plain": [
       "           0          1          2          3          4          5    \\\n",
       "0     0.000000   1.277693   1.140175   1.408013   1.897367   2.209072   \n",
       "1     1.277693   0.000000   0.917878   1.457738   1.253994   1.792345   \n",
       "2     1.140175   0.917878   0.000000   0.540833   0.761577   1.104536   \n",
       "3     1.408013   1.457738   0.540833   0.000000   0.850000   0.873212   \n",
       "4     1.897367   1.253994   0.761577   0.850000   0.000000   0.565685   \n",
       "..         ...        ...        ...        ...        ...        ...   \n",
       "783  26.460395  25.220032  25.869335  26.230231  25.406544  25.706274   \n",
       "784  26.964050  25.728632  26.387876  26.754672  25.934147  26.240808   \n",
       "785  26.360245  25.128669  25.795591  26.167251  25.349606  25.662473   \n",
       "786  26.182294  24.944739  25.600049  25.964688  25.143041  25.447446   \n",
       "787  25.736793  24.498265  25.151789  25.515485  24.693370  24.996850   \n",
       "\n",
       "           6          7          8          9    ...        778        779  \\\n",
       "0     2.598557   2.394264   2.902585   3.041792  ...  26.130107  25.774503   \n",
       "1     2.483948   1.450862   1.671077   2.109502  ...  24.871269  24.523509   \n",
       "2     1.656050   1.312440   2.035927   1.929378  ...  25.472976  25.148062   \n",
       "3     1.202082   1.476482   2.364847   1.981161  ...  25.805135  25.494166   \n",
       "4     1.331353   0.626498   1.557241   1.180042  ...  24.968831  24.663434   \n",
       "..         ...        ...        ...        ...  ...        ...        ...   \n",
       "783  26.318815  24.802117  23.865509  24.515301  ...   1.835756   1.180042   \n",
       "784  26.860054  25.332242  24.389854  25.054391  ...   2.381701   1.817966   \n",
       "785  26.288020  24.750051  23.802783  24.480605  ...   2.507987   1.750000   \n",
       "786  26.064727  24.540273  23.599841  24.259637  ...   2.024846   1.250000   \n",
       "787  25.613375  24.090247  23.150648  23.808507  ...   1.965960   1.092016   \n",
       "\n",
       "           780        781        782        783        784        785  \\\n",
       "0    25.347830  25.757572  26.436717  26.460395  26.964050  26.360245   \n",
       "1    24.104045  24.512242  25.189730  25.220032  25.728632  25.128669   \n",
       "2    24.746363  25.150795  25.824020  25.869335  26.387876  25.795591   \n",
       "3    25.103386  25.505392  26.175800  26.230231  26.754672  26.167251   \n",
       "4    24.277819  24.678584  25.347584  25.406544  25.934147  25.349606   \n",
       "..         ...        ...        ...        ...        ...        ...   \n",
       "783   1.151086   0.824621   0.585235   0.000000   0.650000   0.707107   \n",
       "784   1.761391   1.470544   1.131371   0.650000   0.000000   0.672681   \n",
       "785   1.408900   1.272792   1.285496   0.707107   0.672681   0.000000   \n",
       "786   0.982344   0.781025   0.850000   0.360555   0.801561   0.500000   \n",
       "787   0.583095   0.570088   1.006231   0.738241   1.253994   0.827647   \n",
       "\n",
       "           786        787  \n",
       "0    26.182294  25.736793  \n",
       "1    24.944739  24.498265  \n",
       "2    25.600049  25.151789  \n",
       "3    25.964688  25.515485  \n",
       "4    25.143041  24.693370  \n",
       "..         ...        ...  \n",
       "783   0.360555   0.738241  \n",
       "784   0.801561   1.253994  \n",
       "785   0.500000   0.827647  \n",
       "786   0.000000   0.452769  \n",
       "787   0.452769   0.000000  \n",
       "\n",
       "[788 rows x 788 columns]"
      ]
     },
     "execution_count": 8,
     "metadata": {},
     "output_type": "execute_result"
    }
   ],
   "source": [
    "sqp = squareform(condensed_dist)\n",
    "sqpdf = pd.DataFrame(sqp, index = agg_data.index,columns = agg_data.index)\n",
    "sqpdf"
   ]
  },
  {
   "cell_type": "markdown",
   "metadata": {
    "cell_style": "split",
    "slideshow": {
     "slide_type": "slide"
    }
   },
   "source": [
    "At each iteration, merges clusters with minimum pairwise distance:\n",
    "- Merged cluster is new *supercluster*\n",
    "- For $n$ datapoints continues this $n-1$ times.\n",
    "- Entire sequence of merges gives us entire hierarchy of clusters."
   ]
  },
  {
   "cell_type": "markdown",
   "metadata": {
    "cell_style": "split",
    "slideshow": {
     "slide_type": "fragment"
    }
   },
   "source": [
    "<center><img src = \"Images/hierarch.gif\" /></center>\n",
    "<center> Agglomerates at each stage. </center>"
   ]
  },
  {
   "cell_type": "markdown",
   "metadata": {
    "cell_style": "center",
    "slideshow": {
     "slide_type": "slide"
    }
   },
   "source": [
    "scipy's linkage function:\n",
    "- linkage(condensed pair-wise distance, linkage method, metric)\n",
    "- returns an entire sequence of cluster merges in agglomerative process."
   ]
  },
  {
   "cell_type": "code",
   "execution_count": 9,
   "metadata": {
    "slideshow": {
     "slide_type": "fragment"
    }
   },
   "outputs": [],
   "source": [
    "from scipy.cluster.hierarchy import linkage"
   ]
  },
  {
   "cell_type": "code",
   "execution_count": 10,
   "metadata": {
    "slideshow": {
     "slide_type": "slide"
    }
   },
   "outputs": [],
   "source": [
    "np_linkage = linkage(condensed_dist, method='ward', metric='euclidean' )"
   ]
  },
  {
   "cell_type": "code",
   "execution_count": 11,
   "metadata": {
    "cell_style": "split",
    "scrolled": true,
    "slideshow": {
     "slide_type": "fragment"
    }
   },
   "outputs": [
    {
     "data": {
      "text/html": [
       "<div>\n",
       "<style scoped>\n",
       "    .dataframe tbody tr th:only-of-type {\n",
       "        vertical-align: middle;\n",
       "    }\n",
       "\n",
       "    .dataframe tbody tr th {\n",
       "        vertical-align: top;\n",
       "    }\n",
       "\n",
       "    .dataframe thead th {\n",
       "        text-align: right;\n",
       "    }\n",
       "</style>\n",
       "<table border=\"1\" class=\"dataframe\">\n",
       "  <thead>\n",
       "    <tr style=\"text-align: right;\">\n",
       "      <th></th>\n",
       "      <th>clst1</th>\n",
       "      <th>clst2</th>\n",
       "      <th>dist</th>\n",
       "      <th>num_points</th>\n",
       "    </tr>\n",
       "    <tr>\n",
       "      <th>merge</th>\n",
       "      <th></th>\n",
       "      <th></th>\n",
       "      <th></th>\n",
       "      <th></th>\n",
       "    </tr>\n",
       "  </thead>\n",
       "  <tbody>\n",
       "    <tr>\n",
       "      <th>0</th>\n",
       "      <td>185.0</td>\n",
       "      <td>186.0</td>\n",
       "      <td>0.111803</td>\n",
       "      <td>2.0</td>\n",
       "    </tr>\n",
       "    <tr>\n",
       "      <th>1</th>\n",
       "      <td>671.0</td>\n",
       "      <td>672.0</td>\n",
       "      <td>0.150000</td>\n",
       "      <td>2.0</td>\n",
       "    </tr>\n",
       "    <tr>\n",
       "      <th>2</th>\n",
       "      <td>79.0</td>\n",
       "      <td>80.0</td>\n",
       "      <td>0.158114</td>\n",
       "      <td>2.0</td>\n",
       "    </tr>\n",
       "    <tr>\n",
       "      <th>3</th>\n",
       "      <td>433.0</td>\n",
       "      <td>434.0</td>\n",
       "      <td>0.158114</td>\n",
       "      <td>2.0</td>\n",
       "    </tr>\n",
       "    <tr>\n",
       "      <th>4</th>\n",
       "      <td>366.0</td>\n",
       "      <td>367.0</td>\n",
       "      <td>0.180278</td>\n",
       "      <td>2.0</td>\n",
       "    </tr>\n",
       "    <tr>\n",
       "      <th>...</th>\n",
       "      <td>...</td>\n",
       "      <td>...</td>\n",
       "      <td>...</td>\n",
       "      <td>...</td>\n",
       "    </tr>\n",
       "    <tr>\n",
       "      <th>782</th>\n",
       "      <td>1549.0</td>\n",
       "      <td>1565.0</td>\n",
       "      <td>91.581936</td>\n",
       "      <td>175.0</td>\n",
       "    </tr>\n",
       "    <tr>\n",
       "      <th>783</th>\n",
       "      <td>1567.0</td>\n",
       "      <td>1569.0</td>\n",
       "      <td>109.894662</td>\n",
       "      <td>341.0</td>\n",
       "    </tr>\n",
       "    <tr>\n",
       "      <th>784</th>\n",
       "      <td>1562.0</td>\n",
       "      <td>1570.0</td>\n",
       "      <td>158.954338</td>\n",
       "      <td>277.0</td>\n",
       "    </tr>\n",
       "    <tr>\n",
       "      <th>785</th>\n",
       "      <td>1568.0</td>\n",
       "      <td>1571.0</td>\n",
       "      <td>252.542849</td>\n",
       "      <td>511.0</td>\n",
       "    </tr>\n",
       "    <tr>\n",
       "      <th>786</th>\n",
       "      <td>1572.0</td>\n",
       "      <td>1573.0</td>\n",
       "      <td>347.662473</td>\n",
       "      <td>788.0</td>\n",
       "    </tr>\n",
       "  </tbody>\n",
       "</table>\n",
       "<p>787 rows × 4 columns</p>\n",
       "</div>"
      ],
      "text/plain": [
       "        clst1   clst2        dist  num_points\n",
       "merge                                        \n",
       "0       185.0   186.0    0.111803         2.0\n",
       "1       671.0   672.0    0.150000         2.0\n",
       "2        79.0    80.0    0.158114         2.0\n",
       "3       433.0   434.0    0.158114         2.0\n",
       "4       366.0   367.0    0.180278         2.0\n",
       "...       ...     ...         ...         ...\n",
       "782    1549.0  1565.0   91.581936       175.0\n",
       "783    1567.0  1569.0  109.894662       341.0\n",
       "784    1562.0  1570.0  158.954338       277.0\n",
       "785    1568.0  1571.0  252.542849       511.0\n",
       "786    1572.0  1573.0  347.662473       788.0\n",
       "\n",
       "[787 rows x 4 columns]"
      ]
     },
     "execution_count": 11,
     "metadata": {},
     "output_type": "execute_result"
    }
   ],
   "source": [
    "cols = ['clst1', 'clst2', 'dist', 'num_points']\n",
    "linkage_df = pd.DataFrame(np_linkage,\n",
    "                          columns = cols)\n",
    "linkage_df.index.name = 'merge'\n",
    "linkage_df"
   ]
  },
  {
   "cell_type": "markdown",
   "metadata": {
    "cell_style": "split",
    "slideshow": {
     "slide_type": "fragment"
    }
   },
   "source": [
    "Rows: Cluster merges\n",
    "\n",
    "- 788 data points: 788 - 1 merges\n",
    "\n",
    "- Columns: clusters merged, distance between clusters, number of points in new cluster"
   ]
  },
  {
   "cell_type": "code",
   "execution_count": 12,
   "metadata": {
    "cell_style": "split",
    "slideshow": {
     "slide_type": "fragment"
    }
   },
   "outputs": [
    {
     "name": "stdout",
     "output_type": "stream",
     "text": [
      "(787, 4)\n"
     ]
    }
   ],
   "source": [
    "print(linkage_df.shape)"
   ]
  },
  {
   "cell_type": "markdown",
   "metadata": {
    "slideshow": {
     "slide_type": "slide"
    }
   },
   "source": [
    "#### Creating the dendrogram\n",
    "- scipy's dendrogram function"
   ]
  },
  {
   "cell_type": "code",
   "execution_count": 13,
   "metadata": {
    "slideshow": {
     "slide_type": "fragment"
    }
   },
   "outputs": [],
   "source": [
    "from scipy.cluster.hierarchy import dendrogram"
   ]
  },
  {
   "cell_type": "code",
   "execution_count": 14,
   "metadata": {
    "slideshow": {
     "slide_type": "slide"
    }
   },
   "outputs": [
    {
     "data": {
      "image/png": "[encoded data removed]",
      "text/plain": [
       "<Figure size 360x504 with 1 Axes>"
      ]
     },
     "metadata": {
      "needs_background": "light"
     },
     "output_type": "display_data"
    }
   ],
   "source": [
    "fig, ax = plt.subplots(figsize = (5,7))\n",
    "dendrogram(linkage_df , no_labels = True, leaf_font_size = 8, color_threshold = 100,  orientation = 'left' )\n",
    "ax.set_xlabel('Linkage distance')\n",
    "plt.show()"
   ]
  },
  {
   "cell_type": "markdown",
   "metadata": {
    "slideshow": {
     "slide_type": "slide"
    }
   },
   "source": [
    "At given linkage distance threshold:\n",
    "- want to output \"flattened\" cluster assignments:\n",
    "- scipy's fcluster function: fcluster(linkage_matrix, threshold, criterion)"
   ]
  },
  {
   "cell_type": "code",
   "execution_count": 15,
   "metadata": {
    "slideshow": {
     "slide_type": "fragment"
    }
   },
   "outputs": [],
   "source": [
    "from scipy.cluster.hierarchy import fcluster\n",
    "from copy import deepcopy"
   ]
  },
  {
   "cell_type": "code",
   "execution_count": 16,
   "metadata": {
    "slideshow": {
     "slide_type": "fragment"
    }
   },
   "outputs": [],
   "source": [
    "\n",
    "# criterion as linkage distance is fairly common\n",
    "clust_assgn = fcluster(linkage_df, t = 100, criterion = 'distance')\n",
    "\n",
    "#put labels into dataframe and scatterplot\n",
    "agg_assigned = deepcopy(agg_data)\n",
    "agg_assigned['label'] = clust_assgn"
   ]
  },
  {
   "cell_type": "code",
   "execution_count": 17,
   "metadata": {
    "cell_style": "split",
    "slideshow": {
     "slide_type": "slide"
    }
   },
   "outputs": [
    {
     "data": {
      "text/html": [
       "<div>\n",
       "<style scoped>\n",
       "    .dataframe tbody tr th:only-of-type {\n",
       "        vertical-align: middle;\n",
       "    }\n",
       "\n",
       "    .dataframe tbody tr th {\n",
       "        vertical-align: top;\n",
       "    }\n",
       "\n",
       "    .dataframe thead th {\n",
       "        text-align: right;\n",
       "    }\n",
       "</style>\n",
       "<table border=\"1\" class=\"dataframe\">\n",
       "  <thead>\n",
       "    <tr style=\"text-align: right;\">\n",
       "      <th></th>\n",
       "      <th>X</th>\n",
       "      <th>Y</th>\n",
       "      <th>label</th>\n",
       "    </tr>\n",
       "  </thead>\n",
       "  <tbody>\n",
       "    <tr>\n",
       "      <th>0</th>\n",
       "      <td>15.55</td>\n",
       "      <td>28.65</td>\n",
       "      <td>3</td>\n",
       "    </tr>\n",
       "    <tr>\n",
       "      <th>1</th>\n",
       "      <td>14.90</td>\n",
       "      <td>27.55</td>\n",
       "      <td>3</td>\n",
       "    </tr>\n",
       "    <tr>\n",
       "      <th>2</th>\n",
       "      <td>14.45</td>\n",
       "      <td>28.35</td>\n",
       "      <td>3</td>\n",
       "    </tr>\n",
       "    <tr>\n",
       "      <th>3</th>\n",
       "      <td>14.15</td>\n",
       "      <td>28.80</td>\n",
       "      <td>3</td>\n",
       "    </tr>\n",
       "    <tr>\n",
       "      <th>4</th>\n",
       "      <td>13.75</td>\n",
       "      <td>28.05</td>\n",
       "      <td>3</td>\n",
       "    </tr>\n",
       "  </tbody>\n",
       "</table>\n",
       "</div>"
      ],
      "text/plain": [
       "       X      Y  label\n",
       "0  15.55  28.65      3\n",
       "1  14.90  27.55      3\n",
       "2  14.45  28.35      3\n",
       "3  14.15  28.80      3\n",
       "4  13.75  28.05      3"
      ]
     },
     "execution_count": 17,
     "metadata": {},
     "output_type": "execute_result"
    }
   ],
   "source": [
    "agg_assigned.head()"
   ]
  },
  {
   "cell_type": "markdown",
   "metadata": {
    "cell_style": "split",
    "slideshow": {
     "slide_type": "fragment"
    }
   },
   "source": [
    "Scatterplot with hue on cluster assignments"
   ]
  },
  {
   "cell_type": "code",
   "execution_count": 18,
   "metadata": {
    "cell_style": "split",
    "scrolled": true,
    "slideshow": {
     "slide_type": "fragment"
    }
   },
   "outputs": [
    {
     "data": {
      "image/png": "[encoded data removed]",
      "text/plain": [
       "<Figure size 432x288 with 1 Axes>"
      ]
     },
     "metadata": {
      "needs_background": "light"
     },
     "output_type": "display_data"
    }
   ],
   "source": [
    "n_labels = len(agg_assigned['label'].unique())\n",
    "fig, ax = plt.subplots(figsize = (6,4))\n",
    "sns.scatterplot(x = 'X', y = 'Y',\n",
    "                hue = 'label', \n",
    "                data = agg_assigned, \n",
    "                palette=sns.color_palette(\n",
    "                    'tab10', n_labels), ax = ax)\n",
    "\n",
    "plt.show()"
   ]
  },
  {
   "cell_type": "code",
   "execution_count": 19,
   "metadata": {
    "slideshow": {
     "slide_type": "slide"
    }
   },
   "outputs": [],
   "source": [
    "def plot_with_threshold(data, linkage, threshold = 100):\n",
    "    \n",
    "    clust_assgn = fcluster(linkage, t = threshold, criterion = 'distance')\n",
    "    \n",
    "    agg_assigned = deepcopy(data)\n",
    "    agg_assigned['label'] = clust_assgn\n",
    "    n_labels = len(agg_assigned['label'].unique())\n",
    "    \n",
    "\n",
    "    fig, ax = plt.subplots(1,2, figsize = (8,5))\n",
    "    d = dendrogram(linkage, no_labels = True, leaf_font_size = 8,\n",
    "               color_threshold = threshold, orientation = 'left', ax = ax[0] )\n",
    "    ax[0].set_xlabel('Linkage distance')\n",
    "    \n",
    "    ax[0].axvline(threshold, c = 'b', linestyle = '--')\n",
    "    \n",
    "    #NEW CODE\n",
    "    ax[1].scatter(agg_assigned['X'].iloc[d['leaves']], \n",
    "                  agg_assigned['Y'].iloc[d['leaves']], \n",
    "                  color=d['leaves_color_list'])\n",
    "\n",
    "    plt.show()"
   ]
  },
  {
   "cell_type": "code",
   "execution_count": 20,
   "metadata": {
    "scrolled": true,
    "slideshow": {
     "slide_type": "slide"
    }
   },
   "outputs": [
    {
     "data": {
      "image/png": "[encoded data removed]",
      "text/plain": [
       "<Figure size 576x360 with 2 Axes>"
      ]
     },
     "metadata": {
      "needs_background": "light"
     },
     "output_type": "display_data"
    }
   ],
   "source": [
    "\n",
    "plot_with_threshold(agg_data, linkage_df, 50)"
   ]
  },
  {
   "cell_type": "markdown",
   "metadata": {
    "slideshow": {
     "slide_type": "slide"
    }
   },
   "source": [
    "#### Evaluating the agglomerative linkage and dendrogram"
   ]
  },
  {
   "cell_type": "markdown",
   "metadata": {
    "cell_style": "split",
    "slideshow": {
     "slide_type": "slide"
    }
   },
   "source": [
    "**Cophenetic correlation coefficient**\n",
    "\n",
    "- correlation between point pairwise distance and linkage distance at which pairs are joined.\n",
    "\n",
    "- how closely related is the agglomerative clustering to the underlying data structure?\n",
    "\n",
    "\n",
    "- Is a correlation coefficient: \n",
    "    - 1 = perfect correlation\n",
    "    - 0 = no correlation\n",
    "    - -1 = anti-correlation"
   ]
  },
  {
   "cell_type": "markdown",
   "metadata": {
    "cell_style": "split",
    "slideshow": {
     "slide_type": "fragment"
    }
   },
   "source": [
    "#### Cophenetic distances\n",
    "\n",
    "- Taking point $i$ and $j$: \n",
    "- linkage distance between respective clusters before merge.\n",
    "\n"
   ]
  },
  {
   "cell_type": "markdown",
   "metadata": {
    "cell_style": "split",
    "slideshow": {
     "slide_type": "fragment"
    }
   },
   "source": [
    "<center><img src = \"Images/cophen_dist.jpg\" width = 400/></center>"
   ]
  },
  {
   "cell_type": "code",
   "execution_count": null,
   "metadata": {
    "slideshow": {
     "slide_type": "slide"
    }
   },
   "outputs": [],
   "source": [
    "from scipy.cluster.hierarchy import cophenet"
   ]
  },
  {
   "cell_type": "markdown",
   "metadata": {
    "slideshow": {
     "slide_type": "fragment"
    }
   },
   "source": [
    "Takes in linkage matrix and reduced pairwise distance matrix:\n",
    "- returns correlation and list of cophenetic distances."
   ]
  },
  {
   "cell_type": "code",
   "execution_count": null,
   "metadata": {
    "cell_style": "center",
    "slideshow": {
     "slide_type": "fragment"
    }
   },
   "outputs": [],
   "source": [
    "# evaluate effectiveness of hierarchical clustering with cophenetic correlation\n",
    "corr_coef, cophen_dist = cophenet(np_linkage, condensed_dist)\n",
    "print(corr_coef)"
   ]
  },
  {
   "cell_type": "markdown",
   "metadata": {
    "slideshow": {
     "slide_type": "fragment"
    }
   },
   "source": [
    "The cophenetic correlation is measuring how effective our agglomerative clustering is at capturing the entire **hierarchy**."
   ]
  },
  {
   "cell_type": "markdown",
   "metadata": {
    "slideshow": {
     "slide_type": "slide"
    }
   },
   "source": [
    "#### Hierarchical clustering with `sklearn` \n",
    "\n",
    "- Scipy has much better functionality for exploring full hierarchy\n",
    "- Sklearn for using hierarchical clustering in flat clustering/prediction tasks\n",
    "- can specify number of clusters, adjusts threshold automatically.\n"
   ]
  },
  {
   "cell_type": "code",
   "execution_count": null,
   "metadata": {
    "slideshow": {
     "slide_type": "fragment"
    }
   },
   "outputs": [],
   "source": [
    "from sklearn.cluster import AgglomerativeClustering"
   ]
  },
  {
   "cell_type": "code",
   "execution_count": null,
   "metadata": {
    "cell_style": "center",
    "scrolled": true,
    "slideshow": {
     "slide_type": "slide"
    }
   },
   "outputs": [],
   "source": [
    "# affinity is distance metric(euclidean, manhattan)\n",
    "# linkage (average, complete, single, ward, etc.)\n",
    "agg_cluster = AgglomerativeClustering(n_clusters = 7,\n",
    "                                      affinity = 'euclidean', \n",
    "                                      linkage = 'average')\n",
    "agg_cluster"
   ]
  },
  {
   "cell_type": "code",
   "execution_count": null,
   "metadata": {
    "cell_style": "center",
    "slideshow": {
     "slide_type": "fragment"
    }
   },
   "outputs": [],
   "source": [
    "sns.scatterplot(x = 'X', y = 'Y', data = agg_data)\n",
    "plt.show()"
   ]
  },
  {
   "cell_type": "code",
   "execution_count": null,
   "metadata": {
    "cell_style": "split",
    "scrolled": true,
    "slideshow": {
     "slide_type": "slide"
    }
   },
   "outputs": [],
   "source": [
    "agg_labels = agg_cluster.fit_predict(agg_data)\n",
    "sklearn_agg_data = deepcopy(agg_data)\n",
    "sklearn_agg_data['labels'] = agg_labels\n",
    "sklearn_agg_data.head()"
   ]
  },
  {
   "cell_type": "code",
   "execution_count": null,
   "metadata": {
    "cell_style": "split",
    "slideshow": {
     "slide_type": "fragment"
    }
   },
   "outputs": [],
   "source": [
    "sns.scatterplot(x = 'X', y = 'Y', \n",
    "                hue = 'labels', palette = 'tab10',\n",
    "                data = sklearn_agg_data)\n",
    "plt.show()"
   ]
  },
  {
   "cell_type": "markdown",
   "metadata": {
    "cell_style": "center",
    "slideshow": {
     "slide_type": "fragment"
    }
   },
   "source": [
    "Benefit of sklearn implementation:\n",
    "- Chooses distance threshold for you given number of clusters."
   ]
  },
  {
   "cell_type": "markdown",
   "metadata": {
    "slideshow": {
     "slide_type": "slide"
    }
   },
   "source": [
    "#### Evaluation\n",
    "\n",
    "Operating in this flat mode:\n",
    "- getting reasonable cluster number -- silhouette score.\n",
    "- not a sure fire method but not terrible either."
   ]
  },
  {
   "cell_type": "code",
   "execution_count": null,
   "metadata": {
    "slideshow": {
     "slide_type": "fragment"
    }
   },
   "outputs": [],
   "source": [
    "def plot_silh_scores(X, K, increment, linkage):\n",
    "\n",
    "    klist = np.arange(2,K,increment)\n",
    "    score_list = []\n",
    "    for k in klist:\n",
    "        agg_clstrer = AgglomerativeClustering(n_clusters = k,\n",
    "                                      affinity = 'euclidean', \n",
    "                                      linkage = linkage)\n",
    "        \n",
    "        clstr_labels = agg_clstrer.fit_predict(X)\n",
    "\n",
    "        score = silhouette_score(X, clstr_labels)\n",
    "        score_list.append(score)\n",
    "        \n",
    "    sns.lineplot(x = klist, y = score_list, color = 'r')\n",
    "    plt.ylabel('Silhouette Coefficient')\n",
    "    plt.xlabel('K')\n",
    "    plt.title('Silhouette coefficient plot')\n",
    "    plt.show()"
   ]
  },
  {
   "cell_type": "code",
   "execution_count": null,
   "metadata": {
    "cell_style": "split",
    "slideshow": {
     "slide_type": "slide"
    }
   },
   "outputs": [],
   "source": [
    "plot_silh_scores(agg_data, 15, 1, 'average')"
   ]
  },
  {
   "cell_type": "markdown",
   "metadata": {
    "cell_style": "split",
    "slideshow": {
     "slide_type": "fragment"
    }
   },
   "source": [
    "Under average linkage:\n",
    "- k = 6 might be a good choice."
   ]
  },
  {
   "cell_type": "code",
   "execution_count": null,
   "metadata": {
    "slideshow": {
     "slide_type": "skip"
    }
   },
   "outputs": [],
   "source": [
    "def plot_with_sklearn(X, k, linkage):\n",
    "    agg_cluster = AgglomerativeClustering(n_clusters = k,\n",
    "                                      affinity = 'euclidean', \n",
    "                                      linkage = linkage)\n",
    "    \n",
    "    agg_labels = agg_cluster.fit_predict(X)\n",
    "    sklearn_agg_data = deepcopy(X)\n",
    "    sklearn_agg_data['labels'] = agg_labels\n",
    "    \n",
    "    sns.scatterplot(x = 'X', y = 'Y', \n",
    "                hue = 'labels', palette = 'tab10',\n",
    "                data = sklearn_agg_data)\n",
    "    plt.show()\n"
   ]
  },
  {
   "cell_type": "markdown",
   "metadata": {
    "slideshow": {
     "slide_type": "slide"
    }
   },
   "source": [
    "- Seven is actually the optimal number for the flat clustering.\n",
    "- Clustering is a tricky business and often requires human judgement.\n",
    "- Sklearn's API makes it easy for agglomerative clustering: don't have to mess with thresholds."
   ]
  },
  {
   "cell_type": "code",
   "execution_count": null,
   "metadata": {
    "cell_style": "split",
    "slideshow": {
     "slide_type": "fragment"
    }
   },
   "outputs": [],
   "source": [
    "plot_with_sklearn(agg_data, 6, 'average')"
   ]
  },
  {
   "cell_type": "code",
   "execution_count": null,
   "metadata": {
    "cell_style": "split",
    "slideshow": {
     "slide_type": "-"
    }
   },
   "outputs": [],
   "source": [
    "plot_with_sklearn(agg_data, 7, 'average')"
   ]
  },
  {
   "cell_type": "markdown",
   "metadata": {
    "cell_style": "center",
    "slideshow": {
     "slide_type": "slide"
    }
   },
   "source": [
    "But:\n",
    "\n",
    "- agglomerative hierarchical clustering for flat clustering tasks: SLOW.\n",
    "- designed to calculate whole hierarchy.\n",
    "- better methods for flat clustering: kmeans, DBSCAN, mixture methods, variational autoencoders, etc."
   ]
  },
  {
   "cell_type": "markdown",
   "metadata": {
    "slideshow": {
     "slide_type": "slide"
    }
   },
   "source": [
    "## Advantages & Disadvantages of hierarchical clustering\n",
    "\n",
    "#### Advantages\n",
    "- Intuitive and easy to implement\n",
    "- More informative than k-means because it takes individual relationship into consideration\n",
    "- Allows us to look at dendrogram and decide number of clusters\n",
    "\n",
    "#### Disadvantages\n",
    "- Very sensitive to outliers\n",
    "- Cannot undo the previous merge, which might lead to problems later on "
   ]
  },
  {
   "cell_type": "markdown",
   "metadata": {
    "slideshow": {
     "slide_type": "slide"
    }
   },
   "source": [
    "### Further reading\n",
    "\n",
    "- [from MIT on just hierarchical](http://web.mit.edu/6.S097/www/resources/Hierarchical.pdf)\n",
    "- [from MIT comparing clustering methods](http://www.mit.edu/~9.54/fall14/slides/Class13.pdf)\n",
    "- [fun CMU slides on clustering](http://www.cs.cmu.edu/afs/andrew/course/15/381-f08/www/lectures/clustering.pdf)"
   ]
  },
  {
   "cell_type": "code",
   "execution_count": null,
   "metadata": {},
   "outputs": [],
   "source": []
  }
 ],
 "metadata": {
  "kernelspec": {
   "display_name": "Python (learn-env)",
   "language": "python",
   "name": "learn-env"
  },
  "language_info": {
   "codemirror_mode": {
    "name": "ipython",
    "version": 3
   },
   "file_extension": ".py",
   "mimetype": "text/x-python",
   "name": "python",
   "nbconvert_exporter": "python",
   "pygments_lexer": "ipython3",
   "version": "3.8.5"
  }
 },
 "nbformat": 4,
 "nbformat_minor": 2
}
