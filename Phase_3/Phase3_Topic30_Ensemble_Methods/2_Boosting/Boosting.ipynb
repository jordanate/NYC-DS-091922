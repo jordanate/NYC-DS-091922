{
 "cells": [
  {
   "cell_type": "markdown",
   "metadata": {
    "slideshow": {
     "slide_type": "slide"
    }
   },
   "source": [
    "<div style=\"color:white;\n",
    "           display:fill;\n",
    "           border-radius:5px;\n",
    "           background-color:#5642C5;\n",
    "           font-size:200%;\n",
    "           font-family:Arial;letter-spacing:0.5px\">\n",
    "\n",
    "<p width = 20%, style=\"padding: 10px;\n",
    "              color:white;\">\n",
    "Ensemble Learning: Gradient Boosting\n",
    "              \n",
    "</p>\n",
    "</div>\n",
    "\n",
    "Data Science Cohort Live NYC Nov 2022\n",
    "<p>Phase 3: Topic 30</p>\n",
    "<br>\n",
    "<br>\n",
    "\n",
    "<div align = \"right\">\n",
    "<img src=\"Images/flatiron-school-logo.png\" align = \"right\" width=\"200\"/>\n",
    "</div>\n",
    "    \n",
    "    "
   ]
  },
  {
   "cell_type": "code",
   "execution_count": 4,
   "metadata": {
    "slideshow": {
     "slide_type": "skip"
    }
   },
   "outputs": [],
   "source": [
    "import sympy"
   ]
  },
  {
   "cell_type": "markdown",
   "metadata": {
    "slideshow": {
     "slide_type": "slide"
    }
   },
   "source": [
    "#### Boosting\n",
    "- Besides bagging: other major framework for ensemble tree learning\n",
    "- Different philosophies of learning."
   ]
  },
  {
   "cell_type": "markdown",
   "metadata": {
    "slideshow": {
     "slide_type": "slide"
    }
   },
   "source": [
    "The Ralph Nader philosophy of learning:"
   ]
  },
  {
   "cell_type": "markdown",
   "metadata": {
    "cell_style": "split",
    "slideshow": {
     "slide_type": "fragment"
    }
   },
   "source": [
    "<img src = \"Images\\mistake_nader.jpg\" />"
   ]
  },
  {
   "cell_type": "markdown",
   "metadata": {
    "cell_style": "split",
    "slideshow": {
     "slide_type": "fragment"
    }
   },
   "source": [
    "<img src = \"Images\\nader.jpeg\" />\n",
    "<center> Nader giving you life lessons about learning theory AND the true source of income inequality in this country. </center>"
   ]
  },
  {
   "cell_type": "markdown",
   "metadata": {
    "slideshow": {
     "slide_type": "slide"
    }
   },
   "source": [
    "Boosting is essentially this:\n",
    "- at each step learner trains on mistakes of previous step.\n",
    "- uses knowledge of mistakes to correct predictions in next step."
   ]
  },
  {
   "cell_type": "markdown",
   "metadata": {
    "slideshow": {
     "slide_type": "slide"
    }
   },
   "source": [
    "**More technically**\n",
    "- Trying to approximate collection of targets $\\{y_i\\}$ with a function $F(x_i)$.\n",
    "\n",
    "Boosting: sequentially update F via step-by-step learning from errors."
   ]
  },
  {
   "cell_type": "markdown",
   "metadata": {
    "slideshow": {
     "slide_type": "fragment"
    }
   },
   "source": [
    "<img src = \"Images/boosting_update.png\" width = 500 />"
   ]
  },
  {
   "cell_type": "markdown",
   "metadata": {
    "cell_style": "split",
    "slideshow": {
     "slide_type": "slide"
    }
   },
   "source": [
    "But there's a general problem with this:\n",
    "- what if what we learn from last mistake is gleaned from a set of situations that are too specific?"
   ]
  },
  {
   "cell_type": "markdown",
   "metadata": {
    "cell_style": "split",
    "slideshow": {
     "slide_type": "fragment"
    }
   },
   "source": [
    "**More technically**\n",
    "\n",
    "Weighting last mistake with respect to the specific training data too strongly.\n",
    "\n",
    "- Our corrections to how we predict will then be too specific to the training data."
   ]
  },
  {
   "cell_type": "markdown",
   "metadata": {
    "cell_style": "center",
    "slideshow": {
     "slide_type": "slide"
    }
   },
   "source": [
    "**I just overfitted**"
   ]
  },
  {
   "cell_type": "markdown",
   "metadata": {
    "slideshow": {
     "slide_type": "fragment"
    }
   },
   "source": [
    "Yes I learned from a specific set of mistakes:\n",
    "- but have I learned a sufficiently general lesson?"
   ]
  },
  {
   "cell_type": "markdown",
   "metadata": {
    "slideshow": {
     "slide_type": "fragment"
    }
   },
   "source": [
    "Want to learn from last mistakes in a way that is **generalizable**"
   ]
  },
  {
   "cell_type": "markdown",
   "metadata": {
    "cell_style": "center",
    "slideshow": {
     "slide_type": "slide"
    }
   },
   "source": [
    "One possibility: \n",
    "- don't weight lesson from any one mistake too strongly.\n",
    "- perhaps even learn from different mistakes in a \"weak\" manner\n",
    "- BUT do this a bunch of times in sequence.\n"
   ]
  },
  {
   "cell_type": "markdown",
   "metadata": {
    "cell_style": "center",
    "slideshow": {
     "slide_type": "fragment"
    }
   },
   "source": [
    "The hope is that eventually:\n",
    "\n",
    "- Gain wisdom via each generation learning from the previous \n",
    "- But in a weak way: take some of the \"lessons\" but not all."
   ]
  },
  {
   "cell_type": "markdown",
   "metadata": {
    "slideshow": {
     "slide_type": "slide"
    }
   },
   "source": [
    "<center><b> Can such a sequence of weak learners create a single strong learner? </b></center>"
   ]
  },
  {
   "cell_type": "markdown",
   "metadata": {
    "slideshow": {
     "slide_type": "fragment"
    }
   },
   "source": [
    "The answer is yes."
   ]
  },
  {
   "cell_type": "markdown",
   "metadata": {
    "slideshow": {
     "slide_type": "slide"
    }
   },
   "source": [
    "#### Gradient Boosting"
   ]
  },
  {
   "cell_type": "markdown",
   "metadata": {
    "cell_style": "split",
    "slideshow": {
     "slide_type": "fragment"
    }
   },
   "source": [
    "<img src = \"Images/boosting_update.png\" width = 500 />"
   ]
  },
  {
   "cell_type": "markdown",
   "metadata": {
    "cell_style": "split",
    "slideshow": {
     "slide_type": "fragment"
    }
   },
   "source": [
    "Getting better approximations on $F$ iteratively.\n",
    "- Looks a lot like gradient descent.\n",
    "\n"
   ]
  },
  {
   "cell_type": "markdown",
   "metadata": {
    "slideshow": {
     "slide_type": "slide"
    }
   },
   "source": [
    "Use regression as example:\n",
    "\n",
    "- Least squares objective function:"
   ]
  },
  {
   "cell_type": "code",
   "execution_count": 5,
   "metadata": {
    "slideshow": {
     "slide_type": "slide"
    }
   },
   "outputs": [],
   "source": [
    "from sympy import *\n",
    "from sympy.abc import x, y\n",
    "\n",
    "x, y, i, N, h, F = symbols(\"x, y, i, N, h_0, F\")\n",
    "L = summation((Indexed('y',i) - F)**2 ,(i,1,N))/2"
   ]
  },
  {
   "cell_type": "code",
   "execution_count": 6,
   "metadata": {
    "cell_style": "split",
    "slideshow": {
     "slide_type": "slide"
    }
   },
   "outputs": [
    {
     "data": {
      "text/latex": [
       "$\\displaystyle \\frac{\\sum_{i=1}^{N} \\left(- F + {y}_{i}\\right)^{2}}{2}$"
      ],
      "text/plain": [
       "Sum((-F + y[i])**2, (i, 1, N))/2"
      ]
     },
     "execution_count": 6,
     "metadata": {},
     "output_type": "execute_result"
    }
   ],
   "source": [
    "L"
   ]
  },
  {
   "cell_type": "markdown",
   "metadata": {
    "cell_style": "split",
    "slideshow": {
     "slide_type": "fragment"
    }
   },
   "source": [
    "Take gradient with respect to the function $F$"
   ]
  },
  {
   "cell_type": "code",
   "execution_count": 7,
   "metadata": {
    "cell_style": "split",
    "slideshow": {
     "slide_type": "fragment"
    }
   },
   "outputs": [
    {
     "data": {
      "text/latex": [
       "$\\displaystyle \\frac{\\sum_{i=1}^{N} \\left(2 F - 2 {y}_{i}\\right)}{2}$"
      ],
      "text/plain": [
       "Sum(2*F - 2*y[i], (i, 1, N))/2"
      ]
     },
     "execution_count": 7,
     "metadata": {},
     "output_type": "execute_result"
    }
   ],
   "source": [
    "gradL = diff(L, F)\n",
    "gradL"
   ]
  },
  {
   "cell_type": "markdown",
   "metadata": {
    "slideshow": {
     "slide_type": "slide"
    }
   },
   "source": [
    "Thus:"
   ]
  },
  {
   "cell_type": "markdown",
   "metadata": {
    "cell_style": "center",
    "slideshow": {
     "slide_type": "fragment"
    }
   },
   "source": [
    "$$ \\nabla_FL = \\sum_{i=1}^N \\Big(F(x_i)- y_i\\Big) $$\n",
    "\n",
    "or $$ - \\nabla_FL = \\sum_{i=1}^N  \\Big(y_i - F(x_i)\\Big) $$\n",
    "**This is  error we input to learner at each step**"
   ]
  },
  {
   "cell_type": "markdown",
   "metadata": {
    "cell_style": "split",
    "slideshow": {
     "slide_type": "slide"
    }
   },
   "source": [
    "Input into a regressor:\n",
    "\n",
    "Want to learn from errors at given stage $m$:"
   ]
  },
  {
   "cell_type": "markdown",
   "metadata": {
    "cell_style": "split",
    "slideshow": {
     "slide_type": "fragment"
    }
   },
   "source": [
    "<img src = \"Images/train_mistakes.png\" />"
   ]
  },
  {
   "cell_type": "markdown",
   "metadata": {
    "cell_style": "split",
    "slideshow": {
     "slide_type": "slide"
    }
   },
   "source": [
    "Now we have a statistical model that can predict error from previous step:\n",
    "\n",
    "- Learned function:\n",
    "$$h_m(x_i)$$"
   ]
  },
  {
   "cell_type": "markdown",
   "metadata": {
    "cell_style": "split",
    "slideshow": {
     "slide_type": "fragment"
    }
   },
   "source": [
    "<img src = \"Images/error_prediction.png\" />"
   ]
  },
  {
   "cell_type": "markdown",
   "metadata": {
    "cell_style": "center",
    "slideshow": {
     "slide_type": "slide"
    }
   },
   "source": [
    "Adding this to previous estimator: previous estimator + training error\n",
    "    \n",
    "$$ F_{m+1}(x_i) = F_m(x_i) + h_m(x_i) $$\n",
    "\n",
    "Corrects for error in previous stage."
   ]
  },
  {
   "cell_type": "markdown",
   "metadata": {
    "slideshow": {
     "slide_type": "fragment"
    }
   },
   "source": [
    "This is good, right?"
   ]
  },
  {
   "cell_type": "markdown",
   "metadata": {
    "slideshow": {
     "slide_type": "slide"
    }
   },
   "source": [
    "Not necessarily. If regressor is good at fitting error:\n",
    "\n",
    "- this is a super-strong learner:\n",
    "- Accounts too strongly for specific training errors  at step $m$.\n",
    "\n",
    "**Will introduce variance problems**"
   ]
  },
  {
   "cell_type": "markdown",
   "metadata": {
    "slideshow": {
     "slide_type": "slide"
    }
   },
   "source": [
    "A way to make learner weak: \n",
    "- simpler decision trees\n",
    "- the learning rate $\\alpha$"
   ]
  },
  {
   "cell_type": "markdown",
   "metadata": {
    "slideshow": {
     "slide_type": "slide"
    }
   },
   "source": [
    "#### Weaker vs. stronger learners: decision tree depth"
   ]
  },
  {
   "cell_type": "markdown",
   "metadata": {
    "cell_style": "split",
    "slideshow": {
     "slide_type": "slide"
    }
   },
   "source": [
    "<center><b>Strong Learner </b> </center>\n",
    "<img src = \"Images/deep_tree.png\" />\n",
    "<center> Will train on errors at each step very well. But probably too well. </center>"
   ]
  },
  {
   "cell_type": "markdown",
   "metadata": {
    "cell_style": "split",
    "slideshow": {
     "slide_type": "fragment"
    }
   },
   "source": [
    "<center><b>Weak learner </b></center>\n",
    "<center><img src = \"Images/dec_stump.png\" width = 250/></center>\n",
    "\n",
    "<center> Decision boundary learned by stump: </center>\n",
    "<center><img src = \"Images/dectree_stump_boundary.png\" width = 250/></center>"
   ]
  },
  {
   "cell_type": "markdown",
   "metadata": {
    "slideshow": {
     "slide_type": "slide"
    }
   },
   "source": [
    "#### The learning rate"
   ]
  },
  {
   "cell_type": "markdown",
   "metadata": {
    "cell_style": "split",
    "slideshow": {
     "slide_type": "fragment"
    }
   },
   "source": [
    "Instead of:\n",
    "    \n",
    "$$ F_{m+1}(x_i) = F_m(x_i) + h_m(x_i) $$\n",
    "\n",
    "with $ h_m(x_i)$ learned by tree."
   ]
  },
  {
   "cell_type": "markdown",
   "metadata": {
    "cell_style": "split",
    "slideshow": {
     "slide_type": "fragment"
    }
   },
   "source": [
    "Weight learning from mth mistake weakly:\n",
    "\n",
    "$$ F_{m+1}(x_i) = F_m(x_i) + \\alpha h_m(x_i) $$\n",
    "\n",
    "where $\\alpha$ is small. \n",
    "\n",
    "- Weakens effect of learning from error."
   ]
  },
  {
   "cell_type": "markdown",
   "metadata": {
    "slideshow": {
     "slide_type": "slide"
    }
   },
   "source": [
    "The learning rate $\\alpha$ controls how much we weight learners:\n",
    "\n",
    "- We weight how we factor in our learning from mistakes of a given step weakly.\n"
   ]
  },
  {
   "cell_type": "markdown",
   "metadata": {
    "slideshow": {
     "slide_type": "slide"
    }
   },
   "source": [
    "The learning rate (one factor controlling weakness of learners): connects to gradient descent"
   ]
  },
  {
   "cell_type": "markdown",
   "metadata": {
    "cell_style": "center",
    "slideshow": {
     "slide_type": "fragment"
    }
   },
   "source": [
    "$$ F_{m+1}(x_i) = F_m(x_i) + \\alpha h_m(x_i) $$"
   ]
  },
  {
   "cell_type": "markdown",
   "metadata": {
    "cell_style": "center",
    "slideshow": {
     "slide_type": "fragment"
    }
   },
   "source": [
    "$$ F_{m+1}(x_i) = F_m(x_i) + \\alpha \\Big(y_i - F_m(x_i)\\Big)_{estimated} $$\n"
   ]
  },
  {
   "cell_type": "markdown",
   "metadata": {
    "slideshow": {
     "slide_type": "slide"
    }
   },
   "source": [
    "But we know that:\n",
    "$$ - \\nabla_F L|_{x_i} = \\sum_i^{N} \\Big(y_i - F_m(x_i)\\Big) $$"
   ]
  },
  {
   "cell_type": "markdown",
   "metadata": {
    "cell_style": "center",
    "slideshow": {
     "slide_type": "slide"
    }
   },
   "source": [
    "$$ F_{m+1}(x_i) = F_m(x_i) + \\alpha \\Big(y_i - F_m(x_i)\\Big)_{estimated} $$"
   ]
  },
  {
   "cell_type": "markdown",
   "metadata": {
    "cell_style": "center",
    "slideshow": {
     "slide_type": "fragment"
    }
   },
   "source": [
    "$$ F_{m+1}(x_i) = F_m(x_i) - \\alpha \\nabla_F L|_{x_i} $$"
   ]
  },
  {
   "cell_type": "markdown",
   "metadata": {
    "cell_style": "center",
    "slideshow": {
     "slide_type": "slide"
    }
   },
   "source": [
    "$$ F_{m+1}(x_i) = F_m(x_i) - \\alpha \\nabla_F L|_{x_i} $$"
   ]
  },
  {
   "cell_type": "markdown",
   "metadata": {
    "cell_style": "center",
    "slideshow": {
     "slide_type": "fragment"
    }
   },
   "source": [
    "Doing gradient descent:\n",
    "- iteratively adding onto (or boosting) estimator to lower loss.\n",
    "- Parameter $\\alpha$ controlling gradient step also representing weakness of learning at each stage.\n"
   ]
  },
  {
   "cell_type": "markdown",
   "metadata": {
    "slideshow": {
     "slide_type": "slide"
    }
   },
   "source": [
    "That's why its called gradient boosting!\n",
    "\n",
    "General framework: with different $L$ applies to classification, etc."
   ]
  },
  {
   "cell_type": "markdown",
   "metadata": {
    "slideshow": {
     "slide_type": "slide"
    }
   },
   "source": [
    "A summary of the learning process in more detail:"
   ]
  },
  {
   "cell_type": "markdown",
   "metadata": {
    "slideshow": {
     "slide_type": "fragment"
    }
   },
   "source": [
    "<center><img src = \"Images/update_detailed_process.png\" width = 1000/></center>"
   ]
  },
  {
   "cell_type": "code",
   "execution_count": 8,
   "metadata": {
    "slideshow": {
     "slide_type": "skip"
    }
   },
   "outputs": [],
   "source": [
    "import pandas as pd\n",
    "import numpy as np\n",
    "import matplotlib.pyplot as plt\n",
    "from scipy.stats import norm\n",
    "from sklearn.tree import DecisionTreeRegressor, plot_tree\n",
    "\n",
    "%matplotlib inline"
   ]
  },
  {
   "cell_type": "markdown",
   "metadata": {
    "slideshow": {
     "slide_type": "slide"
    }
   },
   "source": [
    "#### Fit a noisy sinusoid with boosting:"
   ]
  },
  {
   "cell_type": "code",
   "execution_count": 9,
   "metadata": {
    "scrolled": true,
    "slideshow": {
     "slide_type": "slide"
    }
   },
   "outputs": [
    {
     "data": {
<<<<<<< HEAD
      "image/png": "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\n",
=======
      "image/png": "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\n",
>>>>>>> upstream/main
      "text/plain": [
       "<Figure size 432x288 with 1 Axes>"
      ]
     },
     "metadata": {
      "needs_background": "light"
     },
     "output_type": "display_data"
    }
   ],
   "source": [
    "import numpy as np\n",
    "X = np.linspace(0,40,1000)\n",
    "y = np.sin(X) + norm.rvs(loc = 0, scale = .4, size = 1000)\n",
    "fig, ax = plt.subplots()\n",
    "ax.scatter(X, y);"
   ]
  },
  {
   "cell_type": "markdown",
   "metadata": {
    "slideshow": {
     "slide_type": "slide"
    }
   },
   "source": [
    "#### Starting point: the dummy model\n",
    "\n",
    "Dummy regressor: average of our $\\{y_i\\}$ as a model of our data."
   ]
  },
  {
   "cell_type": "code",
   "execution_count": 10,
   "metadata": {
    "cell_style": "center",
    "scrolled": false,
    "slideshow": {
     "slide_type": "slide"
    }
   },
   "outputs": [],
   "source": [
    "%%capture dummyapprox\n",
    "fig, ax = plt.subplots()\n",
    "ax.scatter(X, y, label = 'Data')\n",
    "f0 = y.mean()\n",
    "ax.hlines(f0, 0, 40, linestyle = '--', color = 'r', label = 'Dummy Regressor')\n",
    "ax.set_ylabel('y')\n",
    "ax.set_xlabel('X')\n",
    "ax.legend()\n",
    "plt.show()"
   ]
  },
  {
   "cell_type": "code",
   "execution_count": 11,
   "metadata": {
    "cell_style": "center",
    "slideshow": {
     "slide_type": "fragment"
    }
   },
   "outputs": [
    {
     "data": {
<<<<<<< HEAD
      "image/png": "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\n",
=======
      "image/png": "iVBORw0KGgoAAAANSUhEUgAAAYAAAAEGCAYAAABsLkJ6AAAAOXRFWHRTb2Z0d2FyZQBNYXRwbG90bGliIHZlcnNpb24zLjUuMSwgaHR0cHM6Ly9tYXRwbG90bGliLm9yZy/YYfK9AAAACXBIWXMAAAsTAAALEwEAmpwYAABQLUlEQVR4nO29f3xU1Z3//zozuZAJIgGNLQ4i2H4WXEUSSBVLf4irxArUCCp1tQ/pflo/bb/2U2ibFru2gmsrNgrsrlu3frYt2+raiGhWpZ9FFPpttUUNJkhR0KoIjq5EIChkQiYz5/PHzBnu3Lnn3HPv3J+Z83w8fEiS+XHuueeeH+8frzehlEKhUCgU1Ucs6AYoFAqFIhjUAqBQKBRViloAFAqFokpRC4BCoVBUKWoBUCgUiiqlJugG2OHUU0+lkyZNCroZCoVCESm2b9/+PqW0wfj7SC0AkyZNQldXV9DNUCgUikhBCHnL7PfKBKRQKBRViloAFAqFokpRC4BCoVBUKWoBUCgUiipFLQAKhUJRpUQqCshrOrtTaN+0B+/0pXF6fQJtLVPQ2pQMulkKhULhCWoBKNDZncLNj+xEOpMFAKT60rj5kZ0AoBYBhUIxLFEmoALtm/YUJ39GOpNF+6Y9AbVIoVAovEUtAAXe6Uvb+r1CoVBEHbUAFDi9PmHr9wqFQhF11AJQoK1lChJavOR3CS2OtpYpAbVIoVAovEU5gQswR6+KAlIoFNWCWgB0tDYl1YSvUCiqBmUCUigUiipFLQAKhUJRpagFQKFQKKqUwHwAhJAzAPwKwEcB5ADcRyn9x6Dao1B4gZIXUdjB7/ESpBN4CMC3KaUvEkJGA9hOCNlMKX05wDYpFK6h5EUUdghivARmAqKUvkspfbHw7w8BvAJAPRWKYYOSF/Gfzu4UZq/agsnLN2L2qi3o7E4F3SRpghgvoQgDJYRMAtAE4LmAm6JQuEYU5UWibLKK+okriPESuBOYEHISgA0AllJKPzD5+42EkC5CSFdvb6//DVQoHBI1eRE2gab60qA4MYFGZRcd9RNXEOMl0AWAEKIhP/k/QCl9xOw1lNL7KKXNlNLmhoYGfxuoUFRA1ORFoj6BRvHEpSeI8RJkFBAB8HMAr1BKVwfVDoXCK6ImLxL1CfT0+gRSJm0N64nLSBDjJUgfwGwAXwSwkxDSU/jd9ymlvw2uSQqFu0RJXiTqE2hby5QSHwAQ7hOXGX6Pl8AWAErpMwBIUN+vUChKifoEGrUTVxgIRRRQ2IhyJIRC4ZThMIFG6cQVBgilNOg2SNPc3Ey7uro8/Q5jKBmQP6ZcN2sibm+d5ul3VxvDZaEdLtehGL4QQrZTSpvLfq8WgFJmr9piagclANYsblQPtkuYLbQJLY47Fk6LVB+bXYcWIziptgZ9/Rm1IChCAW8BCDwPIGzwIh4oEJlwuCgQ9ZBDhtl1ZHIUh/szkYylV4QDvzKalQ/AAC8SAohOOFwUiHrIIUOmvWxhU6cABQ+9GXFMQsOxwSFksnnrTKovjWUdPeh665DrZmh1AjDQ1jKFG5oUlXC4KBC1LFkesu0N68IWZe2c4YIxA7svnSlO/gwK4IFt+1y/P2oBMNDalMR1syaWLQJRCoeLAlHLkjXCJs5UX1oqljmMC1vUpR+GC2ZmRDO8MEOrBcCE21unYc3iRiTrEyAAkvWJSDonw7yza21K4o6F00r6eNHMJNo37Qltmxn6iRPIP5hWi0AYF7bh4oeJOnZOh26fJJUPgEOU44mjooqo7+OotBkwnzgpgDghyHKi6tikGqZrGS5+mKgj8juavdZN1AlgGBLFnV2U2sybILOUlpm1GGE0r/AmEwqE+gQ23DAzh5pNzF6YSNUCMAyJ4s4uSm3mTZzMVJjk/D1sC5rZxMMI44I1XDEzh65e3Ii1Ppihq9oENFwzOKMo6sVrc4wQdHanQnVfRJo5zKw1eflGmBmDwrSg6aUfzPpeha/6B8/k7HXfV+0JgBcBcUvnzlA7T2WIYoQNbzeapTR0O1GzHZtxdxaVMNfWpiSeXX4x14kdpgVLhrAHP4SNqj0B8GzOD2zbV9y5hdkRacXImljx+sbWaZh33ni0b9qDZR09oTztsLZ8+6EdZY7UMO5ErYIEoqasGcVTo5EoBRKI8NMyUbUnAJHkg56w2W2tYA9BXzpT/N3RgSF0vLA/9PHerU1J5DhRNFHbicqcEsJEFE+NRqIUSMDD79yMqj0B2Am9itLkw9OmMRLGXTUwPHaijCiFEhuloMckNBACLOvoQfumPaE7MZoRpUACHrxFbMVjuzzp/6o9AZjteIaDBESQSSVuwPMF9A8Ohe7EMtxg/oA1ixtxfCgXekE7o72/vk4zfR0LJIgCvGeyL53x5BqqdgEwO6JfN2ti5I/BdharMC5s7L4ktNKhebg/E8pJaDgiY0oJ2tlqZio5OjAELV6+jQtjIAEP0TPphSmrahcA4MSO581V8/Ds8otxe+u0SNltzWhrmVL2EMQIyn4X9oVtIJMr+13U7LlRxcqUEgYNIZ6pc9SIGsRJ+SIQlbEjeiZlTdZ2qFofAI8o2W3NogUAlHmy44Rg8SfOwNbdvZHIeWjftMc0hh7IPwSzV20JdfujjpUfRnRC8Oue8BapI7rgB9n3hInWpiRWPr4Lh/vNr8PtnBi1AEQMNukzFUpjyGqtFitz+mZyFPdv24dkfSIUVc2swtysdjpRCO+LQpIhr41WIaxhcLZaLVJRDiSYd9543L9tn+nf3HYGV7UJKGqYqVDqSWey3J0DEA5nnoz5wOwIbyTMR/owmEisELWxtSmJRTOTxfsQJwSLZp44GYchyU0UthrlkNbO7hQ2bOePkz7BCccJ6gQQIWR1w0UEHf7JMx8s1YUb8hQ1jYT1SB8GE4kVVo7eDdtTxfuQpfkTJNuV1mkxaHFSUrTE7wnWKGMRJ6TY/raWKbhj4bTQnsA6u1NY8diu4mQeI0CO5n2O/YNDFT/jdlALQISQmfDqExqOD+WEg8jviVNvahBN7WwXOrZOE55kGGE90vP6N9WXxuTlG0MxIYnMOFYbjf5MDjGSzzAPsvA9+z6z7N87Fk7Ds8sv9rU9MnR2p9C2fkeJmZb9U8bJO5YT6uoUtQBECKvkNYL8EbE+oaFWi3EnUT8nTmN6vhXpTBYja2JIaHHhe8J8pBfdJ725BQjOh8FrI2ufFTkK1I2oQfcP53rQOnmsTjJhOwW0b9pjmpgpgxYnuHXBOa62R/kAIoRIvhc44RPoS2cwkMnh+hDkNTgxWx1JZ8rCca+fNTEy4blW9wkI3odhFi5slzCY4HiLFVtkw+aHcRrKObZOQ/tV05UctJcYoyLmTG0IVeik0e6pjwIyks5k8eBz+3HtBcGGfzqZJE6vT0QqHNdIa1MSXW8dKhEWNCPwCdTZRrRIGExwoipsYfTDiNrLg5navKgqV9ULgH7CH5PQ8OHxIWQLx7NUX7okFCsMx3b23a1NyWJBchFZStHx/H60X+3+zkEWnqkhWViMoqSYaYetu3st59cgJ9BKTBFA3hwRhvtkdzINetG1214ARVOuF3NQ1ZqAjGFwfelMcfLnkc5k8e2HdoRCa1x2IGdyFCse2+Vxa/iIQvKiXBjeCqv7E9RCxyQcKskq9cocYZfO7hRXv4tH0KcWXrU4Wdw2HVbtCcBpSCVbwYM+EdhRM3U7dtgORpVJoxmKnWhYaJzx1LWsowfru/Zh78F0aExxMtQLIpmSAV2DXYe8GXGSd0SGof9FGeM8+geHAo3EMjv12sXNU0zVLgBudGKQNkU3BpJfWNnzRRMTBfDs64eKPwe98IrQmxR51Ce0wMIT3cgjyVKKZR09WNrRE9hCxnDyDHtpTpHBqgynDG6eYqrWBORWJwZlU2Tmk/qEdVyw27HDbmN3Ygoygoangmk0KfJ2piKtGq9xa6wa5UeCMtNV+gwHNY6YCOXaxY2W0WJG3DYdVu0CIBOqJ0OQNsXWpiRGjRQf4uIx92OH3cbJxMRE4fycfETyCbKLWJDjxYvvDnIxduMZDtIpbLaJq9NiGFun+Rb+XLUmIKC0bq4TwhCxYjWAR4+sCZ2pxIgdf4Yev4/xvKSjZQ/1QCa4I6HFMWdqA2av2hKIP4MXdbVoZhJP7HjXsa8oyFNw11uH8OBz+x1F1wDBLshGSQggn2WdyVLfRBsDXQAIIb8AMB/AAUrpuX59rxvOMACBJSOV2JpFyQAI1uRgBU/Z1A5++mG4daQFDY8TghylxbySDdtTgRUtFznkb2+dBgCOIoT8zizXh24fGxxyPPkHuYETzUGZHMXNj7w0/BcAAOsA3APgV35+qRvOsGQhWclvygaOxdgfk9AC23GKMF5HJTlJfu1A7Z5UElq8ZJMwe9WWQJOTZCSq7faln5OocczInFjYxiIZssROqzkonclh0vKNnjvaA10AKKW/J4RM8vt7K50wtFhwSTB2F6++dKb4oKT60mhbvwMrH99VIuLFPtfPB8ONRZjh1w60rWUKlnb0CF+jn3CM/RiUjr6ZqYF3+pBZ5PSnGj8nUTtjhgBl2fxbd/eGZgMke8+9PiWG3glMCLmRENJFCOnq7e115TMrnjAqk1CpiErLwmVytKTYd9v6HWh7eIfvmil2Jj1ReQACcRk9N2ltSlpGVLHJ/9nlFxcfWBY5xDvleLmAsV2z2W7ZzIHb1jIFWkw8wHOUFsuohlFWJFmfwJur5qGtZQo2bE+FTg+oszuFmETNC4aXjvbQLwCU0vsopc2U0uaGhgZXPnPO1Mo+J5Ol+PZDOwIZSDLFUuyQydESXXfAn8gOO5MepSc06PUQANfNmujrJCQTUaWfqIxFfIx4bUKx2jUbJ9XWpiROqhUbBoJynMp+b1//IDcyK2gRPjYe7PotvKgHDERgAXAbq4o7smQpDWQ34dThZRevzRJ2Q/j6MzlksxRscxonBNfNmlh0XvpFa1MS18+aKHyNfqISTcB+qJpa3UezSbXPohZDUOZP2TFzbDBfYEikFBoUKx/f5cj0SQBP5pqqWwCc3gAzgthNVKolIovXuzw7iWyMHE4Uz8hSig3bU74twPoEsK27ewtS2+WPj3FHz5uACeCLCUV0H/VhqfrENtF7RtbEsKyjx9ccDNb3yzp6MLLmRJy8U7yaTK3o7E4JCx2Jnm0KeGJ1CHQBIIQ8COBPAKYQQt4mhPxPL7/P6gY4IdWX9nUw8cTV3Mz29TOy4/hQzvF7mTif1/1vlgB2/7Z9SGfK257OZPH9R15C021PYvLyjVxbr5+Oa96umYCi44X9ZTbyOVMbTN8TI/n75ac93Uy0cSCTw5rFjY43QxQIxAwk+k7mN9q7ah73NV5YHQJdACil11JKx1NKNUrpBErpz738Pq9uup+mIDMFzTsWTsOtC86xdN7J4GexFbe0abzuf7vt7M/kio52M5OdnwusfrwApfELLOlITzqTxdbdvWVjbGydBqNYrh8nYJEdv5JM4CCS10TfqR8PooVNqYFWgNObrsUIhnJUWHzFq1huXuy2/rvYa2T13UfECShQVtTb78Q2t2yxXsfSuz1ZLJrpb7EbOzUkgPz1GsfY5OUbua/1ElHoLGufMcRVhiAc2bwQW2YGZfk6YxIatDgpW5wZSg3UIbKJPFqM4KTammKsfF//IDKD4h2gFw+CMfGFHbu73jpUjG1m2ZC8wWKkPqGh59a5UklBXuOkOhIPLycip1IVPDa+9K7vzmtAvo/MJkdeH3g9kVp9Lxuz33qop+yEwiOoDGCegu/gUBZtD+8oPsN96Qy0GEGMwPSa3OzzqloAZCSU44SUVdCaxNn96PHiQeAdf/WlBu3ufPrSGTTd9iRuXXBOYLLEDDcjmryciNpappQ8oJXith9KFpmFjFX6MkouDA6VPzN+TKQyVePaN+3hTv76DOBUXxpxQkrMKEFIQZvp/xjJ5CjqExqOD+U8rZhXVQuAVU1dAuDaC86wPSi8ehC42jMVfu7h/gzaHt4BIDhN/c7ulGsnAF92dC5H3wYhzzFnaoNlneKaGCmboMw2GWPrNMw7bzzaN+3Bso4e16/DuADVarGy7HXWh7zrYZFW7PPMTtOA/4tA+6Y9Uhu3I+kM1ixu9PSkTqhPceVu0NzcTLu6ulz7vFs6d5Y9EEbzT1vLFKGN0UutjkpL91nBIg/8RiSERQDUjYjjmIXJjeFHURKv74Mf/hezsV4JZuJ9bl2H2fhgnw3Ys/mz8cErwMJMon4yeflGqfvAnk83zLWEkO2U0uay31fjAqBXobSCyeX+x7Z90B/UYgBWeyzZavYgOFXNNIMAeFMQduYVVhOqFiMAgaXJxa+HV/aBrQQv9XU6u1NY1tHj+TUAlW0qrJ5LM5OIDAktLnzPWg+fY+NJhhA5EyB7zutNfHxOFlreAlB1iWBWqflG0pksntjxLuIGGQLjz5W0x6zCFGAe8nndrImWSTAja+Rua1Ap/VbOyEyOijWWC/hV69iPfspS6ll8vZPauU5x6oyXeS770hlHYcPpTFYooeJVKKtZDoOs/0fv4/NSqqWqfACAs9hzs4kmk6UVhx7K2CV59XT1xdONyCZXBZXSL+OMNPGLBYZM8AABEIsRZGVDUQS4HdYqmpTdjMQC8vLjTnBTHdYM0TV6FUHm5TW51eaqOwG4ebMr/Sy7YlXstCCa/GUZNaLycphOcWvh8avWsTGZiu0m9XtKivzDxGQK6hMaKsnLc3Oc1nP6iQU9uJFAyPjw+JCj04vV9bqd7a6HAp5IW3gdmuwGVXcCcDOmmw0cpzZb3gBh9W6Z02fO1IaKSvaZcWwwi2UdPeh661AggmorH99VcTikn7WOjScxMz9GJkdRN6IG3T/M+yV4yVMyuPWAd3ancHRgyPRv182aiCd2vCudQChDNufsZCx6LpO6yB+regxO8SIqSGauSdYnhJFMZrBQXTeouhNApVLQRiqx2fIeclL4XL3ujBf2boq8KYnp1ngt8KX3d1CKMnlnuwRZ2EOUoWql/2/E2A9uhrXyMsQJgAc8GldOdr48jau1ixuLonmtTUlPT65uyyxY1VZgYnx2agMAwKgR7tX5rqoFoLM7hY7n97v+uU4HjtmgdzPKRxZ9gRivdHXMHGKgcGwm8UsVlQdv8a7V8mqZdk6Zo0bUlGk7eW3/p/BunDk5vfA0rvT9cEvnTunwYKe4bbbhubKS9QksmpnEhu0p2z4YN+t8V5UJyI5ejl2cDByzIt1BapUD3unqmPk7eNmOMgTlwAbyi9mx4+VmFS1GTBVCrTiSzpTIcyzr6CmKnVV6H/weU/EKyqXyAh6AfJ8/4ILvywo3I75WPr5LGBSw8aV3HTmJlRSEQ8LolJGxLfuNF/3E+8y+dAb1Cc3Wg1Cf0ALNYDaLCGIOSid+jdPrE55lqsrUMeZRp8VMK8aJGD3SPfOEHqehrPUJDaNG1hRlIKx2225uLERjwekzrqQgHMB2VqJbT4hU6Lkpbt4UmZBDKwjy4XhO7btexL3X12ncB6IvneGavoy/12IEhOQdrCyxRp+17XVCD+/BrRtR43jhZJmqvIiwSq6pEod7fyZnO0LITfOEHid9m9DiWPH5c8r6j7fJSmixUBSMN+JlkuCw9wHIJn45nfzdttma2UJnf2ycdAUkVhDbaYasV7o6Vv1LgbJrTGhxXDdrYrEv6hMaQE74LFhijZ/+Cx7MhGeGzL0TOZUrpZJaEZkchR0fpVdJc3Y/V/Rc8pyzQznq6vipM6kYZ5eEFsfd10zHm6vmeVJBbtifAGSTMZI2bKVMCItJMrutLGhmFpJZnwhKo5zsXBN7vRe76M7ulNRphOJEWJzZbmf2qi3Cz2EVwgB3I4RkxhBrr5l0x3WzJhbVKM1Y8dguT+WWKw27ld0cebF50J+8ZAMkmLQDi8bSjyeA7wt0I7lT324Z01lCi2EgkysTpWTPgtc6V8N+AZDZQcUJkc72/OTHxmHXOx+WJGOl+tKextTL7gIpgA3bU2g+cxxam5K2zEleCcOx3bMMVm2Q6QdWIQxwbxGQ+d45UxvQ2pRE11uH8OBz+5GlFHFCcO0FZ+D21mno7E5xbfF96QzmTx+PDdtTnkn/WhV6F8GznRPkTXtemeCMfhF2SrSaVts37UHXW4dK+jPVl8a3Onq4UTkMt/xfMgEneoG7oGpzDHsTkMwOKkspWpuSWDQzKTyuUwDPvn7IdBdKkY+r9sIEYWcXaNQ615uTRHooXtU2Xvn4LqkFiOU+iHIRZPvB7Xhume/dursXnd2pkrA+feH61qakMJP1iR3vlmg4ja3TXDUtOj1JJLQ4rr3gDNPSixQo1uf1wjxhdvJiO2MRqb40Hti2r+y9MvFZbpmwZBaS2oKJqLUpiWeXX+yZmUfEsF8AZOqGsgG1dXdvRbHRXhWbtlv7VD/49IPr7mumCxc4t23ond0p2+JXIlt+W8sUaV+Im5FUMv3PTIEiaQ9R5nJfOlOysRhwWQzJKikpTgjWLm7E2kKxdX0s/u2t03DHwmmmvgAv6wKL/CJWshBOnmM3T1wyCwmry+FXPXEzhv0CYLWz1990N45/XoRQigp7myEafLUCx5TbD7PTz+K1o7UpKf1gi047djH2vxmnF3wXZrDTldUpQI/b96K1KYn2q6dz/54rnIJFu1GeL8Cr8GreOD69PpF3bLukyAu4H8whu2nLZClWPr7Lle90wrBfAAD+zj5OSMlNd+P450UUhF5TnElC8xYD3i6mszuFtvU7LBOVwiKWx3uv7ATqpsIlcOIktXZxo6lkQVvLFOG9X9bRg0nLN9qyxbs9sYoWoIRgY9DZnSo6183wKvKHN4n2D+aT8Nqvml5xRjgBSuQm3EJm08AIqkQoUCULAM8cwGz/DLumFiNaBVmQPIwSCkwbKGVYDKxkBFY8tksqC9rNh9mpNLCoHbLzuldSEUa/Sn2hXOGyjh4cOnac+z5q+L8enmXG6b0Q1Zjg9V9/JmeqCcXGn2hB9Sorm/W1cXE63J8pOvrZouz0LHDdrIme2dzZpiHMDPsoIJF9zWgmMJNmmHRKAtveOCy1o8zkKLreOuRbCGKqL40N21NSR1eZMEy3w/icWmFE7ZBJNPK6RjAzlRijVJzIQADgFjR3IlxolVEs6j+2E9W/xyoE1o+sbLN+ZSG/rB6xk/MeAdB85riK2yeisztlGblUX8FGqVKG9QmgsztVLH5uhtmkrreBtrVMwfNvyk3+DLcjgaycmW7Yir0QIQOchR4azXJGRKYKwJvr4OF1EZONL71r+z1Wjmi7kVQiMxTLtPWSFY/x7eP6KmpO9hoU7gc+GLFSIIgRFPtQdHLzimF9Alj5+C5hMobVyitrNtHDIoHcSiaRiXuWsRWP5UgxxAiw+hpvaqI6ESLLGcxyejq7U+gX7LLZzt+P+q5+iKw5sQ1bOaLtaAOJrtNqoXYLWTkT2RwBI16JHzJEz2aM5E9/vLwFt/NZTNvg2SeHAKsH6IOBjHCVdaql42YyicyAltnV8aImctS7XZATn4roWqxOOm5HzrAd2aTlGzF5+UYsLcg8V7Lr9BpR/7EJxU7NaJ5O/93XTA+dbo4+R8DOvQlKJJLtLXl5C16G2DKG9QJgRY6Kj5giRDHVfiaTyNq7W5uSaL9quml4pFcDjYXgymJ1LTL94dbDbNT/MVuIzfSLtBgploVM1iewdnGj41KGVuYuM0Tx/uw+yyzK+tOUlU6/G/DMH3b6jmWS7101D2sWN0rb1isJVrBCNneFt9HzcnEChvkCIDMARLt83uAbW6dh8flnmP7NzXJtVgtJnJDiQy2zg29tSiLH8Wd4MdBYZqwsMZIPl+TZP2UWVrcWX1n7Ptt1ssmx/erp6P7h3JI4+lsXnOMousyJOFlrUxIn1fItu+/0pYWOYLNJ3utMVbNIN3YqNTu5xoh1FbXWpiR6bp1bTGxj12bGsUFndYxlsJO7YoZXIbaMYb0ArPi8cxVEwNxsosUJbl1wDrbu7jV9j5vl2njH7+tnTURCixed03aUMLnhlXC/MLZdJ+mxwaxQ2dPKpORm9I+sfZ/tOkWTo52YcD1MnMwuIuf76fUJ7hhgSrJ+yxHwHNcsymfUiJriZiwvjQzUxEgxfDZOCBbNPCGgqD9NsMI6e1fNw5ur5plu6pz2syyy9102p8dNhvUCwLIfRVmhoiMmM5uU7PCuymdT8iYIN/XQ2cShP8nUajHTSkKyZhyRicBtSeVKThVm12PWHwwClEwClcCc71bYeUD1iWRe26dFu8ZUXxqHjx33tA6xXXjXyKJ8+tIZHB0YQjx2QpQunckVbeh6zSXRaQLgL46slvPZP/i/mLR8IyYt34izbt6IWzrlhAxFyJiBtBiRzulxk2EdBQTkH7xlgqgHkT4Le7/+JlipW1aSvMNTBDw+dCLyReTYlpksrKSB3YyKEEWQyITWml1Pa1MS7Zv2lJnuKMA9ldlF1vnu5AFliqEPbNvnmoPfyJypDSVqtUb6MznESH7z45aSp2j8WiETUWUVjaffMIgK6/C+a0xCK1MLzVEU+1FG5ZfXB1L3nORzErxQExYxrE8ADN5D5CSJRaRu6XQXJdq12DGjyE4WVtFRbimD8kxYPHVJI7zr8ap4CjMdyJh/kvUJxxPm7a3TcN2siZavszOe9BFLosmfkaP5KmZumHysdt1WVJqBz3inL205NnhjkhC+WuiDz+23/G6rPri9dRrW6PwRRrw2Q/GoigXA7KbrSwvK2r6t1C2dHtlENlBZW7TsZCFr3nDDFMSTTXhg2z6MrIkVo2XqE5qUSYJNcrxdFKut6ySZRrZyHKNSc4nVacWOCcBu2xluhitXEsIoMu3ZQeTfYL/nRTWJ/CYyp1WZPmBmQN7z53XEjxmBmoAIIZcB+EcAcQD/Rild5cX3GCUexiQ0HBscMk19Fz1wogFdSUq8yAYq+r5RI2tsH7llzRvpTBYrHttVsSmIJ5vQl84gocWxRle9SWRC4BVjZyS0OOZMbXBcWN3OSavOhdqxooe9PqHZ0pBxmpHslrmSt/DYmdB4pj1Z9NF3xnFiFiFkvH+ies8yyrJWJw99n8U4JlAvw1F5EOqyaqL0FxMSB/AqgEsBvA3gBQDXUkpf5r2nubmZdnV1OfvCiy4q/vPFfX0YHMriiamfxv0z5qE2M4B161dgRE0cMybWn3jPkiX5/95/H7jqKmx742DJR97fdDmeOPszGP9BL9Y8cTdq4jEMZXMYURPHxHEJnHrr94EFC4A9e4D/9b/K23TLLcAll2DJ/74PX+3857I//+QzN+DFCWdjxtuv4Lu///eSv9XEY/jwjnbM+cJc4KmngNtvL//8n/0MmDIFePxx4O67AaDkGpbN/zbePbkB81/5Pa7v/m3Z27/WejNu/dJn0bpjM7BuXfnn//a3QF0d8NOfAg89VP733/0u//+77sKLP70fg0MnHsqBmpFYcs3KfBRN5lng6adL33vKKcCGDfl/33wzXuz4vyXvf3f0qVi24Dv5fvrDL3Dx8Xew71C6+Jo3xiXx/cu+AQD4xy334oq6o6Wf39gIrF2b//f112Pb70slQ15MTsVPPrsEAHDvoz/G2PQHxb/FCMH5X74a+MEP8r/43OeAtGECmD8f+E6+ffqxx7hrzHTcc/bc4tgz8vC0S/CnTy/A35/fgMtv+0bZ3/G1rwGLFwP792Pb7MvL/vx/zr8ST3/8Apx18G38eNM9ZX+/91NfwJVtS9BKeoGlS8s//8c/Bj75SeCPfwS+//3ir98/ehxv9B7Diou/gpc/chZm7+3BN/74m7K3f7/lJhyaMBk9M44Xx14Jv/41cMYZQEcHcO+9AErH5tdab8bhujG4audTuGrnU2VvX3L1Cgxotbj+xY2Yv/sPqInF0DxpbLGNV1z1I7zTl8a3X3ocXziwA6eeNPLEmxMJdP7439C+aQ8WbfwFLkr9GWPrNLz3wQAA4HDiZHztyvw1f/f/X4fPfbgXk08ddeL9EyYA99+f//fSpUBPT3FOAcrH3nn97xU/GwBePu0s3HbJjQCANY/fhfEfvg8AIITgYw2jcOqlFwF33JF/8aJFwMFCv7DnyQGEkO2U0mbj74M0AZ0P4C+U0jcopYMAfgPgCj++WD+RyPyeMaJGbKccyuaKn/NG7zFse/2g8PWMGz45Sep1xu/6p6dfs22msboGI3btku8fPY4X9/Vh2xsHS0wwvL6V3SXy3k8AXPOJM3DqSSO5r2HywSLs9EuOUrzy7gfWLxRw6V9/xNLunepL4x82voz3j/JVRgH79xSAY5v7vkNpbi6JkWODQ9LPAODsOhhDuRMW/FNPGlkMzb3p4o+XTv4A3vtgoMRePziURe+Hx/GRk2sR0+32YwQ45/QxpZM/h4njEiXvBfJ9fHp9bcnkL4JSin2H/DUDBXkCuArAZZTSLxd+/iKACyilNxledyOAGwFg4sSJM9966y3b32U8svbrzD96rGrSWpkh7H6enknLN0q9rpLvACCsTWsGAfDmqnnSn922fkdZxMb1gqLosu3nOWfZ+5lmvdnRWuY77N5b9rmVRM/c0rlTymHr9rhksJq0dtpvd5zaGZ+88eP29/DGUj7HgDqOijIzY4pMS2bYed7s4PgEQAi5iRAy1vUWmSfmld15Sul9lNJmSmlzQ4NzeVy9d/4Ix+FjJb/LHEiy1abs2ECd6tfbdRzZqUoF2LMT88Tz7t+2D3OmNnALqcjAi95oa5ki1Ky3I5Whdw7KUEnehJ0sadE91keKGdtdp8VQ53IFOLuV1uz6AURZzDzsRt9Z5R04ua88H5bd59PrzF8jMiagjwJ4gRDyECHkMkJcq7X3NgC9nsIEAO+49NlFzBxkvHAvmTjy1qYk7r5mekVhjGY4DYWz8x0sQkZWZVKLEfQPDklH1IgceFt391akKSPSpOE5Qe0qVuolD0aNkLsXTnWU3AjvtdIrymSp5W7a7gRlt9Ka3QnNroS4k4QpmTbZua+iEFDRd4UhGc9yuaWU3kII+QGAuQC+BOAeQshDAH5OKX29gu9+AcD/IIRMBpAC8AUAf1vB55liZ4DLvpYNNpEpxe7N1EcquR36CcibCZhEbb3DSCke7JoqqZBkFr3R2Z3i9pdIWlpEZ3cKxwblzSmpvjQmL99oy3QgO9ZE99hqEfGiAlzShgy23fEpG6HGPttp2HVbyxSpZ0H2HvFCQJd29BRDnPWy9AT5SmTNZ45znDznFlLnLUopJYT8N4D/BjAEYCyAhwkhmyml33XyxZTSIULITQA2IR8G+gtKqevVke3ottt5GFqbksIFQFR8XfSZrU1JTF6+kfsgMM1zu/Zn2R0nmzOOpDNlbbDKEubVHGAs7ejB0o6eim3nQH7CWPHYLuGpw+lx2smOXr/zA6wXyXpOX9kJ7600btzJjlO2noCde+zEt1bJ+GHv4/mMGLLjR3Qf+tKZokKsWdZ10JLaMj6A/00I2Q7gJwCeBTCNUvo1ADMBLKrkyymlv6WU/hWl9GOU0h9V8lk8zLRvYnDn+CWy27O6pU7sw6KBx4arTGSLHruThRN52lsXnMOtb6unUs0hNmGIJn+WF9C48smitkvTbU9KfafbGkZGOrtTODpQfv+0OMH86eOlv6sSe7FTrRkZHxKboNs37ZEyH9oxh42t01wRqxMp4wL25gOr+5DJUdeyrt1GZpt6KoCFlNIWSul6SmkGACilOQDzPW2dWxgmpXicYPEnzqhYeMnKbs+yee1mGx87bj25H+7PoO3hHdKTqFvOJdHntDYlsfoaOR12dkR2okAqM2EQUNy/bV/JInG4P4OlHT2YZHE/Ku0rqwWkfdMeU/NMTYxgw/aUtKRCJRIKlUxEVvLWh48dR9vDO6SvQ/aEzpR43aCzO1UWtqnHzgle5j54XT3OKZZXSSn9IaXUNPaSUvqK+01yl/ZNe8rKQmayFFt391ascS6Twm4nskBmZ6vHjn6IG3orMrui1qakrTqxTk4DMjt0UelIq+816ys7kQ9WCwiv/elMjmtLNluwjDLT+jaOrdO4O3WnEWcy3wvk+974zPFORnbue/tVlVUh0+slLe3oEZp/7JzgZeW+3VAWdZthrwXklXCYHr1apwgr84CTlH47jmujLo8McUJsn5Ls2tDtRtK4dZrhfa9ZxJEd56TVIumk/bwFq7UpWVyw9G0cyOQw77zxFYXeimARU3tXzZO+nlRfumwhk63IV4n4HuBML8munpFIah3Ih0P7UejdDsNeDprnBPa7chRDNGG7rf1uxBhFY5WIpMUJd9cl0u5xch123iMbxSEDm5TMJHz1181LHnKiyWTW/oQWR60WEzrReU54XhQKC731MtJEFIVlhtFRLnPaJahcfM+pXpKdcckz7elZ+Xjl+lpuMuwXAN7D5la8baWJHjIiUTwqLT/ZfOY44QIgmvxFomt2Iq8YdhcywF7IrAj2Gam+NJZxIpV442jF589x5Ehl7ddPzEC5kBmvrXpEp1yz0Fm3sKqNwcNuzQmKyqNlnJ747YxLme+QzcHxi2G/APAeNrceCjuTnXHhMU6kdib/sXUabl1gf/IxfjcP0ZFbJH3LjsJ2duhOFmSeymilsDtgXNTcHkeiiVm0sBHk7x17b2d36kRssAGvs0qd7qqBExW4CAGshn19Qquo4Axg7zll2B2XTr4jaALTAnJCRWqgLqIfjExa2uj0MmI2YTfd9qTtHYFbWiGiwidWSTaiPIW9hbaJtHmcSlnzsNI3YqYswP6pwa7Wklt0dqewrKPHtJ/1+kc87ZwYycsLu1Xxy9g22X7krE1IaDEARGoBiREgHitNprKbCOZko3D9rIm2KnTJaBnVJzT03DpX+jPdgqcFNOxPAG5jpmsfw4kMWh7HCzvkZR09OL0+gTlTGxwdB93a1YmOq1YPFm+nY9ydjq6tKbPxOjWbVAKLlmLRXrJVv4BginQA4kRD1iaRzTlH4VoWtx6ZiVQvqjZnagM6nt9f1s60RZSWnhwFcpyoIjsyH4B18peeDdtTaD5znK0+E322FiO2IuT8YNhHAbkNT1vIKuu+P5MriYt+QEIF0oibvgveQiITbcErck2R7x9eOOvYOs2TQtcykRr6idzOpO6lGUVUvayzO8UVXmNtsnMdTjWLjFiZfQiAay84A2sWNwIAHti2D0MO1D1lcCKEKCtlDdjvs/ZNe7jzQJwQtF9dWRirF1TVCaBSOyLg3o7QySOxaKZ7Dr1KnONWu1PeJFE3osaTB0Dmnugncju2WiuFWDuITIf6XbqogLj+Htm1ObNaz5XcA6u+psiHO8rIXFeKk8XZbp+5pSXmVJfKa6rmBFBp4WqG33Kteh7Yts8yi1UWnromgLJdqdlOlZf0cnp9wpfcC4ZVRidQHi1lJynuwef3uxK7bRx/femMabLUisd2cSd/o7qpVdy5GZXWeg5q/LulnGk3IdLO9YpeG+S8IaJqFoBKC1cz3MiodYoxQsWNRYBlQ7e1TMGKx3ZhaUdPySLJBNyMC6dI39+qMLdbiOoAlGD4s9nix8uazeYoVj5euUahbMRMn4kIH8O4i2xtSqL96ukFh6oclZqCghr/bki3APJZu0DenGXnBMh7baXh2l5SNSYgt3alxnBAwNqcM/tj4/DiviOuhSoC9p1gIuxGSKQzWTz43H5kKUW8kLtgjJv3MveCITupZnK0rMC9PgzTKorIjdhtN04/p9cnSiJwWN97WaTFiJPxL0tckAezYXvKNf8Ru/dWwQAUKPrqRNLNVsq0iz9xRijNP0AVLQBuZgQbJw9R6Fd9QsMDX7nQdilGGdwyqTiJ52YPapbSksmdZdWOSWio1WKehCEy7Fx/XzqDScs3li1U7P7JUIkPqdIYcbYbNcsb8bpIixH9+JcNZdZiBCfV1qCvP2MaOp3Q4lg0M4kN21OmY9HNDQ9DRtqa+TQ6Xthv6q8BrJP3ZApNBUXVLABeZQSzAWm2A2Ahj+x1bmWuMvwICZWB2a6PD50QM+tLZ5DQ4lizuNGz3Y+TSdUYEimTvs8SkUTZz1ZUIl/BCohs3d1b8SnSbXOETAUvsxwYo0OckPxue0xC416jG05sPa1NSXS9dUjKYc0Tt+sfHHKtsEwQVI0PgOf0dOtI2XPrXKxd3Cj8fCcRJex4bzzk+xESaoe+dMYVH4sd2lqmlDkHZdArbFotICx2u1Ifktn4kyFOCNYsbsTtrdNc2TyMcjkSSzR2kvUJrF3ciO4fzi37TuZ/WrO4EceHcjjcnyk6x0V31A3fl57bW6dh7WI5CXMjqb601OknrA5goIpOAIA4/d6Pz3dyFMxRir2r5rkSwsqjrWUKN+u0UrxOjc9aZGCLSPWluZmqQGns9jKLpCwZjONDxnyS1Tl+RTZyWY5ISo3LwjvZjK3TMGdqQ0nyo9mYNVtYKfgZxF6YggB5RV89svcjrA5goIpOAGHAyWTIdg/6iB23qwq1NiVx3ayJrn2eEdlKXHZp37QH9h/bUniPrxYnuPuaE4k7XkQ23brgHMsTDMuuBuzb+s1wezfKTjbGHfTh/gzu37bPMuyat4CKrtRtk4oTH1hCi0vfj7A6gAG1ALgOL7uzsztlq6gIkDc/9A8O2aoo5pTbW6dh9sfGefLZlZTHFOHmRGAMpRwRj2GZrhCLWfijG2a4Gos4fpZdDVReyMWLSCwgP8HJBCKZmcxEGemiXBM3sTuOmHnXqjQmIF93IyjUAuAiomSz9k177JtYCIq2Ubdi/0U88JULcf2sibbDCmXwwh/g1kSQf0hLr/nYYLas0LubPqQTTmXrMwyboMwWIS1GUCeRB+Cmz8tIZ3dKOlTWeAoWLaxeLbpG7IwjfW0Cs7rORo4NDoWuCIwepQbqIjynohPbLU8m1w91Squ4Zqe4pWTKkFFftEKmEAvgfr/bEaTTf7fRFzRnagM3dJJhVznTLnauBcj7B1h48KRTEvjj64eKm6NRI+L40ZUn2uql74thNw+GnUyc3L+gUGqgHiOqjJSlVOhsNKLFCHdS8zqkzG19fT1e2J+B0hDcsXWa1G6UFNrDHOBWpPrSmLx8o2uTkOx91Gejmk2GMvZrrxynDLtjUq9Sanxmjg1m0fXWoWJbvQrcMPbloplJbN3dKzWp273eMNcIUAuAC8hURhJFNhhZfP4ZXD0Yr9UprTT8nQ5mr9LhzSYIqx2pcUe28vFdUouG0SRUycQkm8NAkc+CReH/+jwEO4mFXm4c3C6E8uBz+23p8NvFLKeDZRrL9OnpNk8ARpn0MKF8AC4gG0VAYe0UStYnsHV3r+nk70ZtVB5Wujp96QzaWqZg7eJGR1owNTHi2wMgyg9IaHHMmdpQdNQ3rnzSdmikG/4MnqaOmU84ncni/m37KjqVeblxcFsfSD8GRZLZThHldMj4v3j+CR4U+ToEYfQFqAXABWR3V8n6BEaN5B+6mINLFBrn1SQqs4gZnaFAqetUFBVhpwBIJTD/hVmFtrF1WlFuQK/K6cSFUOmO2iwxbO3iRsvyiE7wKvqHwQsFrYTZq7bgls6drij4GhHpgln56uoTWvHUuWhmUjqyL0up50EcTlAmIBeQOQKzh1Bkb2ZyzLzi8JWGAYqQmdDYLkmUhzBp+Ubu+70+Blv5L1hsuhu4saM2M19VKhdCAHzyY+Ow92DaU8cpQy9OZzUZ1ic0fDAgt+CyoknGl7rhz7DSBRPVY9ZX9OKd1Hl47YtxgjoBuAAvPG9snVYWMiiKewbANcN4vYuTndCMC4XxiD5qBP9Y7PUOqJIi5Xbw8l60tUyp6KGkAPYeTHuWNKhHH/bMvlsEIbBlKuJ9XqWnL6vQU1F79NFJThbqsOkCqROAS4ysiRUnHzPxK4ZIlI43gRkLgXiBrFiZfqEwc6ZpMYJ4jCBrss0LWzSKE4xqom7T2pTEtx7qqUhj2a9Jxu6C64asNuCOmimAsnBa9rMoBLvSEOmw6QKpBaBCzMwOAwJ7t9ngYxMKzzzkRzk5fbt4GjnGna/ZBJDJUdQnNO4DEqVoFCME8CWeu9ISun5NMn4sNMZx6NbpyyjpXvIMm/Q/QX6DU6lmVth0gdQCUCG8iIJvP7QDyzp6ilK3el18BgXw30cGsLSjB+2b9qCeE8MeI8SXMDKjTdoqCYc3ARxJZ5B0sf6CLG0tU9D28A5TB7Ab+DWxViL6ppcPcdv+bxwPvPHqFqxGwNbdvZ76M0Qnb2MOTyUjiyB8ukBqAagQ3iTIHmD9TjjVl84XHyEn9MXZ69hkaWY+YREEgH8DSCYDk7fjHpPQPKu/YInhCY0BiMeJ6aKgxUjJvbDCr93btRecYdtZTYBioRV9opVb44Zn7tMMfWsn4dFIjOSvwcsiQmZYPcN2rycGmIoUeim46BTlBK4Qu7vCTI4KJ5xsjnJjwb3U1tcj0jTSwytK3pfOYGlHD0bWxEwd4V5hVtwlh7wGPnOyszjv+oSGk2prpCd/Fv7nB3aF+ZL1Cby5ah5GjSy/HrfGDc/cx/qW3eM1ixuxd9U82yGho0bEsfqafO0Ar53XRtw42bGnIFmfwOrFjSWaWnFCcP2siZ4mtzlFnQAqpJJKTzx4NuAgnXtsIul661CxHrAVflQF0yMySfXcOrf4s125C31lN79gZUR5mdkMfXKgW3Wv7XyGWd/OXrXFtpO034foLR6VPsNmQR+tTclQTvhGAjkBEEKuJoTsIoTkCCFlAkVRQp/Q4zVBO/dSfWncv22fLfu0nycXWc1+O9ErfpxceLQ2JS37Wh+aWM9JxHNj3Mj0rTEsFCjdGV8vMIFQCrQ9HEy2rDEpzw6xgmJv+6Y9oUvykiEoE9CfASwE8PuAvt9VWpuStlLD4xYa8PUJzRcZXB5B6607RVY+WDZSaK/PpggjMjUk2MajsztlKk/slgaTTN/yqnsx7aXmM8cJ6wZkstS3zYIIkRxEfUIreX7Zad0PuXYvCMQERCl9BQCIB7rzQWFnVxkDcDIngkJvbvBaBpfHnKkNrmXMAv6dXEQhtgw2qVqdYfw40VkhU0Mi1ZfG7FVb0D84ZKogO5SjWFaIMqtkDMn0rejkOGn5Rql+DyJRymgSNDt1sbYfGchw5TrCmOlrReh9AISQGwHcCAATJ4bPi86wM3AzOYq6ETXo/uFcYbRNUAPJSe1iHn6eXAC+fLBessAKL0X37CB7UhG9jhp2qIDzcWUlzWyVhyFjOAwiUcpWGKjFRYQt09cKz0xAhJCnCCF/NvnvCjufQym9j1LaTCltbmho8Kq5FWN34Kb60sXY/raWKTi9PoF3+tKhsCW6OYiDsp/rMbNNi/BSdE8WJyVErfDaH+OGKmgQCy9vvOcoRbI+YSsMNGyZvlZ4tgBQSi+hlJ5r8t9/evWdQeJk8N/8yE5TxcOlHT2eFVKXIWqD2Aq7kgVxQnypwyzCUQlRCbzcoVbiTAX8DbXVI3Jw2+kvffGeqKDyAFzCTN5XJIwG5HdkDz6333Ry8qqQugxuDmI/nXo87Xi7k16WUt/qMPNwOlHrY8/N8Hpxb21KFoXo7PhRYiQvFhfEwitycNvpL1a8J+gTvB2CCgO9khDyNoALAWwkhGwKoh1uox/8zy6/GD+6cprlqUAU5udnCKUeN30AftlEzZLX2tbvQNNtT1a0kw7qHjidqLOUIqHFce0FZwQaSQbYOxXnaH7TE8TCa7Z5Y6bLOVMbbJ1mghovTgkqCuhRAI8G8d1eYVase+vu3ooTxIJwKrn5nX6Zk3iZqm5o1QRxD2SSk2LEPGkwncli6+5e3LFwWmCRZEC5wKAd/I6oMYrDtW/ag6UdPY6kLaLkCA59FFAUMNNJCVPhESff6Yaqpp87Tq9VRv1GZvI8uVbDkXTGdIJ6py/tWUF1O7A2NN32pO3FOAwhoU5Oj1HyoSkfgAtUUogkWZ/gllIMKhzRjWgOP2oY6HHjoUtoscDNJnqYSZFngjiSzkhnPwfNvPPGc//Gu74whYTKEuR4cYJaAFzA6U6FZWneuuCcsomHIK8eGJQEAStPaUWdFisThNNiBHdfM93Xtle6aCW0OO5YeB7XFuw1ouLnvImQwnzshW0S6uxO4cHn9pv+LU4Irps10bSiHpO19tMpXMmpI0jZEKcoE5ALODWZLP7EGSWDJUh7rZHWpqSU7bY/k4MWN+zhAkjwNmaqMmlkntqnFiM4qbbGVHrY7343MyGypC0AOHa8XOKBYbw6UTU6P5GtnJWjFLe3TkPzmePK7p0XstZW2H2W8xuHaE36egh1WHgiCJqbm2lXV1fQzSjDrrokI04IcpSGYsI3o7M7hbb1O0wlBhi84iVx4v8pwMgtnTtNC4sz6hMaRo2sCXzRnb1qi+mkU5/QcHwoZ2tcMd2dIJEZNwyze8DbePhxbXaf5bAsuFYQQrZTSsuEN9UJwAWMu0/ZJVVfDEa/w5EpxuIHrU1JrHx8l9B5xwtjDaKIjZGtu3uF96IvnSnuUP3cZRrhmR2c1J0NQwSKWV0GM7QYwbHBobJ7wJt8/bg2du+tZLgZLF9H/94ooXwALuE0AYbBwt5ki7H4RZ9F5IbI2hN0TLTdCSNqMf9ef5ZTZPo9TohpQZ50JhtYEhujtSmJu6+ZLv36oMd5JagFwAOcOiSZFhCvGEsQWD10FOJFIMgdqZMJI6iY/0qjroDwOH+t+j2hxXH3NdO5mwuWzGZ8j9+igrzoPDPCcPJygloAPKC1KYlFM5NlEyP7mbfDGZPQuA6ooAZYW8sUS58uRXDSAyJk2m4kqJh/2aJCWoyYlgwdW6eFxhnJKxUKlLaT19csmiaIaCw9ty44R3r8hOHk5QTlA/AIM/szBYq1Uo32XWYP5RHkAKvVYkhnzMpc50kW/BSBFIG3wE6IQ9Ax/61NSa5DGMgvsu1X500TYfAR8WBt0UcBmTlLRWMmLElsXW8dEgYSMKImAsdQC4BH2HHssaMmz9ka1MR0IiKCP/mzXAaZgiF+wtpuhzDsoNtapmBpR4/p37I0XzErCpONzAQetjFjBgtRtQppdVM/y09UGKhHiHZyRpIF2VnenVjrU1F1IzLXUJ/QSoqChwU7/Q+EI2yV4UQ2ISrhiFHFajwRAG+umudfg2zCCwNVPgCPsOPYY7sfM5L1icAeahm/wxEHoYp+IGp7WeIaToSthkHK1ywz3Iog5cP1iDKao4zVszAmIe8wDhNqAfAIo2NPVGiaHX2DjnwwIuN3CKvzS7Sgtl813fR+hCWcz45TWE/Q7Q9bCLObWI3zY4NDkbxOtQB4CCv3mNDi3KQSvdMrDJEPemROMf0hHfhmbSfIT0rtm/Zw70dYwvlYXomdUEQg2PaHLYTZTayehUyWRvI6lRPYY0Tqgsn6cg2aMNlwzfR1Boey6Nc5hcOaCWmUU9bruht/1hO2E41dF12Q7ectPmFZVCtBRp47itepTgAewxsUBMCzyy8O1aRphj7DuefWuRg7amTZa8K6y2NtNyvsbZbAFrTJzQw7Ppag2x8VaWqn6MeTGVG8TrUAeAxvUIxJaJF0lkVxl8drGwVCZXIzQ+TLWLu4MVTtD6Mfyw2Mju05UxuGzXUqE5DHmCW78ESwgHCZUczgyeWGeffDa3MYlDOtCGuCnRlRiOu3i5lU94btKSyamcTW3b2Rv061AHiM2UPRr9M6Z/hdA9UpUZqQGLz6usyBHeY+502qALg1BIKuI2H8/rCo2zqB59jeurs39JsHGdQC4APGh2Ly8o2mrwuzGYURxV2emTQBEF4HthGzSXX2qi3ciJswXYuo2E2Y2skjiiZPO6gFwGPMdj9RNKPoCVu0kgyswpkxnT+Mk6YMUZmYRKGhUehzq2c1yqcbQDmBPYWXGDOcnEhRyvyMyqQpQ1QibqLe5yLH9nBIfFMLgIeI7IdhS/pyQtQegKhMmjJEJeIm6n0uStAcDolvygTkIaLdTxTNKEaidryPogObR1R8McOhz3nPatRPN4BaADwl6rZ+K/QD/eSRMXzjgrE4s15DDASvvPJKgC0zZ0otcP9VSXyQHkI2RxGPEZycqEHdiA/wyisfBN0820ypBf7tivG63wRzHbW1tZgwYQI0rVy2IioLlROGw/OtFgAPGQ67HxH6B+AbF4zFjI+djpq60RhZE8fU8ScH3LpyDvcP4r0jA9CyOYyIx/CRMbUYWzci6GZFGkopDh48iLfffhuTJ082fc1wOO2aMRyeb+UD8BAz++GimXnbYRScplbo7dBn1muoqRuNeCw/sYaNw/2DSB1OYzCb1zEazOaQOpzG4f7BgFsWbQghOOWUUzAwMBB0U3wnjAKOdlEnAI/R736iHhNtRH+8j4FgZE08tLvq944MIGdQVstRiveODISyvVGCCKTOhztRP92oE4CPDIeoASNFgayxCUwdf3JoJ1O285f9vUJRDagFwEd40QF2Shcq+MTjcTQ2NuKcc87B9OnTsXr1auRy+Ql+RNx8qPe+sx//8R//4WczFYrQoBYAH+FFBxAg0r4AJ3iRQJZIJNDT04Ndu3Zh8+bN+O1vf4uVK1cCAD4yphYxg6kiRgj6D/23WgB8IEoJg9WEWgB8pK1lSpkGPZCXJY6yGcgufiSQnXbaabjvvvtwzz33gFKKIwfewVeumYcvfO6zWPy5z2LXiy8gOTaBH634Af7whz+gsbERa9aswd69e/HpT38aM2bMwIwZM/DHP/7RtTZVK1FLGKwmlBPYR1qbklja0WP6tyglj1SKXwlkZ511FnK5HA4cOIDTTjsNW59+CrW1tXjttddw7bXX4trPd2HVqlW466678MQTTwAA+vv7sXnz5pLXdXV1udamaoR3v7/90A4A0QyAGC4EsgAQQtoBLAAwCOB1AF+ilPYF0Ra/SQ6D5JFK8TODkhYifzKZDG666Sb09PQgHo/j1VdfNX297OsU8vDua5bSSEfBDQeCMgFtBnAupfQ8AK8CuDmgdvhOVDRcvMQvfZg33ngD8Xgcp512GtasWYOPfOQj2LFjB7q6ujA4aB7/L/s6hTyi+xr1KLioE8gCQCl9klI6VPhxG4AJQbQjCIZD8kil+LEI9vb24qtf/SpuuukmEEJw5MgRjB8/HrFYDL/+9a+RzeZNEqNHj8aHH35YfB/vdQrnmN1vPdVk/gwbYfAB/B2ADt4fCSE3ArgRACZOnOhXmzwl6skjleKVPkw6nUZjYyMymQxqamrwxS9+Ed/61rcAAF//+texaNEirF+/HnPmzMGoUaMAAOeddx5qamowffp0LFmyhPs6hXPYff32QzuQNSTjAdVl/gwbhJrcEFc+mJCnAHzU5E9/Tyn9z8Jr/h5AM4CFVKIhzc3NVDnkwskrr7yCs88+O+hmKAJC5v4bM+GB/Mmv2k7AQUAI2U4pbTb+3rMTAKX0EosG3QBgPoC/kZn8FQpFtBnOyqBRJagooMsAfA/AZyml/UG0QaFQ+E+1mz/DRlBRQPcAGA1gMyGkhxDyrwG1Q6FQKKqWQE4AlNKPB/G9CoVCoTiBkoJQKBSKKkUtAAqFQlGlqAVAMWwQyUGHiSVLlmDy5MlobGzE9OnT8fTTTwfdJEWVEoZEMIXCFZgcNAAcOHAAf/u3f4sjR44UJaHDRHt7O6666ips3boVN954I1577bWKPzObzSIe52fcusXQ0BBqatTUMRxQJwCFN1x0Ufl/P/1p/m/9/eZ/X7cu//f33y//m02MctDr1q3DTTfdVPz7/Pnz8bvf/Q4AcNJJJ+F73/seZs6ciUsuuQTPP/88LrroIpx11ll47LHHAADr1q1Da2srFixYgMmTJ+Oee+7B6tWr0dTUhFmzZuHQoUN4/fXXMWPGjOJ3vPbaa5g5c6awnRdeeCFSqbwscjabRVtbGz7xiU/gvPPOw89+9jMAQC6Xw9e//nWcc845mD9/Pi6//HI8/PDDAIBJkybhtttuw6c+9SmsX78eTz75JC688ELMmDEDV199NY4ePQoAWL58Of76r/8a5513Hr7zne8AANavX49zzz0X06dPx2c+8xkAwMDAAL70pS9h2rRpaGpqwtatW4vXf/XVV2PBggWYO3eu7fuhCCdqGVcMW/Ry0CKOHTuGiy66CHfeeSeuvPJK3HLLLdi8eTNefvll3HDDDfj85z8PAPjzn/+M7u5uDAwM4OMf/zjuvPNOdHd3Y9myZfjVr36FpUuXYsyYMejp6UFjYyN++ctfYsmSJcLv/q//+i+0trYCAH7+859jzJgxeOGFF3D8+HHMnj0bc+fOxfbt27F3717s3LkTBw4cwNlnn42/+7u/K35GbW0tnnnmGbz//vtYuHAhnnrqKYwaNQp33nknVq9ejZtuugmPPvoodu/eDUII+vr6AAC33XYbNm3ahGQyWfzdv/zLvwAAdu7cid27d2Pu3LlFRdQ//elPeOmllzBu3Dibd0IRVtQCoPCGwu7alLo68d9PPVX8dxvIJJmPGDECl112GQBg2rRpGDlyJDRNw7Rp07B3797i6+bMmYPRo0dj9OjRGDNmDBYsWFB8z0svvQQA+PKXv4xf/vKXWL16NTo6OvD888+bfmdbWxu++93v4sCBA9i2bRsA4Mknn8RLL71U3N0fOXIEr732Gp555hlcffXViMVi+OhHP4o5c+aUfNbixYsBANu2bcPLL7+M2bNnAwAGBwdx4YUX4uSTT0ZtbS2+/OUvY968eZg/fz4AYPbs2ViyZAmuueYaLFy4EADwzDPP4Bvf+AYAYOrUqTjzzDOLC8Cll16qJv9hhloAFMMWvRx0TU1NiUN4YGCg+G9N00AK5SJjsRhGjhxZ/PfQ0FDxdez3otctWrQIK1euxMUXX4yZM2filFNOMW1be3s7Fi5ciH/6p3/CDTfcgO3bt4NSin/+539GS0tLyWs3btwovE4mWEcpxaWXXooHH3yw7DXPP/88nn76afzmN7/BPffcgy1btuBf//Vf8dxzz2Hjxo1obGxET0+PcMFUwnildHanIi9roXwAimGJUQ560qRJ6OnpQS6Xw/79+7k780qpra1FS0sLvva1r+FLX/qS8LWxWAzf/OY3kcvlsGnTJrS0tODee+9FJpMBALz66qs4duwYPvWpT2HDhg3I5XJ47733ir4LI7NmzcKzzz6Lv/zlLwDy1c1effVVHD16FEeOHMHll1+OtWvXFh3lr7/+Oi644ALcdtttOPXUU7F//3585jOfwQMPPFD8/n379mHKlOqpVSHLcClzqU4AimGDSA569uzZmDx5MqZNm4Zzzz23xFnrNtdddx0eeeQRKWcpIQS33HILfvKTn2Dz5s3Yu3cvZsyYAUopGhoa0NnZiUWLFuHpp5/Gueeei7/6q7/CBRdcgDFjxpR9VkNDA9atW4drr70Wx48fBwDcfvvtGD16NK644goMDAyAUoo1a9YAyJuhXnvtNVBK8Td/8zeYPn06pk6diq9+9auYNm0aampqsG7dupKTjyKPX2VNvcYzOWgvUHLQ4UXJQZ/grrvuwpEjR/AP//APrn3m0aNHcdJJJ+HgwYM4//zz8eyzz+KjHzVTWw+Garv/k5dvhNnMSQC8uWqe382xxHc5aIWiGrnyyivx+uuvY8uWLa5+7vz589HX14fBwUH84Ac/CNXkX42cPkxqe6sFQKFwkUcffdSTz+XZ/RXB0NYyxbS4TdRqe6sFQOEalNJiNI2ieoiSGdkthktxG7UAKFyhtrYWBw8exCmnnKIWgSqCUoqDBw+itrY26Kb4znAobqMWAIUrTJgwAW+//TZ6e3uDborCZ2prazFhwoSgm6FwgFoAFK6gaRomT54cdDMUCoUNVCKYQqFQVClqAVAoFIoqRS0ACoVCUaVEKhOYENIL4C2Hbz8VwPsuNsctVLvsodplD9Uue4S1XUBlbTuTUtpg/GWkFoBKIIR0maVCB41qlz1Uu+yh2mWPsLYL8KZtygSkUCgUVYpaABQKhaJKqaYF4L6gG8BBtcseql32UO2yR1jbBXjQtqrxASgUCoWilGo6ASgUCoVCh1oAFAqFokqpigWAEHIZIWQPIeQvhJDlQbeHQQjZSwjZSQjpIYQEVuqMEPILQsgBQsifdb8bRwjZTAh5rfD/sSFp1wpCSKrQZz2EkMsDaNcZhJCthJBXCCG7CCHfLPw+0D4TtCvQPiOE1BJCnieE7Ci0a2Xh90H3F69dgY+xQjvihJBuQsgThZ9d769h7wMghMQBvArgUgBvA3gBwLWU0pcDbRjyCwCAZkppoIknhJDPADgK4FeU0nMLv/sJgEOU0lWFRXMspfR7IWjXCgBHKaV3+dkWQ7vGAxhPKX2REDIawHYArQCWIMA+E7TrGgTYZySvDz6KUnqUEKIBeAbANwEsRLD9xWvXZQh4jBXa9y0AzQBOppTO9+KZrIYTwPkA/kIpfYNSOgjgNwCuCLhNoYJS+nsAhwy/vgLAvxf+/e/ITyS+wmlX4FBK36WUvlj494cAXgGQRMB9JmhXoNA8Rws/aoX/KILvL167AocQMgHAPAD/pvu16/1VDQtAEsB+3c9vIwQPRQEK4ElCyHZCyI1BN8bARyil7wL5iQXAaQG3R89NhJCXCiYi301TegghkwA0AXgOIeozQ7uAgPusYM7oAXAAwGZKaSj6i9MuIPgxthbAdwHkdL9zvb+qYQEwK08VilUewGxK6QwAnwPw/xVMHgox9wL4GIBGAO8CuDuohhBCTgKwAcBSSukHQbXDiEm7Au8zSmmWUtoIYAKA8wkh5/rdBjM47Qq0vwgh8wEcoJRu9/q7qmEBeBvAGbqfJwB4J6C2lEApfafw/wMAHkXeXBUW3ivYlJlt+UDA7QEAUErfKzy0OQD/BwH1WcFmvAHAA5TSRwq/DrzPzNoVlj4rtKUPwO+Qt7MH3l9m7QpBf80G8PmCj/A3AC4mhNwPD/qrGhaAFwD8D0LIZELICABfAPBYwG0CIWRUwVEHQsgoAHMB/Fn8Ll95DMANhX/fAOA/A2xLEfYAFLgSAfRZwXn4cwCvUEpX6/4UaJ/x2hV0nxFCGggh9YV/JwBcAmA3gu8v03YF3V+U0psppRMopZOQn6+2UEqvhxf9RSkd9v8BuBz5SKDXAfx90O0ptOksADsK/+0Ksl0AHkT+qJtB/sT0PwGcAuBpAK8V/j8uJO36NYCdAF4qPBDjA2jXp5A3I74EoKfw3+VB95mgXYH2GYDzAHQXvv/PAH5Y+H3Q/cVrV+BjTNfGiwA84VV/DfswUIVCoVCYUw0mIIVCoVCYoBYAhUKhqFLUAqBQKBRViloAFAqFokpRC4BCoVBUKWoBUCgcUlDffJMQMq7w89jCz2cG3TaFQga1ACgUDqGU7kdeNmBV4VerANxHKX0ruFYpFPKoPACFogIK0gvbAfwCwFcANNG86qxCEXpqgm6AQhFlKKUZQkgbgP8CMFdN/ooooUxACkXlfA55yYpQKFwqFLKoBUChqABCSCPy1eZmAVhmEBJTKEKNWgAUCocU1DfvRV53fx+AdgCBlhFUKOygFgCFwjlfAbCPUrq58PNPAUwlhHw2wDYpFNKoKCCFQqGoUtQJQKFQKKoUtQAoFApFlaIWAIVCoahS1AKgUCgUVYpaABQKhaJKUQuAQqFQVClqAVAoFIoq5f8B+HUZ30uim4AAAAAASUVORK5CYII=\n",
>>>>>>> upstream/main
      "text/plain": [
       "<Figure size 432x288 with 1 Axes>"
      ]
     },
     "metadata": {
      "needs_background": "light"
     },
     "output_type": "display_data"
    }
   ],
   "source": [
    "dummyapprox()"
   ]
  },
  {
   "cell_type": "markdown",
   "metadata": {
    "slideshow": {
     "slide_type": "slide"
    }
   },
   "source": [
    "#### Now walk through process of \"boosting\" this prediction with weak learner sequence."
   ]
  },
  {
   "cell_type": "code",
   "execution_count": 12,
   "metadata": {
    "slideshow": {
     "slide_type": "slide"
    }
   },
   "outputs": [],
   "source": [
    "def simple_boosting_algorithm(X, y, n_learners, learner,\n",
    "                              learning_rate):\n",
    "    y = y.ravel()\n",
    "    # calculates the dummy model\n",
    "    f0 = y.mean()\n",
    "    \n",
    "    # calculates error of first step\n",
    "    residuals = y - f0\n",
    "    \n",
    "    # This next line fills an array of len(y) with the mean of y.\n",
    "    f = np.full(len(y), fill_value=f0)\n",
    "\n",
    "    # start sequential training \n",
    "\n",
    "    for i in range(n_learners):\n",
    "        # error of previous model\n",
    "        residuals = y - f\n",
    "        \n",
    "        # fit error with decision tree\n",
    "        mod = learner.fit(X.reshape(-1, 1), residuals)\n",
    "\n",
    "        # update f\n",
    "        f = learning_rate * mod.predict(X.reshape(-1, 1)) + f\n",
    "        fit_df = pd.DataFrame({'x': X, 'F': f})\n",
    "    return fit_df\n",
    "    \n",
    "   "
   ]
  },
  {
   "cell_type": "code",
   "execution_count": null,
   "metadata": {},
   "outputs": [],
   "source": []
  },
  {
   "cell_type": "code",
   "execution_count": 23,
   "metadata": {
    "scrolled": false,
    "slideshow": {
     "slide_type": "skip"
    }
   },
   "outputs": [
    {
     "data": {
      "text/html": [
       "<div class=\"bk-root\">\n",
       "        <a href=\"https://bokeh.org\" target=\"_blank\" class=\"bk-logo bk-logo-small bk-logo-notebook\"></a>\n",
       "        <span id=\"1002\">Loading BokehJS ...</span>\n",
       "    </div>\n"
      ]
     },
     "metadata": {},
     "output_type": "display_data"
    },
    {
     "data": {
      "application/javascript": [
       "(function(root) {\n",
       "  function now() {\n",
       "    return new Date();\n",
       "  }\n",
       "\n",
       "  const force = true;\n",
       "\n",
       "  if (typeof root._bokeh_onload_callbacks === \"undefined\" || force === true) {\n",
       "    root._bokeh_onload_callbacks = [];\n",
       "    root._bokeh_is_loading = undefined;\n",
       "  }\n",
       "\n",
       "const JS_MIME_TYPE = 'application/javascript';\n",
       "  const HTML_MIME_TYPE = 'text/html';\n",
       "  const EXEC_MIME_TYPE = 'application/vnd.bokehjs_exec.v0+json';\n",
       "  const CLASS_NAME = 'output_bokeh rendered_html';\n",
       "\n",
       "  /**\n",
       "   * Render data to the DOM node\n",
       "   */\n",
       "  function render(props, node) {\n",
       "    const script = document.createElement(\"script\");\n",
       "    node.appendChild(script);\n",
       "  }\n",
       "\n",
       "  /**\n",
       "   * Handle when an output is cleared or removed\n",
       "   */\n",
       "  function handleClearOutput(event, handle) {\n",
       "    const cell = handle.cell;\n",
       "\n",
       "    const id = cell.output_area._bokeh_element_id;\n",
       "    const server_id = cell.output_area._bokeh_server_id;\n",
       "    // Clean up Bokeh references\n",
       "    if (id != null && id in Bokeh.index) {\n",
       "      Bokeh.index[id].model.document.clear();\n",
       "      delete Bokeh.index[id];\n",
       "    }\n",
       "\n",
       "    if (server_id !== undefined) {\n",
       "      // Clean up Bokeh references\n",
       "      const cmd_clean = \"from bokeh.io.state import curstate; print(curstate().uuid_to_server['\" + server_id + \"'].get_sessions()[0].document.roots[0]._id)\";\n",
       "      cell.notebook.kernel.execute(cmd_clean, {\n",
       "        iopub: {\n",
       "          output: function(msg) {\n",
       "            const id = msg.content.text.trim();\n",
       "            if (id in Bokeh.index) {\n",
       "              Bokeh.index[id].model.document.clear();\n",
       "              delete Bokeh.index[id];\n",
       "            }\n",
       "          }\n",
       "        }\n",
       "      });\n",
       "      // Destroy server and session\n",
       "      const cmd_destroy = \"import bokeh.io.notebook as ion; ion.destroy_server('\" + server_id + \"')\";\n",
       "      cell.notebook.kernel.execute(cmd_destroy);\n",
       "    }\n",
       "  }\n",
       "\n",
       "  /**\n",
       "   * Handle when a new output is added\n",
       "   */\n",
       "  function handleAddOutput(event, handle) {\n",
       "    const output_area = handle.output_area;\n",
       "    const output = handle.output;\n",
       "\n",
       "    // limit handleAddOutput to display_data with EXEC_MIME_TYPE content only\n",
       "    if ((output.output_type != \"display_data\") || (!Object.prototype.hasOwnProperty.call(output.data, EXEC_MIME_TYPE))) {\n",
       "      return\n",
       "    }\n",
       "\n",
       "    const toinsert = output_area.element.find(\".\" + CLASS_NAME.split(' ')[0]);\n",
       "\n",
       "    if (output.metadata[EXEC_MIME_TYPE][\"id\"] !== undefined) {\n",
       "      toinsert[toinsert.length - 1].firstChild.textContent = output.data[JS_MIME_TYPE];\n",
       "      // store reference to embed id on output_area\n",
       "      output_area._bokeh_element_id = output.metadata[EXEC_MIME_TYPE][\"id\"];\n",
       "    }\n",
       "    if (output.metadata[EXEC_MIME_TYPE][\"server_id\"] !== undefined) {\n",
       "      const bk_div = document.createElement(\"div\");\n",
       "      bk_div.innerHTML = output.data[HTML_MIME_TYPE];\n",
       "      const script_attrs = bk_div.children[0].attributes;\n",
       "      for (let i = 0; i < script_attrs.length; i++) {\n",
       "        toinsert[toinsert.length - 1].firstChild.setAttribute(script_attrs[i].name, script_attrs[i].value);\n",
       "        toinsert[toinsert.length - 1].firstChild.textContent = bk_div.children[0].textContent\n",
       "      }\n",
       "      // store reference to server id on output_area\n",
       "      output_area._bokeh_server_id = output.metadata[EXEC_MIME_TYPE][\"server_id\"];\n",
       "    }\n",
       "  }\n",
       "\n",
       "  function register_renderer(events, OutputArea) {\n",
       "\n",
       "    function append_mime(data, metadata, element) {\n",
       "      // create a DOM node to render to\n",
       "      const toinsert = this.create_output_subarea(\n",
       "        metadata,\n",
       "        CLASS_NAME,\n",
       "        EXEC_MIME_TYPE\n",
       "      );\n",
       "      this.keyboard_manager.register_events(toinsert);\n",
       "      // Render to node\n",
       "      const props = {data: data, metadata: metadata[EXEC_MIME_TYPE]};\n",
       "      render(props, toinsert[toinsert.length - 1]);\n",
       "      element.append(toinsert);\n",
       "      return toinsert\n",
       "    }\n",
       "\n",
       "    /* Handle when an output is cleared or removed */\n",
       "    events.on('clear_output.CodeCell', handleClearOutput);\n",
       "    events.on('delete.Cell', handleClearOutput);\n",
       "\n",
       "    /* Handle when a new output is added */\n",
       "    events.on('output_added.OutputArea', handleAddOutput);\n",
       "\n",
       "    /**\n",
       "     * Register the mime type and append_mime function with output_area\n",
       "     */\n",
       "    OutputArea.prototype.register_mime_type(EXEC_MIME_TYPE, append_mime, {\n",
       "      /* Is output safe? */\n",
       "      safe: true,\n",
       "      /* Index of renderer in `output_area.display_order` */\n",
       "      index: 0\n",
       "    });\n",
       "  }\n",
       "\n",
       "  // register the mime type if in Jupyter Notebook environment and previously unregistered\n",
       "  if (root.Jupyter !== undefined) {\n",
       "    const events = require('base/js/events');\n",
       "    const OutputArea = require('notebook/js/outputarea').OutputArea;\n",
       "\n",
       "    if (OutputArea.prototype.mime_types().indexOf(EXEC_MIME_TYPE) == -1) {\n",
       "      register_renderer(events, OutputArea);\n",
       "    }\n",
       "  }\n",
       "  if (typeof (root._bokeh_timeout) === \"undefined\" || force === true) {\n",
       "    root._bokeh_timeout = Date.now() + 5000;\n",
       "    root._bokeh_failed_load = false;\n",
       "  }\n",
       "\n",
       "  const NB_LOAD_WARNING = {'data': {'text/html':\n",
       "     \"<div style='background-color: #fdd'>\\n\"+\n",
       "     \"<p>\\n\"+\n",
       "     \"BokehJS does not appear to have successfully loaded. If loading BokehJS from CDN, this \\n\"+\n",
       "     \"may be due to a slow or bad network connection. Possible fixes:\\n\"+\n",
       "     \"</p>\\n\"+\n",
       "     \"<ul>\\n\"+\n",
       "     \"<li>re-rerun `output_notebook()` to attempt to load from CDN again, or</li>\\n\"+\n",
       "     \"<li>use INLINE resources instead, as so:</li>\\n\"+\n",
       "     \"</ul>\\n\"+\n",
       "     \"<code>\\n\"+\n",
       "     \"from bokeh.resources import INLINE\\n\"+\n",
       "     \"output_notebook(resources=INLINE)\\n\"+\n",
       "     \"</code>\\n\"+\n",
       "     \"</div>\"}};\n",
       "\n",
       "  function display_loaded() {\n",
       "    const el = document.getElementById(\"1002\");\n",
       "    if (el != null) {\n",
       "      el.textContent = \"BokehJS is loading...\";\n",
       "    }\n",
       "    if (root.Bokeh !== undefined) {\n",
       "      if (el != null) {\n",
       "        el.textContent = \"BokehJS \" + root.Bokeh.version + \" successfully loaded.\";\n",
       "      }\n",
       "    } else if (Date.now() < root._bokeh_timeout) {\n",
       "      setTimeout(display_loaded, 100)\n",
       "    }\n",
       "  }\n",
       "\n",
       "  function run_callbacks() {\n",
       "    try {\n",
       "      root._bokeh_onload_callbacks.forEach(function(callback) {\n",
       "        if (callback != null)\n",
       "          callback();\n",
       "      });\n",
       "    } finally {\n",
       "      delete root._bokeh_onload_callbacks\n",
       "    }\n",
       "    console.debug(\"Bokeh: all callbacks have finished\");\n",
       "  }\n",
       "\n",
       "  function load_libs(css_urls, js_urls, callback) {\n",
       "    if (css_urls == null) css_urls = [];\n",
       "    if (js_urls == null) js_urls = [];\n",
       "\n",
       "    root._bokeh_onload_callbacks.push(callback);\n",
       "    if (root._bokeh_is_loading > 0) {\n",
       "      console.debug(\"Bokeh: BokehJS is being loaded, scheduling callback at\", now());\n",
       "      return null;\n",
       "    }\n",
       "    if (js_urls == null || js_urls.length === 0) {\n",
       "      run_callbacks();\n",
       "      return null;\n",
       "    }\n",
       "    console.debug(\"Bokeh: BokehJS not loaded, scheduling load and callback at\", now());\n",
       "    root._bokeh_is_loading = css_urls.length + js_urls.length;\n",
       "\n",
       "    function on_load() {\n",
       "      root._bokeh_is_loading--;\n",
       "      if (root._bokeh_is_loading === 0) {\n",
       "        console.debug(\"Bokeh: all BokehJS libraries/stylesheets loaded\");\n",
       "        run_callbacks()\n",
       "      }\n",
       "    }\n",
       "\n",
       "    function on_error(url) {\n",
       "      console.error(\"failed to load \" + url);\n",
       "    }\n",
       "\n",
       "    for (let i = 0; i < css_urls.length; i++) {\n",
       "      const url = css_urls[i];\n",
       "      const element = document.createElement(\"link\");\n",
       "      element.onload = on_load;\n",
       "      element.onerror = on_error.bind(null, url);\n",
       "      element.rel = \"stylesheet\";\n",
       "      element.type = \"text/css\";\n",
       "      element.href = url;\n",
       "      console.debug(\"Bokeh: injecting link tag for BokehJS stylesheet: \", url);\n",
       "      document.body.appendChild(element);\n",
       "    }\n",
       "\n",
       "    for (let i = 0; i < js_urls.length; i++) {\n",
       "      const url = js_urls[i];\n",
       "      const element = document.createElement('script');\n",
       "      element.onload = on_load;\n",
       "      element.onerror = on_error.bind(null, url);\n",
       "      element.async = false;\n",
       "      element.src = url;\n",
       "      console.debug(\"Bokeh: injecting script tag for BokehJS library: \", url);\n",
       "      document.head.appendChild(element);\n",
       "    }\n",
       "  };\n",
       "\n",
       "  function inject_raw_css(css) {\n",
       "    const element = document.createElement(\"style\");\n",
       "    element.appendChild(document.createTextNode(css));\n",
       "    document.body.appendChild(element);\n",
       "  }\n",
       "\n",
       "  const js_urls = [\"https://cdn.bokeh.org/bokeh/release/bokeh-2.4.3.min.js\", \"https://cdn.bokeh.org/bokeh/release/bokeh-gl-2.4.3.min.js\", \"https://cdn.bokeh.org/bokeh/release/bokeh-widgets-2.4.3.min.js\", \"https://cdn.bokeh.org/bokeh/release/bokeh-tables-2.4.3.min.js\", \"https://cdn.bokeh.org/bokeh/release/bokeh-mathjax-2.4.3.min.js\"];\n",
       "  const css_urls = [];\n",
       "\n",
       "  const inline_js = [    function(Bokeh) {\n",
       "      Bokeh.set_log_level(\"info\");\n",
       "    },\n",
       "function(Bokeh) {\n",
       "    }\n",
       "  ];\n",
       "\n",
       "  function run_inline_js() {\n",
       "    if (root.Bokeh !== undefined || force === true) {\n",
       "          for (let i = 0; i < inline_js.length; i++) {\n",
       "      inline_js[i].call(root, root.Bokeh);\n",
       "    }\n",
       "if (force === true) {\n",
       "        display_loaded();\n",
       "      }} else if (Date.now() < root._bokeh_timeout) {\n",
       "      setTimeout(run_inline_js, 100);\n",
       "    } else if (!root._bokeh_failed_load) {\n",
       "      console.log(\"Bokeh: BokehJS failed to load within specified timeout.\");\n",
       "      root._bokeh_failed_load = true;\n",
       "    } else if (force !== true) {\n",
       "      const cell = $(document.getElementById(\"1002\")).parents('.cell').data().cell;\n",
       "      cell.output_area.append_execute_result(NB_LOAD_WARNING)\n",
       "    }\n",
       "  }\n",
       "\n",
       "  if (root._bokeh_is_loading === 0) {\n",
       "    console.debug(\"Bokeh: BokehJS loaded, going straight to plotting\");\n",
       "    run_inline_js();\n",
       "  } else {\n",
       "    load_libs(css_urls, js_urls, function() {\n",
       "      console.debug(\"Bokeh: BokehJS plotting callback run at\", now());\n",
       "      run_inline_js();\n",
       "    });\n",
       "  }\n",
       "}(window));"
      ],
      "application/vnd.bokehjs_load.v0+json": "(function(root) {\n  function now() {\n    return new Date();\n  }\n\n  const force = true;\n\n  if (typeof root._bokeh_onload_callbacks === \"undefined\" || force === true) {\n    root._bokeh_onload_callbacks = [];\n    root._bokeh_is_loading = undefined;\n  }\n\n\n  if (typeof (root._bokeh_timeout) === \"undefined\" || force === true) {\n    root._bokeh_timeout = Date.now() + 5000;\n    root._bokeh_failed_load = false;\n  }\n\n  const NB_LOAD_WARNING = {'data': {'text/html':\n     \"<div style='background-color: #fdd'>\\n\"+\n     \"<p>\\n\"+\n     \"BokehJS does not appear to have successfully loaded. If loading BokehJS from CDN, this \\n\"+\n     \"may be due to a slow or bad network connection. Possible fixes:\\n\"+\n     \"</p>\\n\"+\n     \"<ul>\\n\"+\n     \"<li>re-rerun `output_notebook()` to attempt to load from CDN again, or</li>\\n\"+\n     \"<li>use INLINE resources instead, as so:</li>\\n\"+\n     \"</ul>\\n\"+\n     \"<code>\\n\"+\n     \"from bokeh.resources import INLINE\\n\"+\n     \"output_notebook(resources=INLINE)\\n\"+\n     \"</code>\\n\"+\n     \"</div>\"}};\n\n  function display_loaded() {\n    const el = document.getElementById(\"1002\");\n    if (el != null) {\n      el.textContent = \"BokehJS is loading...\";\n    }\n    if (root.Bokeh !== undefined) {\n      if (el != null) {\n        el.textContent = \"BokehJS \" + root.Bokeh.version + \" successfully loaded.\";\n      }\n    } else if (Date.now() < root._bokeh_timeout) {\n      setTimeout(display_loaded, 100)\n    }\n  }\n\n  function run_callbacks() {\n    try {\n      root._bokeh_onload_callbacks.forEach(function(callback) {\n        if (callback != null)\n          callback();\n      });\n    } finally {\n      delete root._bokeh_onload_callbacks\n    }\n    console.debug(\"Bokeh: all callbacks have finished\");\n  }\n\n  function load_libs(css_urls, js_urls, callback) {\n    if (css_urls == null) css_urls = [];\n    if (js_urls == null) js_urls = [];\n\n    root._bokeh_onload_callbacks.push(callback);\n    if (root._bokeh_is_loading > 0) {\n      console.debug(\"Bokeh: BokehJS is being loaded, scheduling callback at\", now());\n      return null;\n    }\n    if (js_urls == null || js_urls.length === 0) {\n      run_callbacks();\n      return null;\n    }\n    console.debug(\"Bokeh: BokehJS not loaded, scheduling load and callback at\", now());\n    root._bokeh_is_loading = css_urls.length + js_urls.length;\n\n    function on_load() {\n      root._bokeh_is_loading--;\n      if (root._bokeh_is_loading === 0) {\n        console.debug(\"Bokeh: all BokehJS libraries/stylesheets loaded\");\n        run_callbacks()\n      }\n    }\n\n    function on_error(url) {\n      console.error(\"failed to load \" + url);\n    }\n\n    for (let i = 0; i < css_urls.length; i++) {\n      const url = css_urls[i];\n      const element = document.createElement(\"link\");\n      element.onload = on_load;\n      element.onerror = on_error.bind(null, url);\n      element.rel = \"stylesheet\";\n      element.type = \"text/css\";\n      element.href = url;\n      console.debug(\"Bokeh: injecting link tag for BokehJS stylesheet: \", url);\n      document.body.appendChild(element);\n    }\n\n    for (let i = 0; i < js_urls.length; i++) {\n      const url = js_urls[i];\n      const element = document.createElement('script');\n      element.onload = on_load;\n      element.onerror = on_error.bind(null, url);\n      element.async = false;\n      element.src = url;\n      console.debug(\"Bokeh: injecting script tag for BokehJS library: \", url);\n      document.head.appendChild(element);\n    }\n  };\n\n  function inject_raw_css(css) {\n    const element = document.createElement(\"style\");\n    element.appendChild(document.createTextNode(css));\n    document.body.appendChild(element);\n  }\n\n  const js_urls = [\"https://cdn.bokeh.org/bokeh/release/bokeh-2.4.3.min.js\", \"https://cdn.bokeh.org/bokeh/release/bokeh-gl-2.4.3.min.js\", \"https://cdn.bokeh.org/bokeh/release/bokeh-widgets-2.4.3.min.js\", \"https://cdn.bokeh.org/bokeh/release/bokeh-tables-2.4.3.min.js\", \"https://cdn.bokeh.org/bokeh/release/bokeh-mathjax-2.4.3.min.js\"];\n  const css_urls = [];\n\n  const inline_js = [    function(Bokeh) {\n      Bokeh.set_log_level(\"info\");\n    },\nfunction(Bokeh) {\n    }\n  ];\n\n  function run_inline_js() {\n    if (root.Bokeh !== undefined || force === true) {\n          for (let i = 0; i < inline_js.length; i++) {\n      inline_js[i].call(root, root.Bokeh);\n    }\nif (force === true) {\n        display_loaded();\n      }} else if (Date.now() < root._bokeh_timeout) {\n      setTimeout(run_inline_js, 100);\n    } else if (!root._bokeh_failed_load) {\n      console.log(\"Bokeh: BokehJS failed to load within specified timeout.\");\n      root._bokeh_failed_load = true;\n    } else if (force !== true) {\n      const cell = $(document.getElementById(\"1002\")).parents('.cell').data().cell;\n      cell.output_area.append_execute_result(NB_LOAD_WARNING)\n    }\n  }\n\n  if (root._bokeh_is_loading === 0) {\n    console.debug(\"Bokeh: BokehJS loaded, going straight to plotting\");\n    run_inline_js();\n  } else {\n    load_libs(css_urls, js_urls, function() {\n      console.debug(\"Bokeh: BokehJS plotting callback run at\", now());\n      run_inline_js();\n    });\n  }\n}(window));"
     },
     "metadata": {},
     "output_type": "display_data"
    }
   ],
   "source": [
    "\n",
    "from bokeh.layouts import column,row\n",
    "from bokeh.models import ColumnDataSource, Slider, TextInput, Select\n",
    "from bokeh.plotting import figure, output_file, show\n",
    "from bokeh.io import show, output_notebook\n",
    "from bokeh.themes import Theme\n",
    "import yaml\n",
    "import numpy as np\n",
    "output_notebook()\n",
    "\n",
    "def bk_app(doc):\n",
    "    \n",
    "    func_approx =simple_boosting_algorithm(X=X,\n",
    "                      y=y,\n",
    "                      n_learners= 1,\n",
    "                      learner=DecisionTreeRegressor(max_depth= 1),\n",
    "                      learning_rate=0.02)\n",
    "\n",
    "    source = ColumnDataSource(func_approx)\n",
    "\n",
    "    # Create plots and widgets\n",
    "    plot = figure()\n",
    "\n",
    "    plot.circle(X, y, size = 6, color = 'blue', legend_label= 'Data')\n",
    "    plot.line('x', 'F', source = source, line_width=3, line_alpha=1, color = 'red', legend_label = 'Boosting') \n",
    "\n",
    "    # Create Slider object\n",
    "     \n",
    "    tree_depth = Slider(start=1, end=10, value=1,\n",
    "                    step=1, title='Tree Depth')  \n",
    "    \n",
    "    n_est = TextInput(title=\"Number of estimators\", value = '1')\n",
    "    \n",
    "    lr = Select(title=\"Learning rate\", value='5e-1',\n",
    "               options=['1e-4', '1e-3', '5e-3', '1e-2', '5e-2', '1e-1', '5e-1', '1'])\n",
    "\n",
    "    # Adding callback code\n",
    "    def callback(attr, old, new):\n",
    "        N = n_est.value\n",
    "        depth = tree_depth.value\n",
    "        learn_rate = float(lr.value)\n",
    "        \n",
    "        func_approx =simple_boosting_algorithm(X=X,\n",
    "                              y=y,\n",
    "                              n_learners= int(N),\n",
    "                              learner=DecisionTreeRegressor(max_depth= depth),\n",
    "                              learning_rate= float(learn_rate))\n",
    "\n",
    "        source.data = func_approx\n",
    "\n",
    "\n",
    "    tree_depth.on_change('value', callback)\n",
    "    n_est.on_change('value', callback)\n",
    "    lr.on_change('value', callback)\n",
    "\n",
    "    doc.add_root(row(\n",
    "        plot,\n",
    "        column(tree_depth, n_est, lr),\n",
    "    ))\n",
    "\n",
    "    doc.theme = Theme(json=yaml.load(\"\"\"\n",
    "        attrs:\n",
    "            Figure:\n",
    "                background_fill_color: white\n",
    "                outline_line_color: white\n",
    "                toolbar_location: above\n",
    "                height: 450\n",
    "                width: 450\n",
    "    \"\"\", Loader=yaml.FullLoader))\n",
    "\n"
   ]
  },
  {
   "cell_type": "markdown",
   "metadata": {
    "slideshow": {
     "slide_type": "slide"
    }
   },
   "source": [
    "The effects of sequential boosting with weak learners:"
   ]
  },
  {
   "cell_type": "code",
<<<<<<< HEAD
   "execution_count": 24,
=======
   "execution_count": 11,
>>>>>>> upstream/main
   "metadata": {
    "scrolled": false,
    "slideshow": {
     "slide_type": "fragment"
    }
   },
   "outputs": [
    {
     "data": {
      "application/vnd.bokehjs_exec.v0+json": "",
      "text/html": [
       "<script id=\"1003\">\n",
       "  (function() {\n",
       "    const xhr = new XMLHttpRequest()\n",
       "    xhr.responseType = 'blob';\n",
<<<<<<< HEAD
       "    xhr.open('GET', \"http://localhost:58058/autoload.js?bokeh-autoload-element=1003&bokeh-absolute-url=http://localhost:58058&resources=none\", true);\n",
=======
       "    xhr.open('GET', \"http://localhost:51038/autoload.js?bokeh-autoload-element=1003&bokeh-absolute-url=http://localhost:51038&resources=none\", true);\n",
>>>>>>> upstream/main
       "    xhr.onload = function (event) {\n",
       "      const script = document.createElement('script');\n",
       "      const src = URL.createObjectURL(event.target.response);\n",
       "      script.src = src;\n",
       "      document.body.appendChild(script);\n",
       "    };\n",
       "    xhr.send();\n",
       "  })();\n",
       "</script>"
      ]
     },
     "metadata": {
      "application/vnd.bokehjs_exec.v0+json": {
<<<<<<< HEAD
       "server_id": "d6831d28b7e742028a9c11f1f6a6b555"
=======
       "server_id": "048aa36290fb4fba860d5b93cd3f4c8b"
>>>>>>> upstream/main
      }
     },
     "output_type": "display_data"
    }
   ],
   "source": [
    "show(bk_app, notebook_url=\"http://localhost:8888\")"
   ]
  },
  {
   "cell_type": "markdown",
   "metadata": {
    "cell_style": "split",
    "slideshow": {
     "slide_type": "slide"
    }
   },
   "source": [
    "Gradient boosting:\n",
    "    \n",
    "- Tuning hyperparameters can be very important for performance."
   ]
  },
  {
   "cell_type": "markdown",
   "metadata": {
    "cell_style": "split",
    "slideshow": {
     "slide_type": "slide"
    }
   },
   "source": [
    "- Number of estimators (convergence/overfitting)\n",
    "- learning rate (too high...overfit)\n",
    "- tree depth (too large...overfit)\n",
    "\n",
    "Critical hyperparameters in balance between underfitting/overfitting"
   ]
  },
  {
   "cell_type": "markdown",
   "metadata": {
    "slideshow": {
     "slide_type": "slide"
    }
   },
   "source": [
    "Playing around with hyperparameters"
   ]
  },
  {
   "cell_type": "code",
<<<<<<< HEAD
   "execution_count": 25,
=======
   "execution_count": 12,
>>>>>>> upstream/main
   "metadata": {
    "scrolled": true,
    "slideshow": {
     "slide_type": "fragment"
    }
   },
   "outputs": [
    {
     "data": {
      "application/vnd.bokehjs_exec.v0+json": "",
      "text/html": [
<<<<<<< HEAD
       "<script id=\"1125\">\n",
       "  (function() {\n",
       "    const xhr = new XMLHttpRequest()\n",
       "    xhr.responseType = 'blob';\n",
       "    xhr.open('GET', \"http://localhost:58061/autoload.js?bokeh-autoload-element=1125&bokeh-absolute-url=http://localhost:58061&resources=none\", true);\n",
=======
       "<script id=\"1004\">\n",
       "  (function() {\n",
       "    const xhr = new XMLHttpRequest()\n",
       "    xhr.responseType = 'blob';\n",
       "    xhr.open('GET', \"http://localhost:51040/autoload.js?bokeh-autoload-element=1004&bokeh-absolute-url=http://localhost:51040&resources=none\", true);\n",
>>>>>>> upstream/main
       "    xhr.onload = function (event) {\n",
       "      const script = document.createElement('script');\n",
       "      const src = URL.createObjectURL(event.target.response);\n",
       "      script.src = src;\n",
       "      document.body.appendChild(script);\n",
       "    };\n",
       "    xhr.send();\n",
       "  })();\n",
       "</script>"
      ]
     },
     "metadata": {
      "application/vnd.bokehjs_exec.v0+json": {
<<<<<<< HEAD
       "server_id": "f7137843660d4a86ba029b5590b80b41"
=======
       "server_id": "b9aea5db5d344727a5f4402e86e82cc3"
>>>>>>> upstream/main
      }
     },
     "output_type": "display_data"
    }
   ],
   "source": [
    "show(bk_app, notebook_url=\"http://localhost:8888\")"
   ]
  },
  {
   "cell_type": "markdown",
   "metadata": {
    "cell_style": "split",
    "slideshow": {
     "slide_type": "slide"
    }
   },
   "source": [
    "Why do all this?\n",
    "\n",
    "- Decision trees can be very fast.\n",
    "- Weak learners (particularly stumps) are even **faster**."
   ]
  },
  {
   "cell_type": "markdown",
   "metadata": {
    "cell_style": "split",
    "slideshow": {
     "slide_type": "fragment"
    }
   },
   "source": [
    "In principal:\n",
    "- can tune and fit models really quickly."
   ]
  },
  {
   "cell_type": "markdown",
   "metadata": {
    "cell_style": "center",
    "slideshow": {
     "slide_type": "slide"
    }
   },
   "source": [
    "Our naive implementation: \n",
    "- can be a little sensitive to overfitting \n",
    "- certainly overfits more than random forests."
   ]
  },
  {
   "cell_type": "markdown",
   "metadata": {
    "slideshow": {
     "slide_type": "slide"
    }
   },
   "source": [
    "\n",
    "Gets much better with extra randomization: \n",
    "- Random feature subset selection on individual trees \n",
    "- Randomly sampling subset of training data to improve on error at each stage.\n"
   ]
  },
  {
   "cell_type": "markdown",
   "metadata": {
    "slideshow": {
     "slide_type": "slide"
    }
   },
   "source": [
    "Even better with regularization on trees:"
   ]
  },
  {
   "cell_type": "markdown",
   "metadata": {
    "cell_style": "split",
    "slideshow": {
     "slide_type": "fragment"
    }
   },
   "source": [
    "$$ L = \\sum_{i=1}^N l(y_i, \\hat{y}_i) + \\gamma \\sum_{m=1}^M \\Omega(h_m)$$\n",
    "- $\\Omega$: complexity of tree at the mth step. \n",
    "- $\\gamma$: controls penalty on complexity \n",
    "\n",
    "**Penalizing building more complex trees but also allows for it if necessary**"
   ]
  },
  {
   "cell_type": "markdown",
   "metadata": {
    "cell_style": "split",
    "slideshow": {
     "slide_type": "fragment"
    }
   },
   "source": [
    "$\\gamma$ controls tree pruning. If branch doesn't minimize error (maximize imformation gain) **enough** then cut it.\n",
    "\n",
    "<img src = \"Images/pruning_reg.webp\" />"
   ]
  },
  {
   "cell_type": "markdown",
   "metadata": {
    "cell_style": "center",
    "slideshow": {
     "slide_type": "slide"
    }
   },
   "source": [
    "#### Use above strategies + a lot of algorithm optimization\n",
    "\n",
    "- XGBoost (Extreme Gradient Boosting)\n",
    "\n"
   ]
  },
  {
   "cell_type": "markdown",
   "metadata": {
    "cell_style": "center",
    "slideshow": {
     "slide_type": "fragment"
    }
   },
   "source": [
    "<img src = \"Images/xgboost.png\" />\n",
    "<center>Package integrates well with scikit-learn</center>"
   ]
  },
  {
   "cell_type": "markdown",
   "metadata": {
    "slideshow": {
     "slide_type": "slide"
    }
   },
   "source": [
    "Load in the XGB classifier/regressor"
   ]
  },
  {
   "cell_type": "code",
   "execution_count": 26,
   "metadata": {
    "slideshow": {
     "slide_type": "fragment"
    }
   },
   "outputs": [],
   "source": [
    "from xgboost import XGBRegressor\n",
    "from xgboost import XGBClassifier"
   ]
  },
  {
   "cell_type": "code",
   "execution_count": 27,
   "metadata": {
    "slideshow": {
     "slide_type": "fragment"
    }
   },
   "outputs": [],
   "source": [
    "from sklearn.model_selection import train_test_split\n",
    "from sklearn.model_selection import GridSearchCV"
   ]
  },
  {
   "cell_type": "code",
   "execution_count": 38,
   "metadata": {
    "slideshow": {
     "slide_type": "fragment"
    }
   },
   "outputs": [],
   "source": [
    "X_train, X_test, y_train, y_test = train_test_split(X, y, test_size = .3)"
   ]
  },
  {
   "cell_type": "markdown",
   "metadata": {
    "slideshow": {
     "slide_type": "slide"
    }
   },
   "source": [
    "#### Hyperparameters to tune and ranges"
   ]
  },
  {
   "cell_type": "markdown",
   "metadata": {
    "slideshow": {
     "slide_type": "fragment"
    }
   },
   "source": [
    "| Hyperparameter | Description  | Typical ranges | <center> Comments </center> |\n",
    "| --- | --- | --- | --- |\n",
    "| n_estimator | Number of trees <br> (iterations in sequence) | 50-500 | <center> Can get into low thousands. <br> Increasing beyond certain point: <br> overfitting or no benefit. </center>  |\n",
    "| max_depth | Maximum tree depth of learners | 3-6 |<center> Increment by 1. <br> Changing depth: huge effect. </center>| \n",
    "| learning_rate | The learning rate | 1e-3 to 1 | <center> Proper regularization/randomization <br> allows for faster learning rates <br> ~ 0.1-1 </center>   |\n",
    "|  <font color='red'>gamma </font>| Tree complexity regularization | 0 - 100 | <center> Primary knob for tree regularization </center>   |\n",
    "| <font color='red'>colsample_bytree </font> | <center> Fraction of features <br> randomly sampled by tree </center> | 0.5 - 1 | <center> Regularizing effect  <br>colsample_bylevel, colsample_bynode:<br> add extra degrees of randomization </center>|"
   ]
  },
  {
   "cell_type": "markdown",
   "metadata": {
    "slideshow": {
     "slide_type": "slide"
    }
   },
   "source": [
    "XGB estimators fits neatly and seamlessly into scikit-learn model pipelines, grid search, etc."
   ]
  },
  {
   "cell_type": "code",
   "execution_count": 39,
   "metadata": {
    "slideshow": {
     "slide_type": "fragment"
    }
   },
   "outputs": [],
   "source": [
    "from xgboost import XGBRegressor\n",
    "from xgboost import XGBClassifier"
   ]
  },
  {
   "cell_type": "code",
   "execution_count": 40,
   "metadata": {
    "slideshow": {
     "slide_type": "fragment"
    }
   },
   "outputs": [],
   "source": [
    "params = {'max_depth': [3,4, 5], 'learning_rate': [.1, .3, .5],\n",
    "          'gamma': [0,5,10], 'n_estimators': [50,100, 150] }\n",
    "cv = GridSearchCV(estimator = XGBRegressor(objective='reg:squarederror'), scoring='neg_mean_absolute_error',\n",
    "                  param_grid = params, cv = 5)\n",
    "cv.fit(X_train.reshape(-1,1), y_train);"
   ]
  },
  {
   "cell_type": "code",
   "execution_count": 41,
   "metadata": {
    "cell_style": "center",
    "scrolled": true,
    "slideshow": {
     "slide_type": "slide"
    }
   },
   "outputs": [
    {
     "data": {
      "text/html": [
       "<style>#sk-container-id-3 {color: black;background-color: white;}#sk-container-id-3 pre{padding: 0;}#sk-container-id-3 div.sk-toggleable {background-color: white;}#sk-container-id-3 label.sk-toggleable__label {cursor: pointer;display: block;width: 100%;margin-bottom: 0;padding: 0.3em;box-sizing: border-box;text-align: center;}#sk-container-id-3 label.sk-toggleable__label-arrow:before {content: \"▸\";float: left;margin-right: 0.25em;color: #696969;}#sk-container-id-3 label.sk-toggleable__label-arrow:hover:before {color: black;}#sk-container-id-3 div.sk-estimator:hover label.sk-toggleable__label-arrow:before {color: black;}#sk-container-id-3 div.sk-toggleable__content {max-height: 0;max-width: 0;overflow: hidden;text-align: left;background-color: #f0f8ff;}#sk-container-id-3 div.sk-toggleable__content pre {margin: 0.2em;color: black;border-radius: 0.25em;background-color: #f0f8ff;}#sk-container-id-3 input.sk-toggleable__control:checked~div.sk-toggleable__content {max-height: 200px;max-width: 100%;overflow: auto;}#sk-container-id-3 input.sk-toggleable__control:checked~label.sk-toggleable__label-arrow:before {content: \"▾\";}#sk-container-id-3 div.sk-estimator input.sk-toggleable__control:checked~label.sk-toggleable__label {background-color: #d4ebff;}#sk-container-id-3 div.sk-label input.sk-toggleable__control:checked~label.sk-toggleable__label {background-color: #d4ebff;}#sk-container-id-3 input.sk-hidden--visually {border: 0;clip: rect(1px 1px 1px 1px);clip: rect(1px, 1px, 1px, 1px);height: 1px;margin: -1px;overflow: hidden;padding: 0;position: absolute;width: 1px;}#sk-container-id-3 div.sk-estimator {font-family: monospace;background-color: #f0f8ff;border: 1px dotted black;border-radius: 0.25em;box-sizing: border-box;margin-bottom: 0.5em;}#sk-container-id-3 div.sk-estimator:hover {background-color: #d4ebff;}#sk-container-id-3 div.sk-parallel-item::after {content: \"\";width: 100%;border-bottom: 1px solid gray;flex-grow: 1;}#sk-container-id-3 div.sk-label:hover label.sk-toggleable__label {background-color: #d4ebff;}#sk-container-id-3 div.sk-serial::before {content: \"\";position: absolute;border-left: 1px solid gray;box-sizing: border-box;top: 0;bottom: 0;left: 50%;z-index: 0;}#sk-container-id-3 div.sk-serial {display: flex;flex-direction: column;align-items: center;background-color: white;padding-right: 0.2em;padding-left: 0.2em;position: relative;}#sk-container-id-3 div.sk-item {position: relative;z-index: 1;}#sk-container-id-3 div.sk-parallel {display: flex;align-items: stretch;justify-content: center;background-color: white;position: relative;}#sk-container-id-3 div.sk-item::before, #sk-container-id-3 div.sk-parallel-item::before {content: \"\";position: absolute;border-left: 1px solid gray;box-sizing: border-box;top: 0;bottom: 0;left: 50%;z-index: -1;}#sk-container-id-3 div.sk-parallel-item {display: flex;flex-direction: column;z-index: 1;position: relative;background-color: white;}#sk-container-id-3 div.sk-parallel-item:first-child::after {align-self: flex-end;width: 50%;}#sk-container-id-3 div.sk-parallel-item:last-child::after {align-self: flex-start;width: 50%;}#sk-container-id-3 div.sk-parallel-item:only-child::after {width: 0;}#sk-container-id-3 div.sk-dashed-wrapped {border: 1px dashed gray;margin: 0 0.4em 0.5em 0.4em;box-sizing: border-box;padding-bottom: 0.4em;background-color: white;}#sk-container-id-3 div.sk-label label {font-family: monospace;font-weight: bold;display: inline-block;line-height: 1.2em;}#sk-container-id-3 div.sk-label-container {text-align: center;}#sk-container-id-3 div.sk-container {/* jupyter's `normalize.less` sets `[hidden] { display: none; }` but bootstrap.min.css set `[hidden] { display: none !important; }` so we also need the `!important` here to be able to override the default hidden behavior on the sphinx rendered scikit-learn.org. See: https://github.com/scikit-learn/scikit-learn/issues/21755 */display: inline-block !important;position: relative;}#sk-container-id-3 div.sk-text-repr-fallback {display: none;}</style><div id=\"sk-container-id-3\" class=\"sk-top-container\"><div class=\"sk-text-repr-fallback\"><pre>XGBRegressor(base_score=0.5, booster=&#x27;gbtree&#x27;, colsample_bylevel=1,\n",
       "             colsample_bynode=1, colsample_bytree=1, gamma=0, gpu_id=-1,\n",
       "             importance_type=&#x27;gain&#x27;, interaction_constraints=&#x27;&#x27;,\n",
       "             learning_rate=0.1, max_delta_step=0, max_depth=3,\n",
       "             min_child_weight=1, missing=nan, monotone_constraints=&#x27;()&#x27;,\n",
       "             n_estimators=150, n_jobs=0, num_parallel_tree=1, random_state=0,\n",
       "             reg_alpha=0, reg_lambda=1, scale_pos_weight=1, subsample=1,\n",
       "             tree_method=&#x27;exact&#x27;, validate_parameters=1, verbosity=None)</pre><b>In a Jupyter environment, please rerun this cell to show the HTML representation or trust the notebook. <br />On GitHub, the HTML representation is unable to render, please try loading this page with nbviewer.org.</b></div><div class=\"sk-container\" hidden><div class=\"sk-item\"><div class=\"sk-estimator sk-toggleable\"><input class=\"sk-toggleable__control sk-hidden--visually\" id=\"sk-estimator-id-3\" type=\"checkbox\" checked><label for=\"sk-estimator-id-3\" class=\"sk-toggleable__label sk-toggleable__label-arrow\">XGBRegressor</label><div class=\"sk-toggleable__content\"><pre>XGBRegressor(base_score=0.5, booster=&#x27;gbtree&#x27;, colsample_bylevel=1,\n",
       "             colsample_bynode=1, colsample_bytree=1, gamma=0, gpu_id=-1,\n",
       "             importance_type=&#x27;gain&#x27;, interaction_constraints=&#x27;&#x27;,\n",
       "             learning_rate=0.1, max_delta_step=0, max_depth=3,\n",
       "             min_child_weight=1, missing=nan, monotone_constraints=&#x27;()&#x27;,\n",
       "             n_estimators=150, n_jobs=0, num_parallel_tree=1, random_state=0,\n",
       "             reg_alpha=0, reg_lambda=1, scale_pos_weight=1, subsample=1,\n",
       "             tree_method=&#x27;exact&#x27;, validate_parameters=1, verbosity=None)</pre></div></div></div></div></div>"
      ],
      "text/plain": [
       "XGBRegressor(base_score=0.5, booster='gbtree', colsample_bylevel=1,\n",
<<<<<<< HEAD
       "             colsample_bynode=1, colsample_bytree=1, gamma=0, gpu_id=-1,\n",
       "             importance_type='gain', interaction_constraints='',\n",
       "             learning_rate=0.1, max_delta_step=0, max_depth=3,\n",
       "             min_child_weight=1, missing=nan, monotone_constraints='()',\n",
       "             n_estimators=150, n_jobs=0, num_parallel_tree=1, random_state=0,\n",
       "             reg_alpha=0, reg_lambda=1, scale_pos_weight=1, subsample=1,\n",
       "             tree_method='exact', validate_parameters=1, verbosity=None)"
=======
       "             colsample_bynode=1, colsample_bytree=1, enable_categorical=False,\n",
       "             gamma=0, gpu_id=-1, importance_type=None,\n",
       "             interaction_constraints='', learning_rate=0.1, max_delta_step=0,\n",
       "             max_depth=3, min_child_weight=1, missing=nan,\n",
       "             monotone_constraints='()', n_estimators=100, n_jobs=8,\n",
       "             num_parallel_tree=1, predictor='auto', random_state=0, reg_alpha=0,\n",
       "             reg_lambda=1, scale_pos_weight=1, subsample=1, tree_method='exact',\n",
       "             validate_parameters=1, verbosity=None)"
>>>>>>> upstream/main
      ]
     },
     "execution_count": 41,
     "metadata": {},
     "output_type": "execute_result"
    }
   ],
   "source": [
    "cv.best_estimator_"
   ]
  },
  {
   "cell_type": "code",
   "execution_count": 32,
   "metadata": {
    "cell_style": "split",
    "slideshow": {
     "slide_type": "fragment"
    }
   },
   "outputs": [
    {
     "data": {
      "text/plain": [
<<<<<<< HEAD
       "-0.34370589542151975"
=======
       "-0.3521079489740862"
>>>>>>> upstream/main
      ]
     },
     "execution_count": 32,
     "metadata": {},
     "output_type": "execute_result"
    }
   ],
   "source": [
    "cv.best_score_"
   ]
  },
  {
   "cell_type": "code",
   "execution_count": 42,
   "metadata": {
    "cell_style": "split",
    "slideshow": {
     "slide_type": "fragment"
    }
   },
   "outputs": [],
   "source": [
    "best_mod = cv.best_estimator_\n",
    "best_mod.fit(X_train.reshape(-1,1), y_train);\n",
    "y_pred = best_mod.predict(X_test.reshape(-1,1))"
   ]
  },
  {
   "cell_type": "code",
   "execution_count": 50,
   "metadata": {
    "cell_style": "split",
    "slideshow": {
     "slide_type": "fragment"
    }
   },
   "outputs": [],
   "source": [
    "# total_preds = best_mod.predict(X_train.reshape(-1,1))"
   ]
  },
  {
   "cell_type": "code",
   "execution_count": 51,
   "metadata": {
    "cell_style": "split",
    "scrolled": false,
    "slideshow": {
     "slide_type": "slide"
    }
   },
   "outputs": [
    {
     "data": {
<<<<<<< HEAD
      "image/png": "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\n",
=======
      "image/png": "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\n",
>>>>>>> upstream/main
      "text/plain": [
       "<Figure size 432x288 with 1 Axes>"
      ]
     },
     "metadata": {
      "needs_background": "light"
     },
     "output_type": "display_data"
    }
   ],
   "source": [
    "fig, ax = plt.subplots()\n",
    "ax.scatter(X_test, y_test, c ='g', label = 'Test data')\n",
    "ax.scatter(X_test, y_pred, c ='r', label = 'Prediction')\n",
    "ax.legend()\n",
    "plt.show()"
   ]
  },
  {
   "cell_type": "markdown",
   "metadata": {
    "cell_style": "split",
    "slideshow": {
     "slide_type": "fragment"
    }
   },
   "source": [
    "Clearly doing pretty well with variance\n",
    "- CV average MAE at scale of intrinsic noise in model.\n",
    "- Also doing decently with bias. Sine wave amplitude ~ 1."
   ]
  },
  {
   "cell_type": "markdown",
   "metadata": {
    "slideshow": {
     "slide_type": "slide"
    }
   },
   "source": [
    "#### How about something a little more complicated?"
   ]
  },
  {
   "cell_type": "code",
   "execution_count": 52,
   "metadata": {
    "slideshow": {
     "slide_type": "slide"
    }
   },
   "outputs": [],
   "source": [
    "# load data\n",
    "file_path = \"Data/WHO_life.csv\"\n",
    "who_df = pd.read_csv(file_path).drop(columns = ['Adult Mortality', 'infant deaths',\n",
    "                                            'Year', 'Status', ' thinness 5-9 years', 'Country', \n",
    "                                            'under-five deaths ']).dropna()\n",
    "# clean column names\n",
    "who_df.columns = who_df.columns.str.strip()\n",
    "\n",
    "X_who, y_who = who_df.drop(columns = ['Life expectancy']), who_df['Life expectancy']"
   ]
  },
  {
   "cell_type": "code",
   "execution_count": 53,
   "metadata": {
    "cell_style": "center",
    "scrolled": true,
    "slideshow": {
     "slide_type": "slide"
    }
   },
   "outputs": [
    {
     "data": {
      "text/html": [
       "<div>\n",
       "<style scoped>\n",
       "    .dataframe tbody tr th:only-of-type {\n",
       "        vertical-align: middle;\n",
       "    }\n",
       "\n",
       "    .dataframe tbody tr th {\n",
       "        vertical-align: top;\n",
       "    }\n",
       "\n",
       "    .dataframe thead th {\n",
       "        text-align: right;\n",
       "    }\n",
       "</style>\n",
       "<table border=\"1\" class=\"dataframe\">\n",
       "  <thead>\n",
       "    <tr style=\"text-align: right;\">\n",
       "      <th></th>\n",
       "      <th>Alcohol</th>\n",
       "      <th>percentage expenditure</th>\n",
       "      <th>Hepatitis B</th>\n",
       "      <th>Measles</th>\n",
       "      <th>BMI</th>\n",
       "      <th>Polio</th>\n",
       "      <th>Total expenditure</th>\n",
       "      <th>Diphtheria</th>\n",
       "      <th>HIV/AIDS</th>\n",
       "      <th>GDP</th>\n",
       "      <th>Population</th>\n",
       "      <th>thinness  1-19 years</th>\n",
       "      <th>Income composition of resources</th>\n",
       "      <th>Schooling</th>\n",
       "    </tr>\n",
       "  </thead>\n",
       "  <tbody>\n",
       "    <tr>\n",
       "      <th>0</th>\n",
       "      <td>0.01</td>\n",
       "      <td>71.279624</td>\n",
       "      <td>65.0</td>\n",
       "      <td>1154</td>\n",
       "      <td>19.1</td>\n",
       "      <td>6.0</td>\n",
       "      <td>8.16</td>\n",
       "      <td>65.0</td>\n",
       "      <td>0.1</td>\n",
       "      <td>584.259210</td>\n",
       "      <td>33736494.0</td>\n",
       "      <td>17.2</td>\n",
       "      <td>0.479</td>\n",
       "      <td>10.1</td>\n",
       "    </tr>\n",
       "    <tr>\n",
       "      <th>1</th>\n",
       "      <td>0.01</td>\n",
       "      <td>73.523582</td>\n",
       "      <td>62.0</td>\n",
       "      <td>492</td>\n",
       "      <td>18.6</td>\n",
       "      <td>58.0</td>\n",
       "      <td>8.18</td>\n",
       "      <td>62.0</td>\n",
       "      <td>0.1</td>\n",
       "      <td>612.696514</td>\n",
       "      <td>327582.0</td>\n",
       "      <td>17.5</td>\n",
       "      <td>0.476</td>\n",
       "      <td>10.0</td>\n",
       "    </tr>\n",
       "    <tr>\n",
       "      <th>2</th>\n",
       "      <td>0.01</td>\n",
       "      <td>73.219243</td>\n",
       "      <td>64.0</td>\n",
       "      <td>430</td>\n",
       "      <td>18.1</td>\n",
       "      <td>62.0</td>\n",
       "      <td>8.13</td>\n",
       "      <td>64.0</td>\n",
       "      <td>0.1</td>\n",
       "      <td>631.744976</td>\n",
       "      <td>31731688.0</td>\n",
       "      <td>17.7</td>\n",
       "      <td>0.470</td>\n",
       "      <td>9.9</td>\n",
       "    </tr>\n",
       "    <tr>\n",
       "      <th>3</th>\n",
       "      <td>0.01</td>\n",
       "      <td>78.184215</td>\n",
       "      <td>67.0</td>\n",
       "      <td>2787</td>\n",
       "      <td>17.6</td>\n",
       "      <td>67.0</td>\n",
       "      <td>8.52</td>\n",
       "      <td>67.0</td>\n",
       "      <td>0.1</td>\n",
       "      <td>669.959000</td>\n",
       "      <td>3696958.0</td>\n",
       "      <td>17.9</td>\n",
       "      <td>0.463</td>\n",
       "      <td>9.8</td>\n",
       "    </tr>\n",
       "    <tr>\n",
       "      <th>4</th>\n",
       "      <td>0.01</td>\n",
       "      <td>7.097109</td>\n",
       "      <td>68.0</td>\n",
       "      <td>3013</td>\n",
       "      <td>17.2</td>\n",
       "      <td>68.0</td>\n",
       "      <td>7.87</td>\n",
       "      <td>68.0</td>\n",
       "      <td>0.1</td>\n",
       "      <td>63.537231</td>\n",
       "      <td>2978599.0</td>\n",
       "      <td>18.2</td>\n",
       "      <td>0.454</td>\n",
       "      <td>9.5</td>\n",
       "    </tr>\n",
       "  </tbody>\n",
       "</table>\n",
       "</div>"
      ],
      "text/plain": [
       "   Alcohol  percentage expenditure  Hepatitis B  Measles   BMI  Polio  \\\n",
       "0     0.01               71.279624         65.0     1154  19.1    6.0   \n",
       "1     0.01               73.523582         62.0      492  18.6   58.0   \n",
       "2     0.01               73.219243         64.0      430  18.1   62.0   \n",
       "3     0.01               78.184215         67.0     2787  17.6   67.0   \n",
       "4     0.01                7.097109         68.0     3013  17.2   68.0   \n",
       "\n",
       "   Total expenditure  Diphtheria  HIV/AIDS         GDP  Population  \\\n",
       "0               8.16        65.0       0.1  584.259210  33736494.0   \n",
       "1               8.18        62.0       0.1  612.696514    327582.0   \n",
       "2               8.13        64.0       0.1  631.744976  31731688.0   \n",
       "3               8.52        67.0       0.1  669.959000   3696958.0   \n",
       "4               7.87        68.0       0.1   63.537231   2978599.0   \n",
       "\n",
       "   thinness  1-19 years  Income composition of resources  Schooling  \n",
       "0                  17.2                            0.479       10.1  \n",
       "1                  17.5                            0.476       10.0  \n",
       "2                  17.7                            0.470        9.9  \n",
       "3                  17.9                            0.463        9.8  \n",
       "4                  18.2                            0.454        9.5  "
      ]
     },
     "execution_count": 53,
     "metadata": {},
     "output_type": "execute_result"
    }
   ],
   "source": [
    "X_who.head()"
   ]
  },
  {
   "cell_type": "code",
   "execution_count": 54,
   "metadata": {
    "cell_style": "split",
    "slideshow": {
     "slide_type": "fragment"
    }
   },
   "outputs": [
    {
     "data": {
      "text/plain": [
       "0    65.0\n",
       "1    59.9\n",
       "2    59.9\n",
       "3    59.5\n",
       "4    59.2\n",
       "Name: Life expectancy, dtype: float64"
      ]
     },
     "execution_count": 54,
     "metadata": {},
     "output_type": "execute_result"
    }
   ],
   "source": [
    "y_who.head()"
   ]
  },
  {
   "cell_type": "code",
   "execution_count": 55,
   "metadata": {
    "slideshow": {
     "slide_type": "fragment"
    }
   },
   "outputs": [],
   "source": [
    "# Train test split\n",
    "X_who_train, X_who_test, y_who_train, y_who_test = train_test_split(X_who, y_who, test_size = 0.3)"
   ]
  },
  {
   "cell_type": "code",
   "execution_count": 56,
   "metadata": {
    "slideshow": {
     "slide_type": "slide"
    }
   },
   "outputs": [],
   "source": [
    "params = {'max_depth': [3,4, 5], 'learning_rate': [.1, .3, .5],\n",
    "          'gamma': [0,5,10], 'colsample_bynode': [.5, .75, 1], 'n_estimators': [50,100, 150] }\n",
    "cv = GridSearchCV(estimator = XGBRegressor(objective='reg:squarederror'), scoring='neg_mean_absolute_error',\n",
    "                  param_grid = params, cv = 5)\n",
    "cv.fit(X_who_train, y_who_train);"
   ]
  },
  {
   "cell_type": "code",
   "execution_count": 57,
   "metadata": {
    "cell_style": "center",
    "slideshow": {
     "slide_type": "slide"
    }
   },
   "outputs": [
    {
     "data": {
      "text/plain": [
<<<<<<< HEAD
       "-1.6780187951117926"
=======
       "-1.6829698581304249"
>>>>>>> upstream/main
      ]
     },
     "execution_count": 57,
     "metadata": {},
     "output_type": "execute_result"
    }
   ],
   "source": [
    "cv.best_score_"
   ]
  },
  {
   "cell_type": "code",
   "execution_count": 58,
   "metadata": {
    "cell_style": "center",
    "slideshow": {
     "slide_type": "fragment"
    }
   },
   "outputs": [
    {
     "data": {
      "text/html": [
       "<style>#sk-container-id-4 {color: black;background-color: white;}#sk-container-id-4 pre{padding: 0;}#sk-container-id-4 div.sk-toggleable {background-color: white;}#sk-container-id-4 label.sk-toggleable__label {cursor: pointer;display: block;width: 100%;margin-bottom: 0;padding: 0.3em;box-sizing: border-box;text-align: center;}#sk-container-id-4 label.sk-toggleable__label-arrow:before {content: \"▸\";float: left;margin-right: 0.25em;color: #696969;}#sk-container-id-4 label.sk-toggleable__label-arrow:hover:before {color: black;}#sk-container-id-4 div.sk-estimator:hover label.sk-toggleable__label-arrow:before {color: black;}#sk-container-id-4 div.sk-toggleable__content {max-height: 0;max-width: 0;overflow: hidden;text-align: left;background-color: #f0f8ff;}#sk-container-id-4 div.sk-toggleable__content pre {margin: 0.2em;color: black;border-radius: 0.25em;background-color: #f0f8ff;}#sk-container-id-4 input.sk-toggleable__control:checked~div.sk-toggleable__content {max-height: 200px;max-width: 100%;overflow: auto;}#sk-container-id-4 input.sk-toggleable__control:checked~label.sk-toggleable__label-arrow:before {content: \"▾\";}#sk-container-id-4 div.sk-estimator input.sk-toggleable__control:checked~label.sk-toggleable__label {background-color: #d4ebff;}#sk-container-id-4 div.sk-label input.sk-toggleable__control:checked~label.sk-toggleable__label {background-color: #d4ebff;}#sk-container-id-4 input.sk-hidden--visually {border: 0;clip: rect(1px 1px 1px 1px);clip: rect(1px, 1px, 1px, 1px);height: 1px;margin: -1px;overflow: hidden;padding: 0;position: absolute;width: 1px;}#sk-container-id-4 div.sk-estimator {font-family: monospace;background-color: #f0f8ff;border: 1px dotted black;border-radius: 0.25em;box-sizing: border-box;margin-bottom: 0.5em;}#sk-container-id-4 div.sk-estimator:hover {background-color: #d4ebff;}#sk-container-id-4 div.sk-parallel-item::after {content: \"\";width: 100%;border-bottom: 1px solid gray;flex-grow: 1;}#sk-container-id-4 div.sk-label:hover label.sk-toggleable__label {background-color: #d4ebff;}#sk-container-id-4 div.sk-serial::before {content: \"\";position: absolute;border-left: 1px solid gray;box-sizing: border-box;top: 0;bottom: 0;left: 50%;z-index: 0;}#sk-container-id-4 div.sk-serial {display: flex;flex-direction: column;align-items: center;background-color: white;padding-right: 0.2em;padding-left: 0.2em;position: relative;}#sk-container-id-4 div.sk-item {position: relative;z-index: 1;}#sk-container-id-4 div.sk-parallel {display: flex;align-items: stretch;justify-content: center;background-color: white;position: relative;}#sk-container-id-4 div.sk-item::before, #sk-container-id-4 div.sk-parallel-item::before {content: \"\";position: absolute;border-left: 1px solid gray;box-sizing: border-box;top: 0;bottom: 0;left: 50%;z-index: -1;}#sk-container-id-4 div.sk-parallel-item {display: flex;flex-direction: column;z-index: 1;position: relative;background-color: white;}#sk-container-id-4 div.sk-parallel-item:first-child::after {align-self: flex-end;width: 50%;}#sk-container-id-4 div.sk-parallel-item:last-child::after {align-self: flex-start;width: 50%;}#sk-container-id-4 div.sk-parallel-item:only-child::after {width: 0;}#sk-container-id-4 div.sk-dashed-wrapped {border: 1px dashed gray;margin: 0 0.4em 0.5em 0.4em;box-sizing: border-box;padding-bottom: 0.4em;background-color: white;}#sk-container-id-4 div.sk-label label {font-family: monospace;font-weight: bold;display: inline-block;line-height: 1.2em;}#sk-container-id-4 div.sk-label-container {text-align: center;}#sk-container-id-4 div.sk-container {/* jupyter's `normalize.less` sets `[hidden] { display: none; }` but bootstrap.min.css set `[hidden] { display: none !important; }` so we also need the `!important` here to be able to override the default hidden behavior on the sphinx rendered scikit-learn.org. See: https://github.com/scikit-learn/scikit-learn/issues/21755 */display: inline-block !important;position: relative;}#sk-container-id-4 div.sk-text-repr-fallback {display: none;}</style><div id=\"sk-container-id-4\" class=\"sk-top-container\"><div class=\"sk-text-repr-fallback\"><pre>XGBRegressor(base_score=0.5, booster=&#x27;gbtree&#x27;, colsample_bylevel=1,\n",
       "             colsample_bynode=1, colsample_bytree=1, gamma=0, gpu_id=-1,\n",
       "             importance_type=&#x27;gain&#x27;, interaction_constraints=&#x27;&#x27;,\n",
       "             learning_rate=0.1, max_delta_step=0, max_depth=5,\n",
       "             min_child_weight=1, missing=nan, monotone_constraints=&#x27;()&#x27;,\n",
       "             n_estimators=150, n_jobs=0, num_parallel_tree=1, random_state=0,\n",
       "             reg_alpha=0, reg_lambda=1, scale_pos_weight=1, subsample=1,\n",
       "             tree_method=&#x27;exact&#x27;, validate_parameters=1, verbosity=None)</pre><b>In a Jupyter environment, please rerun this cell to show the HTML representation or trust the notebook. <br />On GitHub, the HTML representation is unable to render, please try loading this page with nbviewer.org.</b></div><div class=\"sk-container\" hidden><div class=\"sk-item\"><div class=\"sk-estimator sk-toggleable\"><input class=\"sk-toggleable__control sk-hidden--visually\" id=\"sk-estimator-id-4\" type=\"checkbox\" checked><label for=\"sk-estimator-id-4\" class=\"sk-toggleable__label sk-toggleable__label-arrow\">XGBRegressor</label><div class=\"sk-toggleable__content\"><pre>XGBRegressor(base_score=0.5, booster=&#x27;gbtree&#x27;, colsample_bylevel=1,\n",
       "             colsample_bynode=1, colsample_bytree=1, gamma=0, gpu_id=-1,\n",
       "             importance_type=&#x27;gain&#x27;, interaction_constraints=&#x27;&#x27;,\n",
       "             learning_rate=0.1, max_delta_step=0, max_depth=5,\n",
       "             min_child_weight=1, missing=nan, monotone_constraints=&#x27;()&#x27;,\n",
       "             n_estimators=150, n_jobs=0, num_parallel_tree=1, random_state=0,\n",
       "             reg_alpha=0, reg_lambda=1, scale_pos_weight=1, subsample=1,\n",
       "             tree_method=&#x27;exact&#x27;, validate_parameters=1, verbosity=None)</pre></div></div></div></div></div>"
      ],
      "text/plain": [
       "XGBRegressor(base_score=0.5, booster='gbtree', colsample_bylevel=1,\n",
<<<<<<< HEAD
       "             colsample_bynode=1, colsample_bytree=1, gamma=0, gpu_id=-1,\n",
       "             importance_type='gain', interaction_constraints='',\n",
       "             learning_rate=0.1, max_delta_step=0, max_depth=5,\n",
       "             min_child_weight=1, missing=nan, monotone_constraints='()',\n",
       "             n_estimators=150, n_jobs=0, num_parallel_tree=1, random_state=0,\n",
       "             reg_alpha=0, reg_lambda=1, scale_pos_weight=1, subsample=1,\n",
       "             tree_method='exact', validate_parameters=1, verbosity=None)"
=======
       "             colsample_bynode=0.5, colsample_bytree=1, enable_categorical=False,\n",
       "             gamma=0, gpu_id=-1, importance_type=None,\n",
       "             interaction_constraints='', learning_rate=0.1, max_delta_step=0,\n",
       "             max_depth=5, min_child_weight=1, missing=nan,\n",
       "             monotone_constraints='()', n_estimators=150, n_jobs=8,\n",
       "             num_parallel_tree=1, predictor='auto', random_state=0, reg_alpha=0,\n",
       "             reg_lambda=1, scale_pos_weight=1, subsample=1, tree_method='exact',\n",
       "             validate_parameters=1, verbosity=None)"
>>>>>>> upstream/main
      ]
     },
     "execution_count": 58,
     "metadata": {},
     "output_type": "execute_result"
    }
   ],
   "source": [
    "best_regressor = cv.best_estimator_\n",
    "best_regressor"
   ]
  },
  {
   "cell_type": "code",
   "execution_count": 59,
   "metadata": {
    "cell_style": "split",
    "slideshow": {
     "slide_type": "slide"
    }
   },
   "outputs": [],
   "source": [
    "best_regressor.fit(X_who_train, y_who_train)\n",
    "y_pred_train = best_regressor.predict(\n",
    "    X_who_train)\n",
    "y_pred_test = best_regressor.predict(X_who_test)"
   ]
  },
  {
   "cell_type": "code",
   "execution_count": 60,
   "metadata": {
    "cell_style": "split",
    "slideshow": {
     "slide_type": "slide"
    }
   },
   "outputs": [],
   "source": [
    "from sklearn.metrics import mean_absolute_error\n",
    "from sklearn.metrics import mean_squared_error\n",
    "from sklearn.metrics import r2_score\n"
   ]
  },
  {
   "cell_type": "code",
   "execution_count": 61,
   "metadata": {
    "cell_style": "split",
    "slideshow": {
     "slide_type": "slide"
    }
   },
   "outputs": [
    {
     "name": "stdout",
     "output_type": "stream",
     "text": [
<<<<<<< HEAD
      "1.6879625894565775\n"
=======
      "1.711768367266414\n"
>>>>>>> upstream/main
     ]
    }
   ],
   "source": [
    "MAE = mean_absolute_error(y_who_test, \n",
    "                          y_pred_test)\n",
    "print(MAE)"
   ]
  },
  {
   "cell_type": "code",
   "execution_count": 62,
   "metadata": {
    "cell_style": "split",
    "slideshow": {
     "slide_type": "fragment"
    }
   },
   "outputs": [
    {
     "name": "stdout",
     "output_type": "stream",
     "text": [
<<<<<<< HEAD
      "2.338171572899155\n"
=======
      "2.3691056645296333\n"
>>>>>>> upstream/main
     ]
    }
   ],
   "source": [
    "RMSE = np.sqrt(mean_squared_error(y_who_test,\n",
    "                                  y_pred_test))\n",
    "print(RMSE)"
   ]
  },
  {
   "cell_type": "markdown",
   "metadata": {
    "slideshow": {
     "slide_type": "slide"
    }
   },
   "source": [
    "Train and test: $R^2$ score"
   ]
  },
  {
   "cell_type": "code",
   "execution_count": 63,
   "metadata": {
    "cell_style": "split",
    "slideshow": {
     "slide_type": "fragment"
    }
   },
   "outputs": [
    {
     "data": {
      "text/plain": [
<<<<<<< HEAD
       "0.9906344524704535"
=======
       "0.9896355610015164"
>>>>>>> upstream/main
      ]
     },
     "execution_count": 63,
     "metadata": {},
     "output_type": "execute_result"
    }
   ],
   "source": [
    "r2_score(y_who_train, y_pred_train)"
   ]
  },
  {
   "cell_type": "code",
   "execution_count": 64,
   "metadata": {
    "cell_style": "split",
    "slideshow": {
     "slide_type": "fragment"
    }
   },
   "outputs": [
    {
     "data": {
      "text/plain": [
<<<<<<< HEAD
       "0.9302163729053551"
=======
       "0.9249631924646295"
>>>>>>> upstream/main
      ]
     },
     "execution_count": 64,
     "metadata": {},
     "output_type": "execute_result"
    }
   ],
   "source": [
    "r2_score(y_who_test, y_pred_test)"
   ]
  },
  {
   "cell_type": "markdown",
   "metadata": {
    "slideshow": {
     "slide_type": "slide"
    }
   },
   "source": [
    "Comparing this to our simple multiple linear regression:\n",
    "- $R^2 = 0.76$ \n",
    "- MAE of ~3.5.\n",
    "- Had to carefully remove correlated features.\n",
    "- Standardize for feature weight importance or regularization.\n"
   ]
  },
  {
   "cell_type": "code",
   "execution_count": 65,
   "metadata": {
    "cell_style": "center",
    "scrolled": true,
    "slideshow": {
     "slide_type": "slide"
    }
   },
   "outputs": [
    {
     "data": {
<<<<<<< HEAD
      "image/png": "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\n",
=======
      "image/png": "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\n",
>>>>>>> upstream/main
      "text/plain": [
       "<Figure size 432x288 with 1 Axes>"
      ]
     },
     "metadata": {
      "needs_background": "light"
     },
     "output_type": "display_data"
    }
   ],
   "source": [
    "feat_imp = pd.Series(best_regressor.feature_importances_,\n",
    "             index = X_who.columns).sort_values(ascending = False)\n",
    "fig, ax = plt.subplots()\n",
    "feat_imp.plot(kind = 'barh', ax = ax)\n",
    "ax.set_xlabel('Feature Importance')\n",
    "ax.set_title('XGB Regressor: Feature Importances')\n",
    "plt.show()"
   ]
  },
  {
   "cell_type": "markdown",
   "metadata": {
    "cell_style": "center",
    "slideshow": {
     "slide_type": "slide"
    }
   },
   "source": [
    "Exact same with classification:\n",
    "- XGBClassifier()\n",
    "- basically same hyperparameters\n",
    "- just different objective function\n"
   ]
  },
  {
   "cell_type": "markdown",
   "metadata": {
    "cell_style": "center",
    "slideshow": {
     "slide_type": "slide"
    }
   },
   "source": [
    "#### Gradient boosting\n",
    "\n",
    "- Needs tuning\n",
    "- But extremely fast and effective (as has been seen)\n",
    "- Along with random forest: workhorse of classification/regression in many professional workflows."
   ]
  }
 ],
 "metadata": {
  "celltoolbar": "Slideshow",
  "kernelspec": {
   "display_name": "Python (learn-env)",
   "language": "python",
   "name": "learn-env"
  },
  "language_info": {
   "codemirror_mode": {
    "name": "ipython",
    "version": 3
   },
   "file_extension": ".py",
   "mimetype": "text/x-python",
   "name": "python",
   "nbconvert_exporter": "python",
   "pygments_lexer": "ipython3",
   "version": "3.8.5"
  }
 },
 "nbformat": 4,
 "nbformat_minor": 2
}
